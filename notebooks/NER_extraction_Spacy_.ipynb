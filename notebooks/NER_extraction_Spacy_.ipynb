{
  "nbformat": 4,
  "nbformat_minor": 0,
  "metadata": {
    "colab": {
      "provenance": [],
      "include_colab_link": true
    },
    "kernelspec": {
      "name": "python3",
      "display_name": "Python 3"
    },
    "language_info": {
      "name": "python"
    }
  },
  "cells": [
    {
      "cell_type": "markdown",
      "metadata": {
        "id": "view-in-github",
        "colab_type": "text"
      },
      "source": [
        "<a href=\"https://colab.research.google.com/github/JehadOumer/Arabic-Fake-News-Detection-Machine-Learning-Experiments/blob/main/notebooks/NER_extraction_Spacy_.ipynb\" target=\"_parent\"><img src=\"https://colab.research.google.com/assets/colab-badge.svg\" alt=\"Open In Colab\"/></a>"
      ]
    },
    {
      "cell_type": "code",
      "execution_count": null,
      "metadata": {
        "colab": {
          "base_uri": "https://localhost:8080/"
        },
        "id": "FGlmTkxFmqOA",
        "outputId": "a7d53a5b-355d-4324-d37d-84e13d11972a"
      },
      "outputs": [
        {
          "output_type": "stream",
          "name": "stdout",
          "text": [
            "Mounted at /content/drive\n"
          ]
        }
      ],
      "source": [
        "from google.colab import drive\n",
        "drive.mount('/content/drive') \n",
        "\n",
        "import pandas as pd"
      ]
    },
    {
      "cell_type": "markdown",
      "source": [
        "do not run below line - jehad"
      ],
      "metadata": {
        "id": "bTu0QkZ9CVsY"
      }
    },
    {
      "cell_type": "code",
      "source": [
        "cd \"/content/drive/MyDrive/LCT Courses/NLP Applications 2/APP II-FINAL PROJECT\""
      ],
      "metadata": {
        "colab": {
          "base_uri": "https://localhost:8080/"
        },
        "id": "gZGPbzvgBfmB",
        "outputId": "e349e9f9-d811-48cb-c82e-6cb54e9fd75e"
      },
      "execution_count": null,
      "outputs": [
        {
          "output_type": "stream",
          "name": "stdout",
          "text": [
            "/content/drive/.shortcut-targets-by-id/1XEy1wqrAkSUBTAL6hPR4p7-Su4aMDubx/APP II-FINAL PROJECT\n"
          ]
        }
      ]
    },
    {
      "cell_type": "code",
      "source": [
        "data_dir = \"/content/drive/My Drive/APP II-FINAL PROJECT/data/paragraphs.csv\"\n"
      ],
      "metadata": {
        "id": "84nxE8Z_nZgZ"
      },
      "execution_count": null,
      "outputs": []
    },
    {
      "cell_type": "code",
      "source": [
        "data_Spacy = pd.read_csv(data_dir)"
      ],
      "metadata": {
        "id": "GaIlJulIntEG",
        "colab": {
          "base_uri": "https://localhost:8080/",
          "height": 331
        },
        "outputId": "4696cdd9-af9b-4f9d-a056-8e7e3de5c0ef"
      },
      "execution_count": null,
      "outputs": [
        {
          "output_type": "error",
          "ename": "FileNotFoundError",
          "evalue": "ignored",
          "traceback": [
            "\u001b[0;31m---------------------------------------------------------------------------\u001b[0m",
            "\u001b[0;31mFileNotFoundError\u001b[0m                         Traceback (most recent call last)",
            "\u001b[0;32m<ipython-input-3-1887481d29be>\u001b[0m in \u001b[0;36m<cell line: 1>\u001b[0;34m()\u001b[0m\n\u001b[0;32m----> 1\u001b[0;31m \u001b[0mdata_Spacy\u001b[0m \u001b[0;34m=\u001b[0m \u001b[0mpd\u001b[0m\u001b[0;34m.\u001b[0m\u001b[0mread_csv\u001b[0m\u001b[0;34m(\u001b[0m\u001b[0mdata_dir\u001b[0m\u001b[0;34m)\u001b[0m\u001b[0;34m\u001b[0m\u001b[0;34m\u001b[0m\u001b[0m\n\u001b[0m",
            "\u001b[0;32m/usr/local/lib/python3.10/dist-packages/pandas/util/_decorators.py\u001b[0m in \u001b[0;36mwrapper\u001b[0;34m(*args, **kwargs)\u001b[0m\n\u001b[1;32m    209\u001b[0m                 \u001b[0;32melse\u001b[0m\u001b[0;34m:\u001b[0m\u001b[0;34m\u001b[0m\u001b[0;34m\u001b[0m\u001b[0m\n\u001b[1;32m    210\u001b[0m                     \u001b[0mkwargs\u001b[0m\u001b[0;34m[\u001b[0m\u001b[0mnew_arg_name\u001b[0m\u001b[0;34m]\u001b[0m \u001b[0;34m=\u001b[0m \u001b[0mnew_arg_value\u001b[0m\u001b[0;34m\u001b[0m\u001b[0;34m\u001b[0m\u001b[0m\n\u001b[0;32m--> 211\u001b[0;31m             \u001b[0;32mreturn\u001b[0m \u001b[0mfunc\u001b[0m\u001b[0;34m(\u001b[0m\u001b[0;34m*\u001b[0m\u001b[0margs\u001b[0m\u001b[0;34m,\u001b[0m \u001b[0;34m**\u001b[0m\u001b[0mkwargs\u001b[0m\u001b[0;34m)\u001b[0m\u001b[0;34m\u001b[0m\u001b[0;34m\u001b[0m\u001b[0m\n\u001b[0m\u001b[1;32m    212\u001b[0m \u001b[0;34m\u001b[0m\u001b[0m\n\u001b[1;32m    213\u001b[0m         \u001b[0;32mreturn\u001b[0m \u001b[0mcast\u001b[0m\u001b[0;34m(\u001b[0m\u001b[0mF\u001b[0m\u001b[0;34m,\u001b[0m \u001b[0mwrapper\u001b[0m\u001b[0;34m)\u001b[0m\u001b[0;34m\u001b[0m\u001b[0;34m\u001b[0m\u001b[0m\n",
            "\u001b[0;32m/usr/local/lib/python3.10/dist-packages/pandas/util/_decorators.py\u001b[0m in \u001b[0;36mwrapper\u001b[0;34m(*args, **kwargs)\u001b[0m\n\u001b[1;32m    329\u001b[0m                     \u001b[0mstacklevel\u001b[0m\u001b[0;34m=\u001b[0m\u001b[0mfind_stack_level\u001b[0m\u001b[0;34m(\u001b[0m\u001b[0;34m)\u001b[0m\u001b[0;34m,\u001b[0m\u001b[0;34m\u001b[0m\u001b[0;34m\u001b[0m\u001b[0m\n\u001b[1;32m    330\u001b[0m                 )\n\u001b[0;32m--> 331\u001b[0;31m             \u001b[0;32mreturn\u001b[0m \u001b[0mfunc\u001b[0m\u001b[0;34m(\u001b[0m\u001b[0;34m*\u001b[0m\u001b[0margs\u001b[0m\u001b[0;34m,\u001b[0m \u001b[0;34m**\u001b[0m\u001b[0mkwargs\u001b[0m\u001b[0;34m)\u001b[0m\u001b[0;34m\u001b[0m\u001b[0;34m\u001b[0m\u001b[0m\n\u001b[0m\u001b[1;32m    332\u001b[0m \u001b[0;34m\u001b[0m\u001b[0m\n\u001b[1;32m    333\u001b[0m         \u001b[0;31m# error: \"Callable[[VarArg(Any), KwArg(Any)], Any]\" has no\u001b[0m\u001b[0;34m\u001b[0m\u001b[0;34m\u001b[0m\u001b[0m\n",
            "\u001b[0;32m/usr/local/lib/python3.10/dist-packages/pandas/io/parsers/readers.py\u001b[0m in \u001b[0;36mread_csv\u001b[0;34m(filepath_or_buffer, sep, delimiter, header, names, index_col, usecols, squeeze, prefix, mangle_dupe_cols, dtype, engine, converters, true_values, false_values, skipinitialspace, skiprows, skipfooter, nrows, na_values, keep_default_na, na_filter, verbose, skip_blank_lines, parse_dates, infer_datetime_format, keep_date_col, date_parser, dayfirst, cache_dates, iterator, chunksize, compression, thousands, decimal, lineterminator, quotechar, quoting, doublequote, escapechar, comment, encoding, encoding_errors, dialect, error_bad_lines, warn_bad_lines, on_bad_lines, delim_whitespace, low_memory, memory_map, float_precision, storage_options)\u001b[0m\n\u001b[1;32m    948\u001b[0m     \u001b[0mkwds\u001b[0m\u001b[0;34m.\u001b[0m\u001b[0mupdate\u001b[0m\u001b[0;34m(\u001b[0m\u001b[0mkwds_defaults\u001b[0m\u001b[0;34m)\u001b[0m\u001b[0;34m\u001b[0m\u001b[0;34m\u001b[0m\u001b[0m\n\u001b[1;32m    949\u001b[0m \u001b[0;34m\u001b[0m\u001b[0m\n\u001b[0;32m--> 950\u001b[0;31m     \u001b[0;32mreturn\u001b[0m \u001b[0m_read\u001b[0m\u001b[0;34m(\u001b[0m\u001b[0mfilepath_or_buffer\u001b[0m\u001b[0;34m,\u001b[0m \u001b[0mkwds\u001b[0m\u001b[0;34m)\u001b[0m\u001b[0;34m\u001b[0m\u001b[0;34m\u001b[0m\u001b[0m\n\u001b[0m\u001b[1;32m    951\u001b[0m \u001b[0;34m\u001b[0m\u001b[0m\n\u001b[1;32m    952\u001b[0m \u001b[0;34m\u001b[0m\u001b[0m\n",
            "\u001b[0;32m/usr/local/lib/python3.10/dist-packages/pandas/io/parsers/readers.py\u001b[0m in \u001b[0;36m_read\u001b[0;34m(filepath_or_buffer, kwds)\u001b[0m\n\u001b[1;32m    603\u001b[0m \u001b[0;34m\u001b[0m\u001b[0m\n\u001b[1;32m    604\u001b[0m     \u001b[0;31m# Create the parser.\u001b[0m\u001b[0;34m\u001b[0m\u001b[0;34m\u001b[0m\u001b[0m\n\u001b[0;32m--> 605\u001b[0;31m     \u001b[0mparser\u001b[0m \u001b[0;34m=\u001b[0m \u001b[0mTextFileReader\u001b[0m\u001b[0;34m(\u001b[0m\u001b[0mfilepath_or_buffer\u001b[0m\u001b[0;34m,\u001b[0m \u001b[0;34m**\u001b[0m\u001b[0mkwds\u001b[0m\u001b[0;34m)\u001b[0m\u001b[0;34m\u001b[0m\u001b[0;34m\u001b[0m\u001b[0m\n\u001b[0m\u001b[1;32m    606\u001b[0m \u001b[0;34m\u001b[0m\u001b[0m\n\u001b[1;32m    607\u001b[0m     \u001b[0;32mif\u001b[0m \u001b[0mchunksize\u001b[0m \u001b[0;32mor\u001b[0m \u001b[0miterator\u001b[0m\u001b[0;34m:\u001b[0m\u001b[0;34m\u001b[0m\u001b[0;34m\u001b[0m\u001b[0m\n",
            "\u001b[0;32m/usr/local/lib/python3.10/dist-packages/pandas/io/parsers/readers.py\u001b[0m in \u001b[0;36m__init__\u001b[0;34m(self, f, engine, **kwds)\u001b[0m\n\u001b[1;32m   1440\u001b[0m \u001b[0;34m\u001b[0m\u001b[0m\n\u001b[1;32m   1441\u001b[0m         \u001b[0mself\u001b[0m\u001b[0;34m.\u001b[0m\u001b[0mhandles\u001b[0m\u001b[0;34m:\u001b[0m \u001b[0mIOHandles\u001b[0m \u001b[0;34m|\u001b[0m \u001b[0;32mNone\u001b[0m \u001b[0;34m=\u001b[0m \u001b[0;32mNone\u001b[0m\u001b[0;34m\u001b[0m\u001b[0;34m\u001b[0m\u001b[0m\n\u001b[0;32m-> 1442\u001b[0;31m         \u001b[0mself\u001b[0m\u001b[0;34m.\u001b[0m\u001b[0m_engine\u001b[0m \u001b[0;34m=\u001b[0m \u001b[0mself\u001b[0m\u001b[0;34m.\u001b[0m\u001b[0m_make_engine\u001b[0m\u001b[0;34m(\u001b[0m\u001b[0mf\u001b[0m\u001b[0;34m,\u001b[0m \u001b[0mself\u001b[0m\u001b[0;34m.\u001b[0m\u001b[0mengine\u001b[0m\u001b[0;34m)\u001b[0m\u001b[0;34m\u001b[0m\u001b[0;34m\u001b[0m\u001b[0m\n\u001b[0m\u001b[1;32m   1443\u001b[0m \u001b[0;34m\u001b[0m\u001b[0m\n\u001b[1;32m   1444\u001b[0m     \u001b[0;32mdef\u001b[0m \u001b[0mclose\u001b[0m\u001b[0;34m(\u001b[0m\u001b[0mself\u001b[0m\u001b[0;34m)\u001b[0m \u001b[0;34m->\u001b[0m \u001b[0;32mNone\u001b[0m\u001b[0;34m:\u001b[0m\u001b[0;34m\u001b[0m\u001b[0;34m\u001b[0m\u001b[0m\n",
            "\u001b[0;32m/usr/local/lib/python3.10/dist-packages/pandas/io/parsers/readers.py\u001b[0m in \u001b[0;36m_make_engine\u001b[0;34m(self, f, engine)\u001b[0m\n\u001b[1;32m   1733\u001b[0m                 \u001b[0;32mif\u001b[0m \u001b[0;34m\"b\"\u001b[0m \u001b[0;32mnot\u001b[0m \u001b[0;32min\u001b[0m \u001b[0mmode\u001b[0m\u001b[0;34m:\u001b[0m\u001b[0;34m\u001b[0m\u001b[0;34m\u001b[0m\u001b[0m\n\u001b[1;32m   1734\u001b[0m                     \u001b[0mmode\u001b[0m \u001b[0;34m+=\u001b[0m \u001b[0;34m\"b\"\u001b[0m\u001b[0;34m\u001b[0m\u001b[0;34m\u001b[0m\u001b[0m\n\u001b[0;32m-> 1735\u001b[0;31m             self.handles = get_handle(\n\u001b[0m\u001b[1;32m   1736\u001b[0m                 \u001b[0mf\u001b[0m\u001b[0;34m,\u001b[0m\u001b[0;34m\u001b[0m\u001b[0;34m\u001b[0m\u001b[0m\n\u001b[1;32m   1737\u001b[0m                 \u001b[0mmode\u001b[0m\u001b[0;34m,\u001b[0m\u001b[0;34m\u001b[0m\u001b[0;34m\u001b[0m\u001b[0m\n",
            "\u001b[0;32m/usr/local/lib/python3.10/dist-packages/pandas/io/common.py\u001b[0m in \u001b[0;36mget_handle\u001b[0;34m(path_or_buf, mode, encoding, compression, memory_map, is_text, errors, storage_options)\u001b[0m\n\u001b[1;32m    854\u001b[0m         \u001b[0;32mif\u001b[0m \u001b[0mioargs\u001b[0m\u001b[0;34m.\u001b[0m\u001b[0mencoding\u001b[0m \u001b[0;32mand\u001b[0m \u001b[0;34m\"b\"\u001b[0m \u001b[0;32mnot\u001b[0m \u001b[0;32min\u001b[0m \u001b[0mioargs\u001b[0m\u001b[0;34m.\u001b[0m\u001b[0mmode\u001b[0m\u001b[0;34m:\u001b[0m\u001b[0;34m\u001b[0m\u001b[0;34m\u001b[0m\u001b[0m\n\u001b[1;32m    855\u001b[0m             \u001b[0;31m# Encoding\u001b[0m\u001b[0;34m\u001b[0m\u001b[0;34m\u001b[0m\u001b[0m\n\u001b[0;32m--> 856\u001b[0;31m             handle = open(\n\u001b[0m\u001b[1;32m    857\u001b[0m                 \u001b[0mhandle\u001b[0m\u001b[0;34m,\u001b[0m\u001b[0;34m\u001b[0m\u001b[0;34m\u001b[0m\u001b[0m\n\u001b[1;32m    858\u001b[0m                 \u001b[0mioargs\u001b[0m\u001b[0;34m.\u001b[0m\u001b[0mmode\u001b[0m\u001b[0;34m,\u001b[0m\u001b[0;34m\u001b[0m\u001b[0;34m\u001b[0m\u001b[0m\n",
            "\u001b[0;31mFileNotFoundError\u001b[0m: [Errno 2] No such file or directory: '/content/drive/My Drive/APP II-FINAL PROJECT/data/paragraphs.csv'"
          ]
        }
      ]
    },
    {
      "cell_type": "code",
      "source": [
        "print(data_Spacy)\n",
        "print(data_Spacy.shape)"
      ],
      "metadata": {
        "colab": {
          "base_uri": "https://localhost:8080/"
        },
        "id": "4RRQxC_drL53",
        "outputId": "600494fc-136c-4ff1-8bce-2a10f6bd0030"
      },
      "execution_count": null,
      "outputs": [
        {
          "output_type": "stream",
          "name": "stdout",
          "text": [
            "                                            paragraph               name\n",
            "0   Barack Obama, the charismatic leader made hist...       Barack Obama\n",
            "1   In the annals of American history, few names r...       Barack Obama\n",
            "2   Barack Obama, the transformative figure in Ame...       Barack Obama\n",
            "3   Malala Yousafzai has become a global symbol of...   Malala Yousafzai\n",
            "4   The name Malala Yousafzai reverberates with th...   Malala Yousafzai\n",
            "5   Malala Yousafzai, the embodiment of bravery an...   Malala Yousafzai\n",
            "6   Beyoncé,  has left an indelible mark on the mu...            Beyoncé\n",
            "7   Beyoncé, the multi-talented American sensation...            Beyoncé\n",
            "8   Beyoncé, the embodiment of talent and grace, h...            Beyoncé\n",
            "9   J.K. Rowling has captured the hearts and imagi...       J.K. Rowling\n",
            "10  J.K. Rowling, the visionary behind the beloved...       J.K. Rowling\n",
            "11  J.K. Rowling, the imaginative wordsmith, has b...       J.K. Rowling\n",
            "12  Oprah Winfrey, a trailblazing figure in the wo...      Oprah Winfrey\n",
            "13  The name Oprah Winfrey is synonymous with infl...      Oprah Winfrey\n",
            "14  Oprah Winfrey, a true icon of our time, has re...      Oprah Winfrey\n",
            "15  Emma Watson,  advocate for gender equality, ha...        Emma Watson\n",
            "16  Emma Watson, the epitome of grace and talent, ...        Emma Watson\n",
            "17  Emma Watson, a true force of inspiration, has ...        Emma Watson\n",
            "18  Angela Merkel, a remarkable figure in global p...      Angela Merkel\n",
            "19  Angela Merkel, a formidable presence in the re...      Angela Merkel\n",
            "20  Angela Merkel, a prominent figure in contempor...      Angela Merkel\n",
            "21  Nelson Mandela, an extraordinary leader and sy...     Nelson Mandela\n",
            "22  Nelson Mandela, an extraordinary visionary and...     Nelson Mandela\n",
            "23  Nelson Mandela, an iconic figure in the strugg...     Nelson Mandela\n",
            "24  Michelle Obama, a remarkable figure in the pub...     Michelle Obama\n",
            "25  Michelle Obama, a beacon of inspiration, has u...     Michelle Obama\n",
            "26  Michelle Obama, a source of inspiration and st...     Michelle Obama\n",
            "27  Known for her mesmerizing lyrics and captivati...       Taylor Swift\n",
            "28  Taylor Swift, a trailblazing force in the musi...       Taylor Swift\n",
            "29  Taylor Swift, a creative powerhouse, has carve...       Taylor Swift\n",
            "30  Known for her infectious humor and magnetic ch...    Ellen DeGeneres\n",
            "31  Ellen DeGeneres, an influential figure in the ...    Ellen DeGeneres\n",
            "32  Ellen DeGeneres, a comedic powerhouse, has cap...    Ellen DeGeneres\n",
            "33  Serena Williams, a force to be reckoned with, ...    Serena Williams\n",
            "34  In the realm of sports, Serena Williams has be...    Serena Williams\n",
            "35  Serena Williams, a true icon in the world of s...    Serena Williams\n",
            "36  Cristiano Ronaldo, an athletic phenomenon, has...  Cristiano Ronaldo\n",
            "37  In the realm of football, Cristiano Ronaldo's ...  Cristiano Ronaldo\n",
            "38  Cristiano Ronaldo, a living legend in the worl...  Cristiano Ronaldo\n",
            "39  Billie Eilish, a rising star in the music indu...      Billie Eilish\n",
            "40  With her mesmerizing vocals and soulful storyt...      Billie Eilish\n",
            "41  Billie Eilish, a prodigious talent, has taken ...      Billie Eilish\n",
            "42  Kamala Harris, a trailblazing figure in politi...      Kamala Harris\n",
            "43  With her unwavering determination and dedicati...      Kamala Harris\n",
            "44  Kamala Harris, a trailblazer in the realm of p...      Kamala Harris\n",
            "45  Priyanka Chopra, a versatile talent, has garne...    Priyanka Chopra\n",
            "46  Recognized for her captivating performances an...    Priyanka Chopra\n",
            "47  Priyanka Chopra, an international sensation, h...    Priyanka Chopra\n",
            "48  Adele, a vocal powerhouse and soulful storytel...              Adele\n",
            "49  With her unparalleled vocal range and heartfel...              Adele\n",
            "50  Adele, a true vocal sensation, has made an ind...              Adele\n",
            "51  Stephen Hawking, a brilliant mind in the world...    Stephen Hawking\n",
            "52  With his exceptional intellect and insatiable ...    Stephen Hawking\n",
            "53  Stephen Hawking, a luminary in the scientific ...    Stephen Hawking\n",
            "54  Meghan Markle, an influential figure in contem...      Meghan Markle\n",
            "55  With her remarkable poise and unwavering commi...      Meghan Markle\n",
            "56  Meghan Markle, an inspirational figure, has us...      Meghan Markle\n",
            "57  Tim Cook, a visionary leader, has made signifi...           Tim Cook\n",
            "58  With his exceptional leadership skills and for...           Tim Cook\n",
            "59  Tim Cook, a prominent figure in the technology...           Tim Cook\n",
            "(60, 2)\n"
          ]
        }
      ]
    },
    {
      "cell_type": "code",
      "source": [
        "!pip install -U spacy"
      ],
      "metadata": {
        "id": "EDSJLuvcsdeh"
      },
      "execution_count": null,
      "outputs": []
    },
    {
      "cell_type": "code",
      "source": [
        "import spacy"
      ],
      "metadata": {
        "id": "2RFeT7aHthCG"
      },
      "execution_count": null,
      "outputs": []
    },
    {
      "cell_type": "code",
      "source": [
        "nlp = spacy.load(\"en_core_web_sm\")\n",
        "\n",
        "for index, row in data_Spacy.iterrows():\n",
        "    paragraph = row['paragraph']\n",
        "    doc = nlp(paragraph)\n",
        "    entities = [(entity.text, entity.label_) for entity in doc.ents]\n",
        "    print(f\"Row {index+1}: {entities}\")"
      ],
      "metadata": {
        "colab": {
          "base_uri": "https://localhost:8080/"
        },
        "id": "hOUjCYhfti4d",
        "outputId": "a899f768-276e-4770-9f95-f06f133b3725"
      },
      "execution_count": null,
      "outputs": [
        {
          "output_type": "stream",
          "name": "stdout",
          "text": [
            "Row 1: [('Barack Obama', 'PERSON'), ('Obama', 'GPE'), ('American', 'NORP'), ('the Affordable Care Act', 'LAW'), ('millions', 'CARDINAL'), ('Americans', 'NORP'), ('Obama', 'PERSON')]\n",
            "Row 2: [('American', 'NORP'), ('Barack Obama', 'PERSON'), ('first', 'ORDINAL'), ('African American', 'NORP'), ('Obama', 'PERSON'), ('Obama', 'GPE'), ('the United States', 'GPE')]\n",
            "Row 3: [('Barack Obama', 'PERSON'), ('American', 'NORP'), ('the White House', 'ORG'), ('first', 'ORDINAL'), ('African American', 'NORP'), ('Obama', 'PERSON'), ('the Lily Ledbetter Fair Pay Act', 'ORG'), ('the United States', 'GPE'), ('Obama', 'PERSON'), ('the United States', 'GPE'), ('tomorrow', 'DATE')]\n",
            "Row 4: [('Malala Yousafzai', 'PERSON'), ('the Swat Valley', 'LOC'), ('Pakistan', 'GPE'), ('Malala', 'GPE'), ('Taliban', 'ORG'), ('her Malala Fund', 'ORG'), ('Malala', 'PERSON'), ('millions', 'CARDINAL')]\n",
            "Row 5: [('Malala Yousafzai', 'PERSON'), ('Pakistan', 'GPE'), ('Taliban', 'ORG'), ('Malala', 'PERSON'), ('Nobel', 'WORK_OF_ART'), ('Malala', 'PERSON')]\n",
            "Row 6: [('Malala Yousafzai', 'PERSON'), ('the Swat Valley', 'LOC'), ('Pakistan', 'GPE'), ('Taliban', 'ORG'), ('Malala', 'PERSON'), ('Nobel Prize', 'WORK_OF_ART'), ('Malala', 'PERSON')]\n",
            "Row 7: [('Beyoncé', 'ORG'), ('early days', 'DATE'), (\"Destiny's Child\", 'ORG'), ('Beyoncé', 'ORG'), ('Beyoncé', 'ORG'), ('\"The Lion King', 'WORK_OF_ART')]\n",
            "Row 8: [('Beyoncé', 'ORG'), ('American', 'NORP'), ('Beyoncé', 'ORG'), ('Beyoncé', 'ORG')]\n",
            "Row 9: [('Beyoncé', 'ORG'), ('two decades', 'DATE'), ('Grammy Awards', 'ORG'), ('Time', 'ORG'), ('100', 'CARDINAL'), ('Beyoncé', 'ORG'), ('R&B', 'ORG'), ('Beyoncé', 'ORG')]\n",
            "Row 10: [('J.K. Rowling', 'ORG'), ('millions', 'CARDINAL'), ('Harry Potter', 'PERSON'), ('Rowling', 'PERSON'), ('Rowling', 'PERSON')]\n",
            "Row 11: [('J.K. Rowling', 'PERSON'), ('Harry Potter', 'PERSON'), ('Rowling', 'PERSON'), ('Rowling', 'PERSON')]\n",
            "Row 12: [('J.K. Rowling', 'PERSON'), ('Harry Potter', 'PERSON'), ('Rowling', 'PERSON'), ('millions', 'CARDINAL'), ('Harry Potter', 'PERSON'), ('Dumbledore', 'PERSON'), ('Rowling', 'PERSON')]\n",
            "Row 13: [('Oprah Winfrey', 'PERSON'), ('millions', 'CARDINAL'), ('Oprah', 'PERSON'), ('Oprah', 'PERSON')]\n",
            "Row 14: [('Oprah Winfrey', 'PERSON'), ('Oprah', 'PERSON'), ('Oprah', 'PERSON')]\n",
            "Row 15: [('Oprah Winfrey', 'PERSON'), ('Oprah', 'PERSON'), ('millions', 'CARDINAL'), ('Oprah', 'PERSON'), ('Oprah', 'PERSON')]\n",
            "Row 16: [('Emma Watson', 'PERSON'), ('Hermione Granger', 'PERSON'), ('Harry Potter', 'PERSON'), ('Watson', 'PERSON'), ('Watson', 'PERSON'), ('HeForShe', 'EVENT'), ('UN', 'ORG'), ('Goodwill', 'PERSON')]\n",
            "Row 17: [('Emma Watson', 'PERSON'), ('her early days', 'DATE'), ('Belle', 'GPE'), ('Beauty and the Beast', 'WORK_OF_ART'), ('Watson', 'PERSON'), ('Time', 'ORG')]\n",
            "Row 18: [('Emma Watson', 'PERSON'), ('Watson', 'PERSON'), ('#MeToo', 'MONEY'), ('UN', 'ORG'), ('Goodwill', 'PERSON'), ('Watson', 'PERSON')]\n",
            "Row 19: [('Angela Merkel', 'PERSON'), ('Merkel', 'PERSON'), ('Germany', 'GPE'), ('Merkel', 'PERSON'), ('democratic', 'NORP'), ('European', 'NORP'), ('Germany', 'GPE')]\n",
            "Row 20: [('Angela Merkel', 'PERSON'), ('Germany', 'GPE'), ('Merkel', 'PERSON'), ('the European Union', 'ORG'), ('Merkel', 'PERSON')]\n",
            "Row 21: [('Angela Merkel', 'PERSON'), ('Germany', 'GPE'), ('Merkel', 'PERSON'), ('democratic', 'NORP'), ('Merkel', 'PERSON'), ('European', 'NORP'), ('Germany', 'GPE')]\n",
            "Row 22: [('Nelson Mandela', 'PERSON'), ('Mandela', 'PERSON'), ('South Africa', 'GPE'), ('decades', 'DATE'), ('Mandela', 'PERSON'), ('Mandela', 'PERSON')]\n",
            "Row 23: [('Nelson Mandela', 'PERSON'), ('27 years', 'DATE'), ('Mandela', 'PERSON'), ('South Africa', 'GPE'), ('Mandela', 'PERSON')]\n",
            "Row 24: [('Nelson Mandela', 'PERSON'), ('Mandela', 'PERSON'), ('millions', 'CARDINAL'), ('Mandela', 'PERSON'), ('democratic', 'NORP')]\n",
            "Row 25: [('Michelle Obama', 'PERSON'), ('Michelle', 'PERSON')]\n",
            "Row 26: [('Michelle Obama', 'PERSON'), ('Michelle', 'PERSON'), ('Michelle', 'PERSON')]\n",
            "Row 27: [('Michelle Obama', 'PERSON'), ('Michelle', 'PERSON'), ('Michelle', 'PERSON')]\n",
            "Row 28: [('Taylor Swift', 'PERSON'), ('millions', 'CARDINAL'), ('Swift', 'PERSON'), ('Swift', 'PERSON')]\n",
            "Row 29: [('Taylor Swift', 'PERSON'), ('Swift', 'PERSON')]\n",
            "Row 30: [('Taylor Swift', 'PERSON'), ('Swift', 'PERSON'), ('Swift', 'PERSON'), ('today', 'DATE')]\n",
            "Row 31: [('Ellen DeGeneres', 'PERSON'), ('DeGeneres', 'PERSON'), ('millions', 'CARDINAL')]\n",
            "Row 32: [('Ellen DeGeneres', 'PERSON')]\n",
            "Row 33: [('Ellen DeGeneres', 'PERSON')]\n",
            "Row 34: [('Serena Williams', 'PERSON'), ('Williams', 'PERSON'), ('Grand Slam', 'ORG'), (\"Serena Williams'\", 'PERSON')]\n",
            "Row 35: [('Serena Williams', 'PERSON'), ('Williams', 'PERSON'), ('Williams', 'PERSON')]\n",
            "Row 36: [('Serena Williams', 'PERSON'), ('Williams', 'PERSON'), ('Grand Slam', 'GPE'), (\"Serena Williams'\", 'PERSON')]\n",
            "Row 37: [('Cristiano Ronaldo', 'PERSON'), ('Ronaldo', 'PERSON'), ('Ronaldo', 'PERSON')]\n",
            "Row 38: [(\"Cristiano Ronaldo's\", 'PERSON'), ('Ronaldo', 'PERSON'), ('Champions League', 'ORG'), ('Ronaldo', 'PERSON')]\n",
            "Row 39: [('Cristiano Ronaldo', 'PERSON'), ('Ronaldo', 'ORG'), ('Ronaldo', 'PERSON'), ('Ronaldo', 'ORG')]\n",
            "Row 40: [('Billie Eilish', 'PERSON'), ('Eilish', 'PERSON'), ('Eilish', 'NORP')]\n",
            "Row 41: [('Billie Eilish', 'PERSON'), ('millions', 'CARDINAL'), ('Eilish', 'PERSON'), ('Eilish', 'PERSON')]\n",
            "Row 42: [('Billie Eilish', 'PERSON'), ('Eilish', 'PERSON'), ('Eilish', 'PERSON'), ('Eilish', 'PERSON')]\n",
            "Row 43: [('Kamala Harris', 'PERSON'), ('Harris', 'PERSON'), ('Harris', 'PERSON')]\n",
            "Row 44: [('Kamala Harris', 'PERSON'), ('American', 'NORP'), ('Harris', 'PERSON'), ('Harris', 'PERSON')]\n",
            "Row 45: [('Kamala Harris', 'PERSON'), ('Harris', 'PERSON'), ('Harris', 'PERSON')]\n",
            "Row 46: [('Priyanka Chopra', 'PERSON'), ('Bollywood', 'GPE'), ('Hollywood', 'GPE'), ('Chopra', 'ORG'), ('Chopra', 'ORG')]\n",
            "Row 47: [('Priyanka Chopra', 'PERSON'), ('Chopra', 'ORG'), ('Chopra', 'ORG'), (\"Priyanka Chopra's\", 'PERSON')]\n",
            "Row 48: [('Priyanka Chopra', 'PERSON'), ('Bollywood', 'GPE'), ('Hollywood', 'GPE'), ('Chopra', 'ORG')]\n",
            "Row 49: [('Adele', 'PERSON'), ('millions', 'CARDINAL'), ('Adele', 'PERSON')]\n",
            "Row 50: [('Adele', 'PERSON'), ('Adele', 'PERSON'), ('millions', 'CARDINAL'), ('Adele', 'PERSON')]\n",
            "Row 51: [('Adele', 'PERSON'), ('Adele', 'PERSON'), ('Adele', 'PERSON')]\n",
            "Row 52: [('Stephen Hawking', 'PERSON')]\n",
            "Row 53: [('Stephen Hawking', 'PERSON'), ('A Brief History of Time', 'WORK_OF_ART')]\n",
            "Row 54: [('Stephen Hawking', 'PERSON'), ('years', 'DATE')]\n",
            "Row 55: [('Meghan Markle', 'PERSON'), ('Markle', 'ORG'), ('Markle', 'ORG')]\n",
            "Row 56: [('Meghan Markle', 'PERSON'), ('Markle', 'ORG'), ('Markle', 'ORG')]\n",
            "Row 57: [('Meghan Markle', 'PERSON'), ('Markle', 'ORG'), ('Markle', 'ORG')]\n",
            "Row 58: [('Tim Cook', 'PERSON'), ('Apple', 'ORG'), ('Cook', 'PERSON'), ('Cook', 'PERSON')]\n",
            "Row 59: [('Tim Cook', 'PERSON'), ('Apple', 'ORG'), ('Cook', 'PERSON'), ('Cook', 'PERSON')]\n",
            "Row 60: [('Tim Cook', 'PERSON'), ('Cook', 'PERSON'), ('Cook', 'PERSON')]\n"
          ]
        }
      ]
    },
    {
      "cell_type": "code",
      "source": [
        "for index, row in data_Spacy.iterrows():\n",
        "    paragraph = row['paragraph']\n",
        "    doc = nlp(paragraph)\n",
        "    entities = [(entity.text, entity.label_) for entity in doc.ents if entity.label_ == 'PERSON']\n",
        "    print(f\"Row {index+1}: {entities}\")"
      ],
      "metadata": {
        "colab": {
          "base_uri": "https://localhost:8080/"
        },
        "id": "T9rwhrCS2wAo",
        "outputId": "bc4ea44e-f16e-45b9-d63a-ab4b8128f2a2"
      },
      "execution_count": null,
      "outputs": [
        {
          "output_type": "stream",
          "name": "stdout",
          "text": [
            "Row 1: [('Barack Obama', 'PERSON'), ('Obama', 'PERSON')]\n",
            "Row 2: [('Barack Obama', 'PERSON'), ('Obama', 'PERSON')]\n",
            "Row 3: [('Barack Obama', 'PERSON'), ('Obama', 'PERSON'), ('Obama', 'PERSON')]\n",
            "Row 4: [('Malala Yousafzai', 'PERSON'), ('Malala', 'PERSON')]\n",
            "Row 5: [('Malala Yousafzai', 'PERSON'), ('Malala', 'PERSON'), ('Malala', 'PERSON')]\n",
            "Row 6: [('Malala Yousafzai', 'PERSON'), ('Malala', 'PERSON'), ('Malala', 'PERSON')]\n",
            "Row 7: []\n",
            "Row 8: []\n",
            "Row 9: []\n",
            "Row 10: [('Harry Potter', 'PERSON'), ('Rowling', 'PERSON'), ('Rowling', 'PERSON')]\n",
            "Row 11: [('J.K. Rowling', 'PERSON'), ('Harry Potter', 'PERSON'), ('Rowling', 'PERSON'), ('Rowling', 'PERSON')]\n",
            "Row 12: [('J.K. Rowling', 'PERSON'), ('Harry Potter', 'PERSON'), ('Rowling', 'PERSON'), ('Harry Potter', 'PERSON'), ('Dumbledore', 'PERSON'), ('Rowling', 'PERSON')]\n",
            "Row 13: [('Oprah Winfrey', 'PERSON'), ('Oprah', 'PERSON'), ('Oprah', 'PERSON')]\n",
            "Row 14: [('Oprah Winfrey', 'PERSON'), ('Oprah', 'PERSON'), ('Oprah', 'PERSON')]\n",
            "Row 15: [('Oprah Winfrey', 'PERSON'), ('Oprah', 'PERSON'), ('Oprah', 'PERSON'), ('Oprah', 'PERSON')]\n",
            "Row 16: [('Emma Watson', 'PERSON'), ('Hermione Granger', 'PERSON'), ('Harry Potter', 'PERSON'), ('Watson', 'PERSON'), ('Watson', 'PERSON'), ('Goodwill', 'PERSON')]\n",
            "Row 17: [('Emma Watson', 'PERSON'), ('Watson', 'PERSON')]\n",
            "Row 18: [('Emma Watson', 'PERSON'), ('Watson', 'PERSON'), ('Goodwill', 'PERSON'), ('Watson', 'PERSON')]\n",
            "Row 19: [('Angela Merkel', 'PERSON'), ('Merkel', 'PERSON'), ('Merkel', 'PERSON')]\n",
            "Row 20: [('Angela Merkel', 'PERSON'), ('Merkel', 'PERSON'), ('Merkel', 'PERSON')]\n",
            "Row 21: [('Angela Merkel', 'PERSON'), ('Merkel', 'PERSON'), ('Merkel', 'PERSON')]\n",
            "Row 22: [('Nelson Mandela', 'PERSON'), ('Mandela', 'PERSON'), ('Mandela', 'PERSON'), ('Mandela', 'PERSON')]\n",
            "Row 23: [('Nelson Mandela', 'PERSON'), ('Mandela', 'PERSON'), ('Mandela', 'PERSON')]\n",
            "Row 24: [('Nelson Mandela', 'PERSON'), ('Mandela', 'PERSON'), ('Mandela', 'PERSON')]\n",
            "Row 25: [('Michelle Obama', 'PERSON'), ('Michelle', 'PERSON')]\n",
            "Row 26: [('Michelle Obama', 'PERSON'), ('Michelle', 'PERSON'), ('Michelle', 'PERSON')]\n",
            "Row 27: [('Michelle Obama', 'PERSON'), ('Michelle', 'PERSON'), ('Michelle', 'PERSON')]\n",
            "Row 28: [('Taylor Swift', 'PERSON'), ('Swift', 'PERSON'), ('Swift', 'PERSON')]\n",
            "Row 29: [('Taylor Swift', 'PERSON'), ('Swift', 'PERSON')]\n",
            "Row 30: [('Taylor Swift', 'PERSON'), ('Swift', 'PERSON'), ('Swift', 'PERSON')]\n",
            "Row 31: [('Ellen DeGeneres', 'PERSON'), ('DeGeneres', 'PERSON')]\n",
            "Row 32: [('Ellen DeGeneres', 'PERSON')]\n",
            "Row 33: [('Ellen DeGeneres', 'PERSON')]\n",
            "Row 34: [('Serena Williams', 'PERSON'), ('Williams', 'PERSON'), (\"Serena Williams'\", 'PERSON')]\n",
            "Row 35: [('Serena Williams', 'PERSON'), ('Williams', 'PERSON'), ('Williams', 'PERSON')]\n",
            "Row 36: [('Serena Williams', 'PERSON'), ('Williams', 'PERSON'), (\"Serena Williams'\", 'PERSON')]\n",
            "Row 37: [('Cristiano Ronaldo', 'PERSON'), ('Ronaldo', 'PERSON'), ('Ronaldo', 'PERSON')]\n",
            "Row 38: [(\"Cristiano Ronaldo's\", 'PERSON'), ('Ronaldo', 'PERSON'), ('Ronaldo', 'PERSON')]\n",
            "Row 39: [('Cristiano Ronaldo', 'PERSON'), ('Ronaldo', 'PERSON')]\n",
            "Row 40: [('Billie Eilish', 'PERSON'), ('Eilish', 'PERSON')]\n",
            "Row 41: [('Billie Eilish', 'PERSON'), ('Eilish', 'PERSON'), ('Eilish', 'PERSON')]\n",
            "Row 42: [('Billie Eilish', 'PERSON'), ('Eilish', 'PERSON'), ('Eilish', 'PERSON'), ('Eilish', 'PERSON')]\n",
            "Row 43: [('Kamala Harris', 'PERSON'), ('Harris', 'PERSON'), ('Harris', 'PERSON')]\n",
            "Row 44: [('Kamala Harris', 'PERSON'), ('Harris', 'PERSON'), ('Harris', 'PERSON')]\n",
            "Row 45: [('Kamala Harris', 'PERSON'), ('Harris', 'PERSON'), ('Harris', 'PERSON')]\n",
            "Row 46: [('Priyanka Chopra', 'PERSON')]\n",
            "Row 47: [('Priyanka Chopra', 'PERSON'), (\"Priyanka Chopra's\", 'PERSON')]\n",
            "Row 48: [('Priyanka Chopra', 'PERSON')]\n",
            "Row 49: [('Adele', 'PERSON'), ('Adele', 'PERSON')]\n",
            "Row 50: [('Adele', 'PERSON'), ('Adele', 'PERSON'), ('Adele', 'PERSON')]\n",
            "Row 51: [('Adele', 'PERSON'), ('Adele', 'PERSON'), ('Adele', 'PERSON')]\n",
            "Row 52: [('Stephen Hawking', 'PERSON')]\n",
            "Row 53: [('Stephen Hawking', 'PERSON')]\n",
            "Row 54: [('Stephen Hawking', 'PERSON')]\n",
            "Row 55: [('Meghan Markle', 'PERSON')]\n",
            "Row 56: [('Meghan Markle', 'PERSON')]\n",
            "Row 57: [('Meghan Markle', 'PERSON')]\n",
            "Row 58: [('Tim Cook', 'PERSON'), ('Cook', 'PERSON'), ('Cook', 'PERSON')]\n",
            "Row 59: [('Tim Cook', 'PERSON'), ('Cook', 'PERSON'), ('Cook', 'PERSON')]\n",
            "Row 60: [('Tim Cook', 'PERSON'), ('Cook', 'PERSON'), ('Cook', 'PERSON')]\n"
          ]
        }
      ]
    },
    {
      "cell_type": "code",
      "source": [
        "def extract_first_entity(paragraph):\n",
        "    doc = nlp(paragraph)\n",
        "    entities = [entity.text for entity in doc.ents if entity.label_ == 'PERSON']\n",
        "    if entities:\n",
        "        return entities[0]\n",
        "    else:\n",
        "        return ''"
      ],
      "metadata": {
        "id": "vhTFNvMv5db1"
      },
      "execution_count": null,
      "outputs": []
    },
    {
      "cell_type": "code",
      "source": [
        "data_Spacy['entity'] = data_Spacy['paragraph'].apply(extract_first_entity)"
      ],
      "metadata": {
        "id": "qcU034C-5jbp"
      },
      "execution_count": null,
      "outputs": []
    },
    {
      "cell_type": "code",
      "source": [
        "data_Spacy.to_csv(\"/content/drive/My Drive/APP II-FINAL PROJECT/data/paragraphs_entity_Spacy.csv\", index=False)"
      ],
      "metadata": {
        "id": "YO7rBfQT5n_B"
      },
      "execution_count": null,
      "outputs": []
    },
    {
      "cell_type": "markdown",
      "source": [
        "NER Evaluation"
      ],
      "metadata": {
        "id": "-QK_FsueBtWN"
      }
    },
    {
      "cell_type": "code",
      "source": [
        "df = pd.read_csv(\"./data/paragraphs_entity_Spacy.csv\")\n",
        "df.head()"
      ],
      "metadata": {
        "colab": {
          "base_uri": "https://localhost:8080/",
          "height": 206
        },
        "id": "Zy_E2XUYBvUC",
        "outputId": "dd76b7d7-c1da-4831-e8ad-65edd9caeac0"
      },
      "execution_count": null,
      "outputs": [
        {
          "output_type": "execute_result",
          "data": {
            "text/plain": [
              "                                           paragraph              name  \\\n",
              "0  Barack Obama, the charismatic leader made hist...      Barack Obama   \n",
              "1  In the annals of American history, few names r...      Barack Obama   \n",
              "2  Barack Obama, the transformative figure in Ame...      Barack Obama   \n",
              "3  Malala Yousafzai has become a global symbol of...  Malala Yousafzai   \n",
              "4  The name Malala Yousafzai reverberates with th...  Malala Yousafzai   \n",
              "\n",
              "             entity  \n",
              "0      Barack Obama  \n",
              "1      Barack Obama  \n",
              "2      Barack Obama  \n",
              "3  Malala Yousafzai  \n",
              "4  Malala Yousafzai  "
            ],
            "text/html": [
              "\n",
              "  <div id=\"df-bb2d301e-9655-4a78-87bf-f6da2d067a9f\">\n",
              "    <div class=\"colab-df-container\">\n",
              "      <div>\n",
              "<style scoped>\n",
              "    .dataframe tbody tr th:only-of-type {\n",
              "        vertical-align: middle;\n",
              "    }\n",
              "\n",
              "    .dataframe tbody tr th {\n",
              "        vertical-align: top;\n",
              "    }\n",
              "\n",
              "    .dataframe thead th {\n",
              "        text-align: right;\n",
              "    }\n",
              "</style>\n",
              "<table border=\"1\" class=\"dataframe\">\n",
              "  <thead>\n",
              "    <tr style=\"text-align: right;\">\n",
              "      <th></th>\n",
              "      <th>paragraph</th>\n",
              "      <th>name</th>\n",
              "      <th>entity</th>\n",
              "    </tr>\n",
              "  </thead>\n",
              "  <tbody>\n",
              "    <tr>\n",
              "      <th>0</th>\n",
              "      <td>Barack Obama, the charismatic leader made hist...</td>\n",
              "      <td>Barack Obama</td>\n",
              "      <td>Barack Obama</td>\n",
              "    </tr>\n",
              "    <tr>\n",
              "      <th>1</th>\n",
              "      <td>In the annals of American history, few names r...</td>\n",
              "      <td>Barack Obama</td>\n",
              "      <td>Barack Obama</td>\n",
              "    </tr>\n",
              "    <tr>\n",
              "      <th>2</th>\n",
              "      <td>Barack Obama, the transformative figure in Ame...</td>\n",
              "      <td>Barack Obama</td>\n",
              "      <td>Barack Obama</td>\n",
              "    </tr>\n",
              "    <tr>\n",
              "      <th>3</th>\n",
              "      <td>Malala Yousafzai has become a global symbol of...</td>\n",
              "      <td>Malala Yousafzai</td>\n",
              "      <td>Malala Yousafzai</td>\n",
              "    </tr>\n",
              "    <tr>\n",
              "      <th>4</th>\n",
              "      <td>The name Malala Yousafzai reverberates with th...</td>\n",
              "      <td>Malala Yousafzai</td>\n",
              "      <td>Malala Yousafzai</td>\n",
              "    </tr>\n",
              "  </tbody>\n",
              "</table>\n",
              "</div>\n",
              "      <button class=\"colab-df-convert\" onclick=\"convertToInteractive('df-bb2d301e-9655-4a78-87bf-f6da2d067a9f')\"\n",
              "              title=\"Convert this dataframe to an interactive table.\"\n",
              "              style=\"display:none;\">\n",
              "        \n",
              "  <svg xmlns=\"http://www.w3.org/2000/svg\" height=\"24px\"viewBox=\"0 0 24 24\"\n",
              "       width=\"24px\">\n",
              "    <path d=\"M0 0h24v24H0V0z\" fill=\"none\"/>\n",
              "    <path d=\"M18.56 5.44l.94 2.06.94-2.06 2.06-.94-2.06-.94-.94-2.06-.94 2.06-2.06.94zm-11 1L8.5 8.5l.94-2.06 2.06-.94-2.06-.94L8.5 2.5l-.94 2.06-2.06.94zm10 10l.94 2.06.94-2.06 2.06-.94-2.06-.94-.94-2.06-.94 2.06-2.06.94z\"/><path d=\"M17.41 7.96l-1.37-1.37c-.4-.4-.92-.59-1.43-.59-.52 0-1.04.2-1.43.59L10.3 9.45l-7.72 7.72c-.78.78-.78 2.05 0 2.83L4 21.41c.39.39.9.59 1.41.59.51 0 1.02-.2 1.41-.59l7.78-7.78 2.81-2.81c.8-.78.8-2.07 0-2.86zM5.41 20L4 18.59l7.72-7.72 1.47 1.35L5.41 20z\"/>\n",
              "  </svg>\n",
              "      </button>\n",
              "      \n",
              "  <style>\n",
              "    .colab-df-container {\n",
              "      display:flex;\n",
              "      flex-wrap:wrap;\n",
              "      gap: 12px;\n",
              "    }\n",
              "\n",
              "    .colab-df-convert {\n",
              "      background-color: #E8F0FE;\n",
              "      border: none;\n",
              "      border-radius: 50%;\n",
              "      cursor: pointer;\n",
              "      display: none;\n",
              "      fill: #1967D2;\n",
              "      height: 32px;\n",
              "      padding: 0 0 0 0;\n",
              "      width: 32px;\n",
              "    }\n",
              "\n",
              "    .colab-df-convert:hover {\n",
              "      background-color: #E2EBFA;\n",
              "      box-shadow: 0px 1px 2px rgba(60, 64, 67, 0.3), 0px 1px 3px 1px rgba(60, 64, 67, 0.15);\n",
              "      fill: #174EA6;\n",
              "    }\n",
              "\n",
              "    [theme=dark] .colab-df-convert {\n",
              "      background-color: #3B4455;\n",
              "      fill: #D2E3FC;\n",
              "    }\n",
              "\n",
              "    [theme=dark] .colab-df-convert:hover {\n",
              "      background-color: #434B5C;\n",
              "      box-shadow: 0px 1px 3px 1px rgba(0, 0, 0, 0.15);\n",
              "      filter: drop-shadow(0px 1px 2px rgba(0, 0, 0, 0.3));\n",
              "      fill: #FFFFFF;\n",
              "    }\n",
              "  </style>\n",
              "\n",
              "      <script>\n",
              "        const buttonEl =\n",
              "          document.querySelector('#df-bb2d301e-9655-4a78-87bf-f6da2d067a9f button.colab-df-convert');\n",
              "        buttonEl.style.display =\n",
              "          google.colab.kernel.accessAllowed ? 'block' : 'none';\n",
              "\n",
              "        async function convertToInteractive(key) {\n",
              "          const element = document.querySelector('#df-bb2d301e-9655-4a78-87bf-f6da2d067a9f');\n",
              "          const dataTable =\n",
              "            await google.colab.kernel.invokeFunction('convertToInteractive',\n",
              "                                                     [key], {});\n",
              "          if (!dataTable) return;\n",
              "\n",
              "          const docLinkHtml = 'Like what you see? Visit the ' +\n",
              "            '<a target=\"_blank\" href=https://colab.research.google.com/notebooks/data_table.ipynb>data table notebook</a>'\n",
              "            + ' to learn more about interactive tables.';\n",
              "          element.innerHTML = '';\n",
              "          dataTable['output_type'] = 'display_data';\n",
              "          await google.colab.output.renderOutput(dataTable, element);\n",
              "          const docLink = document.createElement('div');\n",
              "          docLink.innerHTML = docLinkHtml;\n",
              "          element.appendChild(docLink);\n",
              "        }\n",
              "      </script>\n",
              "    </div>\n",
              "  </div>\n",
              "  "
            ]
          },
          "metadata": {},
          "execution_count": 12
        }
      ]
    },
    {
      "cell_type": "code",
      "source": [
        "from sklearn.metrics import classification_report\n",
        "\n",
        "gold_names = df[\"name\"].tolist()\n",
        "predicted_names = df[\"entity\"].tolist()\n",
        "#predicted_names[37] = predicted_names[37].replace(\"Cristiano Ronaldo\\'s\", \"Cristiano Ronaldo\")\n",
        "#print(predicted_names[37])\n",
        "report = classification_report(gold_names, predicted_names)\n",
        "\n",
        "print(report)"
      ],
      "metadata": {
        "colab": {
          "base_uri": "https://localhost:8080/"
        },
        "id": "FFXrgt34CcGa",
        "outputId": "d8fad8da-f2a6-45be-ef5b-a7ff18a8bd2e"
      },
      "execution_count": null,
      "outputs": [
        {
          "output_type": "stream",
          "name": "stdout",
          "text": [
            "                     precision    recall  f1-score   support\n",
            "\n",
            "              Adele       1.00      1.00      1.00         3\n",
            "      Angela Merkel       1.00      1.00      1.00         3\n",
            "       Barack Obama       1.00      1.00      1.00         3\n",
            "            Beyoncé       0.00      0.00      0.00         3\n",
            "      Billie Eilish       1.00      1.00      1.00         3\n",
            "  Cristiano Ronaldo       1.00      0.67      0.80         3\n",
            "Cristiano Ronaldo's       0.00      0.00      0.00         0\n",
            "    Ellen DeGeneres       1.00      1.00      1.00         3\n",
            "        Emma Watson       1.00      1.00      1.00         3\n",
            "       Harry Potter       0.00      0.00      0.00         0\n",
            "       J.K. Rowling       1.00      0.67      0.80         3\n",
            "      Kamala Harris       1.00      1.00      1.00         3\n",
            "   Malala Yousafzai       1.00      1.00      1.00         3\n",
            "      Meghan Markle       1.00      1.00      1.00         3\n",
            "     Michelle Obama       1.00      1.00      1.00         3\n",
            "     Nelson Mandela       1.00      1.00      1.00         3\n",
            "      Oprah Winfrey       1.00      1.00      1.00         3\n",
            "    Priyanka Chopra       1.00      1.00      1.00         3\n",
            "    Serena Williams       1.00      1.00      1.00         3\n",
            "    Stephen Hawking       1.00      1.00      1.00         3\n",
            "       Taylor Swift       1.00      1.00      1.00         3\n",
            "           Tim Cook       1.00      1.00      1.00         3\n",
            "                nan       0.00      0.00      0.00         0\n",
            "\n",
            "           accuracy                           0.92        60\n",
            "          macro avg       0.83      0.80      0.81        60\n",
            "       weighted avg       0.95      0.92      0.93        60\n",
            "\n"
          ]
        },
        {
          "output_type": "stream",
          "name": "stderr",
          "text": [
            "/usr/local/lib/python3.10/dist-packages/sklearn/metrics/_classification.py:1344: UndefinedMetricWarning: Precision and F-score are ill-defined and being set to 0.0 in labels with no predicted samples. Use `zero_division` parameter to control this behavior.\n",
            "  _warn_prf(average, modifier, msg_start, len(result))\n",
            "/usr/local/lib/python3.10/dist-packages/sklearn/metrics/_classification.py:1344: UndefinedMetricWarning: Recall and F-score are ill-defined and being set to 0.0 in labels with no true samples. Use `zero_division` parameter to control this behavior.\n",
            "  _warn_prf(average, modifier, msg_start, len(result))\n",
            "/usr/local/lib/python3.10/dist-packages/sklearn/metrics/_classification.py:1344: UndefinedMetricWarning: Precision and F-score are ill-defined and being set to 0.0 in labels with no predicted samples. Use `zero_division` parameter to control this behavior.\n",
            "  _warn_prf(average, modifier, msg_start, len(result))\n",
            "/usr/local/lib/python3.10/dist-packages/sklearn/metrics/_classification.py:1344: UndefinedMetricWarning: Recall and F-score are ill-defined and being set to 0.0 in labels with no true samples. Use `zero_division` parameter to control this behavior.\n",
            "  _warn_prf(average, modifier, msg_start, len(result))\n",
            "/usr/local/lib/python3.10/dist-packages/sklearn/metrics/_classification.py:1344: UndefinedMetricWarning: Precision and F-score are ill-defined and being set to 0.0 in labels with no predicted samples. Use `zero_division` parameter to control this behavior.\n",
            "  _warn_prf(average, modifier, msg_start, len(result))\n",
            "/usr/local/lib/python3.10/dist-packages/sklearn/metrics/_classification.py:1344: UndefinedMetricWarning: Recall and F-score are ill-defined and being set to 0.0 in labels with no true samples. Use `zero_division` parameter to control this behavior.\n",
            "  _warn_prf(average, modifier, msg_start, len(result))\n"
          ]
        }
      ]
    },
    {
      "cell_type": "markdown",
      "source": [
        "J.K. Rowling 2/3 Correct --- 1 was selected as harry potter\n",
        "\n",
        "Beyonce 0/3 correct - 3 was classified as ORG\n",
        "\n",
        "Cristinao Ronaldo 2/3 correct, 1 was selected as Cristiano Ronaldo's\n",
        "\n",
        "1+3+1 = 5\n",
        "\n",
        "55/60"
      ],
      "metadata": {
        "id": "Z9pxetNhEqTy"
      }
    },
    {
      "cell_type": "code",
      "source": [],
      "metadata": {
        "id": "dm1R5URgEpDa"
      },
      "execution_count": null,
      "outputs": []
    }
  ]
}