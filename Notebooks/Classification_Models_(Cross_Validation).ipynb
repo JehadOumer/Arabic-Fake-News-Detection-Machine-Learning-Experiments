{
  "cells": [
    {
      "cell_type": "markdown",
      "metadata": {
        "id": "EJM9m25Q5p1u"
      },
      "source": [
        "# This notebook is to train the models and test them"
      ]
    },
    {
      "cell_type": "code",
      "execution_count": null,
      "metadata": {
        "colab": {
          "base_uri": "https://localhost:8080/"
        },
        "id": "H4Zwylem6ASW",
        "outputId": "a3ce4d99-4e22-46d9-8066-f60dda08fe2c"
      },
      "outputs": [
        {
          "output_type": "stream",
          "name": "stdout",
          "text": [
            "Mounted at /content/drive\n"
          ]
        }
      ],
      "source": [
        "import pandas as pd\n",
        "import numpy as np \n",
        "import copy\n",
        "import pickle\n",
        "import matplotlib.pyplot as plt\n",
        "from sklearn.model_selection import cross_val_score\n",
        "from sklearn.svm import SVC, LinearSVC\n",
        "from sklearn.linear_model import LogisticRegression\n",
        "from sklearn.ensemble import RandomForestClassifier\n",
        "from sklearn.naive_bayes import MultinomialNB\n",
        "from sklearn.tree import DecisionTreeClassifier\n",
        "from sklearn.neighbors import KNeighborsClassifier\n",
        "from sklearn.cluster import KMeans\n",
        "from sklearn.linear_model import SGDClassifier\n",
        "from sklearn.pipeline import Pipeline\n",
        "from sklearn.feature_extraction.text import CountVectorizer, TfidfTransformer\n",
        "from sklearn.metrics import classification_report, accuracy_score, precision_score, recall_score, f1_score\n",
        "from sklearn.model_selection import train_test_split\n",
        "from sklearn.model_selection import GridSearchCV\n",
        "from xgboost import XGBClassifier\n",
        "import json\n",
        "import seaborn as sns\n",
        "from collections import defaultdict\n",
        "from google.colab import drive\n",
        "import statistics\n",
        "drive.mount('/content/drive')"
      ]
    },
    {
      "cell_type": "code",
      "source": [],
      "metadata": {
        "colab": {
          "base_uri": "https://localhost:8080/"
        },
        "id": "8qCFEqMwgDau",
        "outputId": "78231aeb-4c39-4ac4-803f-39465cb7d10c"
      },
      "execution_count": null,
      "outputs": [
        {
          "output_type": "stream",
          "name": "stdout",
          "text": [
            "\u001b[0m\u001b[01;34mdrive\u001b[0m/  \u001b[01;34msample_data\u001b[0m/\n"
          ]
        }
      ]
    },
    {
      "cell_type": "code",
      "execution_count": null,
      "metadata": {
        "colab": {
          "base_uri": "https://localhost:8080/"
        },
        "id": "ENhlIjCsMJpm",
        "outputId": "3658f470-07aa-48d0-d5df-73f57c717020"
      },
      "outputs": [
        {
          "output_type": "stream",
          "name": "stdout",
          "text": [
            "Collecting Arabic-Stopwords\n",
            "  Downloading Arabic_Stopwords-0.3-py3-none-any.whl (353 kB)\n",
            "\u001b[K     |████████████████████████████████| 353 kB 4.1 MB/s \n",
            "\u001b[?25hCollecting pyarabic>=0.6.2\n",
            "  Downloading PyArabic-0.6.14-py3-none-any.whl (126 kB)\n",
            "\u001b[K     |████████████████████████████████| 126 kB 52.5 MB/s \n",
            "\u001b[?25hRequirement already satisfied: six>=1.14.0 in /usr/local/lib/python3.7/dist-packages (from pyarabic>=0.6.2->Arabic-Stopwords) (1.15.0)\n",
            "Installing collected packages: pyarabic, Arabic-Stopwords\n",
            "Successfully installed Arabic-Stopwords-0.3 pyarabic-0.6.14\n"
          ]
        }
      ],
      "source": [
        "!pip install Arabic-Stopwords"
      ]
    },
    {
      "cell_type": "code",
      "execution_count": null,
      "metadata": {
        "id": "g8-UIFiJMX2L"
      },
      "outputs": [],
      "source": [
        "arabic_stop_words=[]\n",
        "with open('/content/drive/MyDrive/Capstone Project Files CS/Datasets/arabic_stop_words.txt') as file:\n",
        "    for line in file:\n",
        "        arabic_stop_words.append(line.rstrip())"
      ]
    },
    {
      "cell_type": "code",
      "execution_count": null,
      "metadata": {
        "colab": {
          "base_uri": "https://localhost:8080/"
        },
        "id": "eoKE_ECdWWKy",
        "outputId": "46e77abc-ab0e-4502-ede8-200231ddea68"
      },
      "outputs": [
        {
          "name": "stdout",
          "output_type": "stream",
          "text": [
            "['،', 'ء', 'ءَ', 'آ', 'آب', 'آذار', 'آض', 'آل', 'آمينَ', 'آناء', 'آنفا', 'آه', 'آهاً', 'آهٍ', 'آهِ', 'أ', 'أبدا', 'أبريل', 'أبو', 'أبٌ']\n"
          ]
        }
      ],
      "source": [
        "len(arabic_stop_words)\n",
        "print(arabic_stop_words[0:20])"
      ]
    },
    {
      "cell_type": "markdown",
      "metadata": {
        "id": "COnEPqaU7AYv"
      },
      "source": [
        "Dataset"
      ]
    },
    {
      "cell_type": "code",
      "execution_count": null,
      "metadata": {
        "id": "3eB2b5ckGPnM"
      },
      "outputs": [],
      "source": [
        "dataset= pd.read_csv('/content/drive/MyDrive/Capstone Project Files CS/Datasets/Processed Datasets/project_dataset_withNERSTEM.csv')"
      ]
    },
    {
      "cell_type": "code",
      "execution_count": null,
      "metadata": {
        "colab": {
          "base_uri": "https://localhost:8080/",
          "height": 302
        },
        "id": "nPmQqMWlHIyX",
        "outputId": "4acae3b4-40ff-4219-c6cb-d4bed5d07faa"
      },
      "outputs": [
        {
          "data": {
            "text/html": [
              "\n",
              "  <div id=\"df-cf5347d4-4647-4fcc-9450-5dc15764671c\">\n",
              "    <div class=\"colab-df-container\">\n",
              "      <div>\n",
              "<style scoped>\n",
              "    .dataframe tbody tr th:only-of-type {\n",
              "        vertical-align: middle;\n",
              "    }\n",
              "\n",
              "    .dataframe tbody tr th {\n",
              "        vertical-align: top;\n",
              "    }\n",
              "\n",
              "    .dataframe thead th {\n",
              "        text-align: right;\n",
              "    }\n",
              "</style>\n",
              "<table border=\"1\" class=\"dataframe\">\n",
              "  <thead>\n",
              "    <tr style=\"text-align: right;\">\n",
              "      <th></th>\n",
              "      <th>Unnamed: 0</th>\n",
              "      <th>origin</th>\n",
              "      <th>tweet_text</th>\n",
              "      <th>tweet_text_NER</th>\n",
              "      <th>tweet_text_NER_STEM</th>\n",
              "      <th>label</th>\n",
              "    </tr>\n",
              "  </thead>\n",
              "  <tbody>\n",
              "    <tr>\n",
              "      <th>0</th>\n",
              "      <td>0</td>\n",
              "      <td>ARC</td>\n",
              "      <td>الكورونا الطريقة الصحيحة لاستخدام الكمامات لاح...</td>\n",
              "      <td>الكورونا الطريقة الصحيحة لاستخدام الكمامات لاح...</td>\n",
              "      <td>كورونا طريقة صحيح استخدام كمام لاحظ عام ناس ما...</td>\n",
              "      <td>False</td>\n",
              "    </tr>\n",
              "    <tr>\n",
              "      <th>1</th>\n",
              "      <td>1</td>\n",
              "      <td>MFH</td>\n",
              "      <td>كونا | إصابة أنثى نمر في حديقة حيوان بمدينة (ن...</td>\n",
              "      <td>PER  | إصابة أنثى نمر في حديقة حيوان بمدينة (...</td>\n",
              "      <td>PER | إصابة أنثى مر في حديقة حيوان مدينة ( LOC...</td>\n",
              "      <td>True</td>\n",
              "    </tr>\n",
              "    <tr>\n",
              "      <th>2</th>\n",
              "      <td>2</td>\n",
              "      <td>ARC</td>\n",
              "      <td>في مشهد مهيب تقشعر له الأبدان. خرج العاملون في...</td>\n",
              "      <td>في مشهد مهيب تقشعر له الأبدان. خرج العاملون في...</td>\n",
              "      <td>في مشهد مهيب تقشعر ل بدن . خرج عامل في مستشفى ...</td>\n",
              "      <td>True</td>\n",
              "    </tr>\n",
              "    <tr>\n",
              "      <th>3</th>\n",
              "      <td>3</td>\n",
              "      <td>4IF</td>\n",
              "      <td>بعد كسر حاجز 10000 أصابه نشطة في قطر ،، وزارة ...</td>\n",
              "      <td>بعد كسر حاجز 10000 أصابه نشطة في  LOC  ،، وزار...</td>\n",
              "      <td>بعد كسر حاجز 10000 أصاب نشط في LOC ، ، وزارة ت...</td>\n",
              "      <td>True</td>\n",
              "    </tr>\n",
              "    <tr>\n",
              "      <th>4</th>\n",
              "      <td>4</td>\n",
              "      <td>ARC</td>\n",
              "      <td>الواضح من الأرقام أن كورونا_الجديد COVID 19 يع...</td>\n",
              "      <td>الواضح من الأرقام أن  MISC   MISC  يعرض المدخن...</td>\n",
              "      <td>واضح من رقم أن MISC MISC عرض مدخن كبير سن مرض ...</td>\n",
              "      <td>True</td>\n",
              "    </tr>\n",
              "  </tbody>\n",
              "</table>\n",
              "</div>\n",
              "      <button class=\"colab-df-convert\" onclick=\"convertToInteractive('df-cf5347d4-4647-4fcc-9450-5dc15764671c')\"\n",
              "              title=\"Convert this dataframe to an interactive table.\"\n",
              "              style=\"display:none;\">\n",
              "        \n",
              "  <svg xmlns=\"http://www.w3.org/2000/svg\" height=\"24px\"viewBox=\"0 0 24 24\"\n",
              "       width=\"24px\">\n",
              "    <path d=\"M0 0h24v24H0V0z\" fill=\"none\"/>\n",
              "    <path d=\"M18.56 5.44l.94 2.06.94-2.06 2.06-.94-2.06-.94-.94-2.06-.94 2.06-2.06.94zm-11 1L8.5 8.5l.94-2.06 2.06-.94-2.06-.94L8.5 2.5l-.94 2.06-2.06.94zm10 10l.94 2.06.94-2.06 2.06-.94-2.06-.94-.94-2.06-.94 2.06-2.06.94z\"/><path d=\"M17.41 7.96l-1.37-1.37c-.4-.4-.92-.59-1.43-.59-.52 0-1.04.2-1.43.59L10.3 9.45l-7.72 7.72c-.78.78-.78 2.05 0 2.83L4 21.41c.39.39.9.59 1.41.59.51 0 1.02-.2 1.41-.59l7.78-7.78 2.81-2.81c.8-.78.8-2.07 0-2.86zM5.41 20L4 18.59l7.72-7.72 1.47 1.35L5.41 20z\"/>\n",
              "  </svg>\n",
              "      </button>\n",
              "      \n",
              "  <style>\n",
              "    .colab-df-container {\n",
              "      display:flex;\n",
              "      flex-wrap:wrap;\n",
              "      gap: 12px;\n",
              "    }\n",
              "\n",
              "    .colab-df-convert {\n",
              "      background-color: #E8F0FE;\n",
              "      border: none;\n",
              "      border-radius: 50%;\n",
              "      cursor: pointer;\n",
              "      display: none;\n",
              "      fill: #1967D2;\n",
              "      height: 32px;\n",
              "      padding: 0 0 0 0;\n",
              "      width: 32px;\n",
              "    }\n",
              "\n",
              "    .colab-df-convert:hover {\n",
              "      background-color: #E2EBFA;\n",
              "      box-shadow: 0px 1px 2px rgba(60, 64, 67, 0.3), 0px 1px 3px 1px rgba(60, 64, 67, 0.15);\n",
              "      fill: #174EA6;\n",
              "    }\n",
              "\n",
              "    [theme=dark] .colab-df-convert {\n",
              "      background-color: #3B4455;\n",
              "      fill: #D2E3FC;\n",
              "    }\n",
              "\n",
              "    [theme=dark] .colab-df-convert:hover {\n",
              "      background-color: #434B5C;\n",
              "      box-shadow: 0px 1px 3px 1px rgba(0, 0, 0, 0.15);\n",
              "      filter: drop-shadow(0px 1px 2px rgba(0, 0, 0, 0.3));\n",
              "      fill: #FFFFFF;\n",
              "    }\n",
              "  </style>\n",
              "\n",
              "      <script>\n",
              "        const buttonEl =\n",
              "          document.querySelector('#df-cf5347d4-4647-4fcc-9450-5dc15764671c button.colab-df-convert');\n",
              "        buttonEl.style.display =\n",
              "          google.colab.kernel.accessAllowed ? 'block' : 'none';\n",
              "\n",
              "        async function convertToInteractive(key) {\n",
              "          const element = document.querySelector('#df-cf5347d4-4647-4fcc-9450-5dc15764671c');\n",
              "          const dataTable =\n",
              "            await google.colab.kernel.invokeFunction('convertToInteractive',\n",
              "                                                     [key], {});\n",
              "          if (!dataTable) return;\n",
              "\n",
              "          const docLinkHtml = 'Like what you see? Visit the ' +\n",
              "            '<a target=\"_blank\" href=https://colab.research.google.com/notebooks/data_table.ipynb>data table notebook</a>'\n",
              "            + ' to learn more about interactive tables.';\n",
              "          element.innerHTML = '';\n",
              "          dataTable['output_type'] = 'display_data';\n",
              "          await google.colab.output.renderOutput(dataTable, element);\n",
              "          const docLink = document.createElement('div');\n",
              "          docLink.innerHTML = docLinkHtml;\n",
              "          element.appendChild(docLink);\n",
              "        }\n",
              "      </script>\n",
              "    </div>\n",
              "  </div>\n",
              "  "
            ],
            "text/plain": [
              "   Unnamed: 0 origin                                         tweet_text  \\\n",
              "0           0    ARC  الكورونا الطريقة الصحيحة لاستخدام الكمامات لاح...   \n",
              "1           1    MFH  كونا | إصابة أنثى نمر في حديقة حيوان بمدينة (ن...   \n",
              "2           2    ARC  في مشهد مهيب تقشعر له الأبدان. خرج العاملون في...   \n",
              "3           3    4IF  بعد كسر حاجز 10000 أصابه نشطة في قطر ،، وزارة ...   \n",
              "4           4    ARC  الواضح من الأرقام أن كورونا_الجديد COVID 19 يع...   \n",
              "\n",
              "                                      tweet_text_NER  \\\n",
              "0  الكورونا الطريقة الصحيحة لاستخدام الكمامات لاح...   \n",
              "1   PER  | إصابة أنثى نمر في حديقة حيوان بمدينة (...   \n",
              "2  في مشهد مهيب تقشعر له الأبدان. خرج العاملون في...   \n",
              "3  بعد كسر حاجز 10000 أصابه نشطة في  LOC  ،، وزار...   \n",
              "4  الواضح من الأرقام أن  MISC   MISC  يعرض المدخن...   \n",
              "\n",
              "                                 tweet_text_NER_STEM  label  \n",
              "0  كورونا طريقة صحيح استخدام كمام لاحظ عام ناس ما...  False  \n",
              "1  PER | إصابة أنثى مر في حديقة حيوان مدينة ( LOC...   True  \n",
              "2  في مشهد مهيب تقشعر ل بدن . خرج عامل في مستشفى ...   True  \n",
              "3  بعد كسر حاجز 10000 أصاب نشط في LOC ، ، وزارة ت...   True  \n",
              "4  واضح من رقم أن MISC MISC عرض مدخن كبير سن مرض ...   True  "
            ]
          },
          "execution_count": 4,
          "metadata": {},
          "output_type": "execute_result"
        }
      ],
      "source": [
        "dataset.head(5)"
      ]
    },
    {
      "cell_type": "code",
      "execution_count": null,
      "metadata": {
        "id": "o8lrzp-ZHPXN"
      },
      "outputs": [],
      "source": [
        "dataset=dataset.drop(labels='Unnamed: 0', axis=1)"
      ]
    },
    {
      "cell_type": "code",
      "execution_count": null,
      "metadata": {
        "id": "hvkN0v-dIFn9"
      },
      "outputs": [],
      "source": [
        "columns_titles = [\"origin\",\"tweet_text\", 'tweet_text_NER','tweet_text_NER_STEM', 'label']\n",
        "dataset=dataset.reindex(columns=columns_titles)"
      ]
    },
    {
      "cell_type": "code",
      "execution_count": null,
      "metadata": {
        "colab": {
          "base_uri": "https://localhost:8080/",
          "height": 206
        },
        "id": "e9mwKljSHU26",
        "outputId": "d1042554-8aa4-471e-c90d-77715ccf09d5"
      },
      "outputs": [
        {
          "data": {
            "text/html": [
              "\n",
              "  <div id=\"df-0f31d9de-92f7-4f11-88a7-2a04cbbd4163\">\n",
              "    <div class=\"colab-df-container\">\n",
              "      <div>\n",
              "<style scoped>\n",
              "    .dataframe tbody tr th:only-of-type {\n",
              "        vertical-align: middle;\n",
              "    }\n",
              "\n",
              "    .dataframe tbody tr th {\n",
              "        vertical-align: top;\n",
              "    }\n",
              "\n",
              "    .dataframe thead th {\n",
              "        text-align: right;\n",
              "    }\n",
              "</style>\n",
              "<table border=\"1\" class=\"dataframe\">\n",
              "  <thead>\n",
              "    <tr style=\"text-align: right;\">\n",
              "      <th></th>\n",
              "      <th>origin</th>\n",
              "      <th>tweet_text</th>\n",
              "      <th>tweet_text_NER</th>\n",
              "      <th>tweet_text_NER_STEM</th>\n",
              "      <th>label</th>\n",
              "    </tr>\n",
              "  </thead>\n",
              "  <tbody>\n",
              "    <tr>\n",
              "      <th>0</th>\n",
              "      <td>ARC</td>\n",
              "      <td>الكورونا الطريقة الصحيحة لاستخدام الكمامات لاح...</td>\n",
              "      <td>الكورونا الطريقة الصحيحة لاستخدام الكمامات لاح...</td>\n",
              "      <td>كورونا طريقة صحيح استخدام كمام لاحظ عام ناس ما...</td>\n",
              "      <td>False</td>\n",
              "    </tr>\n",
              "    <tr>\n",
              "      <th>1</th>\n",
              "      <td>MFH</td>\n",
              "      <td>كونا | إصابة أنثى نمر في حديقة حيوان بمدينة (ن...</td>\n",
              "      <td>PER  | إصابة أنثى نمر في حديقة حيوان بمدينة (...</td>\n",
              "      <td>PER | إصابة أنثى مر في حديقة حيوان مدينة ( LOC...</td>\n",
              "      <td>True</td>\n",
              "    </tr>\n",
              "    <tr>\n",
              "      <th>2</th>\n",
              "      <td>ARC</td>\n",
              "      <td>في مشهد مهيب تقشعر له الأبدان. خرج العاملون في...</td>\n",
              "      <td>في مشهد مهيب تقشعر له الأبدان. خرج العاملون في...</td>\n",
              "      <td>في مشهد مهيب تقشعر ل بدن . خرج عامل في مستشفى ...</td>\n",
              "      <td>True</td>\n",
              "    </tr>\n",
              "    <tr>\n",
              "      <th>3</th>\n",
              "      <td>4IF</td>\n",
              "      <td>بعد كسر حاجز 10000 أصابه نشطة في قطر ،، وزارة ...</td>\n",
              "      <td>بعد كسر حاجز 10000 أصابه نشطة في  LOC  ،، وزار...</td>\n",
              "      <td>بعد كسر حاجز 10000 أصاب نشط في LOC ، ، وزارة ت...</td>\n",
              "      <td>True</td>\n",
              "    </tr>\n",
              "    <tr>\n",
              "      <th>4</th>\n",
              "      <td>ARC</td>\n",
              "      <td>الواضح من الأرقام أن كورونا_الجديد COVID 19 يع...</td>\n",
              "      <td>الواضح من الأرقام أن  MISC   MISC  يعرض المدخن...</td>\n",
              "      <td>واضح من رقم أن MISC MISC عرض مدخن كبير سن مرض ...</td>\n",
              "      <td>True</td>\n",
              "    </tr>\n",
              "  </tbody>\n",
              "</table>\n",
              "</div>\n",
              "      <button class=\"colab-df-convert\" onclick=\"convertToInteractive('df-0f31d9de-92f7-4f11-88a7-2a04cbbd4163')\"\n",
              "              title=\"Convert this dataframe to an interactive table.\"\n",
              "              style=\"display:none;\">\n",
              "        \n",
              "  <svg xmlns=\"http://www.w3.org/2000/svg\" height=\"24px\"viewBox=\"0 0 24 24\"\n",
              "       width=\"24px\">\n",
              "    <path d=\"M0 0h24v24H0V0z\" fill=\"none\"/>\n",
              "    <path d=\"M18.56 5.44l.94 2.06.94-2.06 2.06-.94-2.06-.94-.94-2.06-.94 2.06-2.06.94zm-11 1L8.5 8.5l.94-2.06 2.06-.94-2.06-.94L8.5 2.5l-.94 2.06-2.06.94zm10 10l.94 2.06.94-2.06 2.06-.94-2.06-.94-.94-2.06-.94 2.06-2.06.94z\"/><path d=\"M17.41 7.96l-1.37-1.37c-.4-.4-.92-.59-1.43-.59-.52 0-1.04.2-1.43.59L10.3 9.45l-7.72 7.72c-.78.78-.78 2.05 0 2.83L4 21.41c.39.39.9.59 1.41.59.51 0 1.02-.2 1.41-.59l7.78-7.78 2.81-2.81c.8-.78.8-2.07 0-2.86zM5.41 20L4 18.59l7.72-7.72 1.47 1.35L5.41 20z\"/>\n",
              "  </svg>\n",
              "      </button>\n",
              "      \n",
              "  <style>\n",
              "    .colab-df-container {\n",
              "      display:flex;\n",
              "      flex-wrap:wrap;\n",
              "      gap: 12px;\n",
              "    }\n",
              "\n",
              "    .colab-df-convert {\n",
              "      background-color: #E8F0FE;\n",
              "      border: none;\n",
              "      border-radius: 50%;\n",
              "      cursor: pointer;\n",
              "      display: none;\n",
              "      fill: #1967D2;\n",
              "      height: 32px;\n",
              "      padding: 0 0 0 0;\n",
              "      width: 32px;\n",
              "    }\n",
              "\n",
              "    .colab-df-convert:hover {\n",
              "      background-color: #E2EBFA;\n",
              "      box-shadow: 0px 1px 2px rgba(60, 64, 67, 0.3), 0px 1px 3px 1px rgba(60, 64, 67, 0.15);\n",
              "      fill: #174EA6;\n",
              "    }\n",
              "\n",
              "    [theme=dark] .colab-df-convert {\n",
              "      background-color: #3B4455;\n",
              "      fill: #D2E3FC;\n",
              "    }\n",
              "\n",
              "    [theme=dark] .colab-df-convert:hover {\n",
              "      background-color: #434B5C;\n",
              "      box-shadow: 0px 1px 3px 1px rgba(0, 0, 0, 0.15);\n",
              "      filter: drop-shadow(0px 1px 2px rgba(0, 0, 0, 0.3));\n",
              "      fill: #FFFFFF;\n",
              "    }\n",
              "  </style>\n",
              "\n",
              "      <script>\n",
              "        const buttonEl =\n",
              "          document.querySelector('#df-0f31d9de-92f7-4f11-88a7-2a04cbbd4163 button.colab-df-convert');\n",
              "        buttonEl.style.display =\n",
              "          google.colab.kernel.accessAllowed ? 'block' : 'none';\n",
              "\n",
              "        async function convertToInteractive(key) {\n",
              "          const element = document.querySelector('#df-0f31d9de-92f7-4f11-88a7-2a04cbbd4163');\n",
              "          const dataTable =\n",
              "            await google.colab.kernel.invokeFunction('convertToInteractive',\n",
              "                                                     [key], {});\n",
              "          if (!dataTable) return;\n",
              "\n",
              "          const docLinkHtml = 'Like what you see? Visit the ' +\n",
              "            '<a target=\"_blank\" href=https://colab.research.google.com/notebooks/data_table.ipynb>data table notebook</a>'\n",
              "            + ' to learn more about interactive tables.';\n",
              "          element.innerHTML = '';\n",
              "          dataTable['output_type'] = 'display_data';\n",
              "          await google.colab.output.renderOutput(dataTable, element);\n",
              "          const docLink = document.createElement('div');\n",
              "          docLink.innerHTML = docLinkHtml;\n",
              "          element.appendChild(docLink);\n",
              "        }\n",
              "      </script>\n",
              "    </div>\n",
              "  </div>\n",
              "  "
            ],
            "text/plain": [
              "  origin                                         tweet_text  \\\n",
              "0    ARC  الكورونا الطريقة الصحيحة لاستخدام الكمامات لاح...   \n",
              "1    MFH  كونا | إصابة أنثى نمر في حديقة حيوان بمدينة (ن...   \n",
              "2    ARC  في مشهد مهيب تقشعر له الأبدان. خرج العاملون في...   \n",
              "3    4IF  بعد كسر حاجز 10000 أصابه نشطة في قطر ،، وزارة ...   \n",
              "4    ARC  الواضح من الأرقام أن كورونا_الجديد COVID 19 يع...   \n",
              "\n",
              "                                      tweet_text_NER  \\\n",
              "0  الكورونا الطريقة الصحيحة لاستخدام الكمامات لاح...   \n",
              "1   PER  | إصابة أنثى نمر في حديقة حيوان بمدينة (...   \n",
              "2  في مشهد مهيب تقشعر له الأبدان. خرج العاملون في...   \n",
              "3  بعد كسر حاجز 10000 أصابه نشطة في  LOC  ،، وزار...   \n",
              "4  الواضح من الأرقام أن  MISC   MISC  يعرض المدخن...   \n",
              "\n",
              "                                 tweet_text_NER_STEM  label  \n",
              "0  كورونا طريقة صحيح استخدام كمام لاحظ عام ناس ما...  False  \n",
              "1  PER | إصابة أنثى مر في حديقة حيوان مدينة ( LOC...   True  \n",
              "2  في مشهد مهيب تقشعر ل بدن . خرج عامل في مستشفى ...   True  \n",
              "3  بعد كسر حاجز 10000 أصاب نشط في LOC ، ، وزارة ت...   True  \n",
              "4  واضح من رقم أن MISC MISC عرض مدخن كبير سن مرض ...   True  "
            ]
          },
          "execution_count": 7,
          "metadata": {},
          "output_type": "execute_result"
        }
      ],
      "source": [
        "dataset.head(5)"
      ]
    },
    {
      "cell_type": "code",
      "source": [
        "\n",
        "##\n",
        "'''\n",
        "dataset size = 4838\n",
        "Train 60% = 4838 * 0.6 = 2902.8 -> 2903\n",
        "Validation 20% = 4838 * 0.2 = 967.6 -> 968\n",
        "Training 20% =  967\n",
        "3870.4 -> 3871\n",
        "3871 *0.25 = 967.75 -> 968\n",
        "3871*0.75 = 2903.25 -> 2903\n",
        "967\n",
        "\n",
        "80\n",
        "'''\n",
        "train_set, test_set = train_test_split(dataset, test_size=0.2, random_state=42, shuffle=True)\n"
      ],
      "metadata": {
        "id": "svT7cP_VliNP"
      },
      "execution_count": null,
      "outputs": []
    },
    {
      "cell_type": "code",
      "execution_count": null,
      "metadata": {
        "colab": {
          "base_uri": "https://localhost:8080/"
        },
        "id": "7kz_4ciaG0p-",
        "outputId": "d33395ba-58d4-4651-d90e-89d204600eb1"
      },
      "outputs": [
        {
          "name": "stdout",
          "output_type": "stream",
          "text": [
            "Train: 3870 \n",
            " True     1939\n",
            "False    1931\n",
            "Name: label, dtype: int64 \n",
            "\n",
            "Test: 968 \n",
            " False    488\n",
            "True     480\n",
            "Name: label, dtype: int64 \n",
            "\n"
          ]
        }
      ],
      "source": [
        "print(\"Train:\",len(train_set), \"\\n\" ,train_set['label'].value_counts(),\"\\n\")\n",
        "print(\"Test:\",len(test_set), \"\\n\", test_set['label'].value_counts(),\"\\n\")"
      ]
    },
    {
      "cell_type": "code",
      "execution_count": null,
      "metadata": {
        "colab": {
          "base_uri": "https://localhost:8080/",
          "height": 467
        },
        "id": "FfuZlom0Opvu",
        "outputId": "3eac5a9b-e506-4b36-e8d7-a934eb8692c5"
      },
      "outputs": [
        {
          "data": {
            "text/html": [
              "\n",
              "  <div id=\"df-7d5fad70-1cf6-4830-a1b7-3114837649d5\">\n",
              "    <div class=\"colab-df-container\">\n",
              "      <div>\n",
              "<style scoped>\n",
              "    .dataframe tbody tr th:only-of-type {\n",
              "        vertical-align: middle;\n",
              "    }\n",
              "\n",
              "    .dataframe tbody tr th {\n",
              "        vertical-align: top;\n",
              "    }\n",
              "\n",
              "    .dataframe thead th {\n",
              "        text-align: right;\n",
              "    }\n",
              "</style>\n",
              "<table border=\"1\" class=\"dataframe\">\n",
              "  <thead>\n",
              "    <tr style=\"text-align: right;\">\n",
              "      <th></th>\n",
              "      <th>index</th>\n",
              "      <th>origin</th>\n",
              "      <th>tweet_text</th>\n",
              "      <th>tweet_text_NER</th>\n",
              "      <th>tweet_text_NER_STEM</th>\n",
              "      <th>label</th>\n",
              "    </tr>\n",
              "  </thead>\n",
              "  <tbody>\n",
              "    <tr>\n",
              "      <th>0</th>\n",
              "      <td>3197</td>\n",
              "      <td>ARC</td>\n",
              "      <td>الفيديو المتداول بعنوان «دخول 20 مليون صيني في...</td>\n",
              "      <td>الفيديو المتداول بعنوان «دخول 20 مليون صيني في...</td>\n",
              "      <td>فيديو متداول عنوان « دخول 20 مليون صيني في إسل...</td>\n",
              "      <td>True</td>\n",
              "    </tr>\n",
              "    <tr>\n",
              "      <th>1</th>\n",
              "      <td>2526</td>\n",
              "      <td>ARC</td>\n",
              "      <td>النقاب ..احدى وسائل الوقاية من فيروس كورونا .....</td>\n",
              "      <td>النقاب ..احدى وسائل الوقاية من فيروس كورونا .....</td>\n",
              "      <td>نقاب . .احدى وسيلة وقاية من فيروس كورونا . . ....</td>\n",
              "      <td>False</td>\n",
              "    </tr>\n",
              "    <tr>\n",
              "      <th>2</th>\n",
              "      <td>4099</td>\n",
              "      <td>ARC</td>\n",
              "      <td>من الخطأ التشائم. وما اصاب الناس هو من عند انف...</td>\n",
              "      <td>من الخطأ التشائم. وما اصاب الناس هو من عند انف...</td>\n",
              "      <td>من خطأ تشائم . ما أصاب ناس هو من عند نفس . LOC...</td>\n",
              "      <td>False</td>\n",
              "    </tr>\n",
              "    <tr>\n",
              "      <th>3</th>\n",
              "      <td>1926</td>\n",
              "      <td>ARC</td>\n",
              "      <td>عليكم_ببول_الابل مهدي سبيلي،مدير الجمعية العلم...</td>\n",
              "      <td>عليكم_ببول_الابل  PER ،مدير الجمعية العلمية لط...</td>\n",
              "      <td>على _ بول _ ابل PER ، مدير جمعية علمي طب إمام ...</td>\n",
              "      <td>False</td>\n",
              "    </tr>\n",
              "    <tr>\n",
              "      <th>4</th>\n",
              "      <td>1536</td>\n",
              "      <td>4IF</td>\n",
              "      <td>وزير الصحة الروسي : أبشروا بنهاية COVID-19 وزي...</td>\n",
              "      <td>ORG  : أبشروا بنهاية COVID-19  ORG  : رسميا ا...</td>\n",
              "      <td>ORG : أبشر نهاية COVID - 19 ORG : رسمي لقاح رو...</td>\n",
              "      <td>False</td>\n",
              "    </tr>\n",
              "    <tr>\n",
              "      <th>...</th>\n",
              "      <td>...</td>\n",
              "      <td>...</td>\n",
              "      <td>...</td>\n",
              "      <td>...</td>\n",
              "      <td>...</td>\n",
              "      <td>...</td>\n",
              "    </tr>\n",
              "    <tr>\n",
              "      <th>963</th>\n",
              "      <td>4324</td>\n",
              "      <td>MFH</td>\n",
              "      <td>وزارة الصحة: 6 مواطنين أنهوا فترة الحجر الصحي ...</td>\n",
              "      <td>وزارة الصحة: 6 مواطنين أنهوا فترة الحجر الصحي ...</td>\n",
              "      <td>وزارة صحة : 6 مواطن أنهى فترة حجر صحي غادر مرك...</td>\n",
              "      <td>True</td>\n",
              "    </tr>\n",
              "    <tr>\n",
              "      <th>964</th>\n",
              "      <td>3673</td>\n",
              "      <td>MFH</td>\n",
              "      <td>قنبلة على المباشر : مباشرة من البيت الأبيض لم ...</td>\n",
              "      <td>قنبلة على المباشر : مباشرة من  LOC  لم ينتبهوا...</td>\n",
              "      <td>قنبلة على مباشر : مباشرة من LOC لم انتبه كامرا...</td>\n",
              "      <td>False</td>\n",
              "    </tr>\n",
              "    <tr>\n",
              "      <th>965</th>\n",
              "      <td>3830</td>\n",
              "      <td>MFH</td>\n",
              "      <td>عمان_لايف | تعلن وزارة الصحة عن وفاة مقيم مصاب...</td>\n",
              "      <td>LOC  | تعلن وزارة الصحة عن وفاة مقيم مصاب بمر...</td>\n",
              "      <td>LOC | أعلن وزارة صحة عن وفاة مقيم مصاب مرض كور...</td>\n",
              "      <td>True</td>\n",
              "    </tr>\n",
              "    <tr>\n",
              "      <th>966</th>\n",
              "      <td>1135</td>\n",
              "      <td>ARC</td>\n",
              "      <td>هنا لا اقول قد عادت الحياه فقط بل انتصر العدل ...</td>\n",
              "      <td>هنا لا اقول قد عادت الحياه فقط بل انتصر العدل ...</td>\n",
              "      <td>هنا لا أقول قد عادى حياه فقط بل انتصر عدل ل اج...</td>\n",
              "      <td>False</td>\n",
              "    </tr>\n",
              "    <tr>\n",
              "      <th>967</th>\n",
              "      <td>180</td>\n",
              "      <td>4IF</td>\n",
              "      <td>منظمة الصحة العالمية تحصل على بيانات لقاح كورو...</td>\n",
              "      <td>ORG  تحصل على بيانات لقاح كورونا الروسي الجديد</td>\n",
              "      <td>ORG حصل على بيان لقاح كورونا روسي جديد</td>\n",
              "      <td>True</td>\n",
              "    </tr>\n",
              "  </tbody>\n",
              "</table>\n",
              "<p>968 rows × 6 columns</p>\n",
              "</div>\n",
              "      <button class=\"colab-df-convert\" onclick=\"convertToInteractive('df-7d5fad70-1cf6-4830-a1b7-3114837649d5')\"\n",
              "              title=\"Convert this dataframe to an interactive table.\"\n",
              "              style=\"display:none;\">\n",
              "        \n",
              "  <svg xmlns=\"http://www.w3.org/2000/svg\" height=\"24px\"viewBox=\"0 0 24 24\"\n",
              "       width=\"24px\">\n",
              "    <path d=\"M0 0h24v24H0V0z\" fill=\"none\"/>\n",
              "    <path d=\"M18.56 5.44l.94 2.06.94-2.06 2.06-.94-2.06-.94-.94-2.06-.94 2.06-2.06.94zm-11 1L8.5 8.5l.94-2.06 2.06-.94-2.06-.94L8.5 2.5l-.94 2.06-2.06.94zm10 10l.94 2.06.94-2.06 2.06-.94-2.06-.94-.94-2.06-.94 2.06-2.06.94z\"/><path d=\"M17.41 7.96l-1.37-1.37c-.4-.4-.92-.59-1.43-.59-.52 0-1.04.2-1.43.59L10.3 9.45l-7.72 7.72c-.78.78-.78 2.05 0 2.83L4 21.41c.39.39.9.59 1.41.59.51 0 1.02-.2 1.41-.59l7.78-7.78 2.81-2.81c.8-.78.8-2.07 0-2.86zM5.41 20L4 18.59l7.72-7.72 1.47 1.35L5.41 20z\"/>\n",
              "  </svg>\n",
              "      </button>\n",
              "      \n",
              "  <style>\n",
              "    .colab-df-container {\n",
              "      display:flex;\n",
              "      flex-wrap:wrap;\n",
              "      gap: 12px;\n",
              "    }\n",
              "\n",
              "    .colab-df-convert {\n",
              "      background-color: #E8F0FE;\n",
              "      border: none;\n",
              "      border-radius: 50%;\n",
              "      cursor: pointer;\n",
              "      display: none;\n",
              "      fill: #1967D2;\n",
              "      height: 32px;\n",
              "      padding: 0 0 0 0;\n",
              "      width: 32px;\n",
              "    }\n",
              "\n",
              "    .colab-df-convert:hover {\n",
              "      background-color: #E2EBFA;\n",
              "      box-shadow: 0px 1px 2px rgba(60, 64, 67, 0.3), 0px 1px 3px 1px rgba(60, 64, 67, 0.15);\n",
              "      fill: #174EA6;\n",
              "    }\n",
              "\n",
              "    [theme=dark] .colab-df-convert {\n",
              "      background-color: #3B4455;\n",
              "      fill: #D2E3FC;\n",
              "    }\n",
              "\n",
              "    [theme=dark] .colab-df-convert:hover {\n",
              "      background-color: #434B5C;\n",
              "      box-shadow: 0px 1px 3px 1px rgba(0, 0, 0, 0.15);\n",
              "      filter: drop-shadow(0px 1px 2px rgba(0, 0, 0, 0.3));\n",
              "      fill: #FFFFFF;\n",
              "    }\n",
              "  </style>\n",
              "\n",
              "      <script>\n",
              "        const buttonEl =\n",
              "          document.querySelector('#df-7d5fad70-1cf6-4830-a1b7-3114837649d5 button.colab-df-convert');\n",
              "        buttonEl.style.display =\n",
              "          google.colab.kernel.accessAllowed ? 'block' : 'none';\n",
              "\n",
              "        async function convertToInteractive(key) {\n",
              "          const element = document.querySelector('#df-7d5fad70-1cf6-4830-a1b7-3114837649d5');\n",
              "          const dataTable =\n",
              "            await google.colab.kernel.invokeFunction('convertToInteractive',\n",
              "                                                     [key], {});\n",
              "          if (!dataTable) return;\n",
              "\n",
              "          const docLinkHtml = 'Like what you see? Visit the ' +\n",
              "            '<a target=\"_blank\" href=https://colab.research.google.com/notebooks/data_table.ipynb>data table notebook</a>'\n",
              "            + ' to learn more about interactive tables.';\n",
              "          element.innerHTML = '';\n",
              "          dataTable['output_type'] = 'display_data';\n",
              "          await google.colab.output.renderOutput(dataTable, element);\n",
              "          const docLink = document.createElement('div');\n",
              "          docLink.innerHTML = docLinkHtml;\n",
              "          element.appendChild(docLink);\n",
              "        }\n",
              "      </script>\n",
              "    </div>\n",
              "  </div>\n",
              "  "
            ],
            "text/plain": [
              "     index origin                                         tweet_text  \\\n",
              "0     3197    ARC  الفيديو المتداول بعنوان «دخول 20 مليون صيني في...   \n",
              "1     2526    ARC  النقاب ..احدى وسائل الوقاية من فيروس كورونا .....   \n",
              "2     4099    ARC  من الخطأ التشائم. وما اصاب الناس هو من عند انف...   \n",
              "3     1926    ARC  عليكم_ببول_الابل مهدي سبيلي،مدير الجمعية العلم...   \n",
              "4     1536    4IF  وزير الصحة الروسي : أبشروا بنهاية COVID-19 وزي...   \n",
              "..     ...    ...                                                ...   \n",
              "963   4324    MFH  وزارة الصحة: 6 مواطنين أنهوا فترة الحجر الصحي ...   \n",
              "964   3673    MFH  قنبلة على المباشر : مباشرة من البيت الأبيض لم ...   \n",
              "965   3830    MFH  عمان_لايف | تعلن وزارة الصحة عن وفاة مقيم مصاب...   \n",
              "966   1135    ARC  هنا لا اقول قد عادت الحياه فقط بل انتصر العدل ...   \n",
              "967    180    4IF  منظمة الصحة العالمية تحصل على بيانات لقاح كورو...   \n",
              "\n",
              "                                        tweet_text_NER  \\\n",
              "0    الفيديو المتداول بعنوان «دخول 20 مليون صيني في...   \n",
              "1    النقاب ..احدى وسائل الوقاية من فيروس كورونا .....   \n",
              "2    من الخطأ التشائم. وما اصاب الناس هو من عند انف...   \n",
              "3    عليكم_ببول_الابل  PER ،مدير الجمعية العلمية لط...   \n",
              "4     ORG  : أبشروا بنهاية COVID-19  ORG  : رسميا ا...   \n",
              "..                                                 ...   \n",
              "963  وزارة الصحة: 6 مواطنين أنهوا فترة الحجر الصحي ...   \n",
              "964  قنبلة على المباشر : مباشرة من  LOC  لم ينتبهوا...   \n",
              "965   LOC  | تعلن وزارة الصحة عن وفاة مقيم مصاب بمر...   \n",
              "966  هنا لا اقول قد عادت الحياه فقط بل انتصر العدل ...   \n",
              "967     ORG  تحصل على بيانات لقاح كورونا الروسي الجديد   \n",
              "\n",
              "                                   tweet_text_NER_STEM  label  \n",
              "0    فيديو متداول عنوان « دخول 20 مليون صيني في إسل...   True  \n",
              "1    نقاب . .احدى وسيلة وقاية من فيروس كورونا . . ....  False  \n",
              "2    من خطأ تشائم . ما أصاب ناس هو من عند نفس . LOC...  False  \n",
              "3    على _ بول _ ابل PER ، مدير جمعية علمي طب إمام ...  False  \n",
              "4    ORG : أبشر نهاية COVID - 19 ORG : رسمي لقاح رو...  False  \n",
              "..                                                 ...    ...  \n",
              "963  وزارة صحة : 6 مواطن أنهى فترة حجر صحي غادر مرك...   True  \n",
              "964  قنبلة على مباشر : مباشرة من LOC لم انتبه كامرا...  False  \n",
              "965  LOC | أعلن وزارة صحة عن وفاة مقيم مصاب مرض كور...   True  \n",
              "966  هنا لا أقول قد عادى حياه فقط بل انتصر عدل ل اج...  False  \n",
              "967             ORG حصل على بيان لقاح كورونا روسي جديد   True  \n",
              "\n",
              "[968 rows x 6 columns]"
            ]
          },
          "execution_count": 10,
          "metadata": {},
          "output_type": "execute_result"
        }
      ],
      "source": [
        "train_set.reset_index()\n",
        "test_set.reset_index()"
      ]
    },
    {
      "cell_type": "code",
      "execution_count": null,
      "metadata": {
        "id": "S1gYP8sNPC39"
      },
      "outputs": [],
      "source": []
    },
    {
      "cell_type": "code",
      "execution_count": null,
      "metadata": {
        "colab": {
          "base_uri": "https://localhost:8080/",
          "height": 190
        },
        "id": "Iz6dgnp7LIcw",
        "outputId": "1478eb2c-a05b-4a22-c0fa-8037a4dcf434"
      },
      "outputs": [
        {
          "ename": "NameError",
          "evalue": "ignored",
          "output_type": "error",
          "traceback": [
            "\u001b[0;31m---------------------------------------------------------------------------\u001b[0m",
            "\u001b[0;31mNameError\u001b[0m                                 Traceback (most recent call last)",
            "\u001b[0;32m<ipython-input-4-550038318717>\u001b[0m in \u001b[0;36m<module>\u001b[0;34m()\u001b[0m\n\u001b[0;32m----> 1\u001b[0;31m \u001b[0mtrain_set\u001b[0m\u001b[0;34m.\u001b[0m\u001b[0mto_csv\u001b[0m\u001b[0;34m(\u001b[0m\u001b[0;34m'/content/drive/MyDrive/Capstone Project Files CS/Datasets/Processed Datasets/trainCV_set_withNER.csv'\u001b[0m\u001b[0;34m)\u001b[0m\u001b[0;34m\u001b[0m\u001b[0;34m\u001b[0m\u001b[0m\n\u001b[0m\u001b[1;32m      2\u001b[0m \u001b[0mtest_set\u001b[0m\u001b[0;34m.\u001b[0m\u001b[0mto_csv\u001b[0m\u001b[0;34m(\u001b[0m\u001b[0;34m'/content/drive/MyDrive/Capstone Project Files CS/Datasets/Processed Datasets/testCV_set_withNER.csv'\u001b[0m\u001b[0;34m)\u001b[0m\u001b[0;34m\u001b[0m\u001b[0;34m\u001b[0m\u001b[0m\n",
            "\u001b[0;31mNameError\u001b[0m: name 'train_set' is not defined"
          ]
        }
      ],
      "source": [
        "train_set.to_csv('/content/drive/MyDrive/Capstone Project Files CS/Datasets/Processed Datasets/trainCV_set_withNER.csv')\n",
        "test_set.to_csv('/content/drive/MyDrive/Capstone Project Files CS/Datasets/Processed Datasets/testCV_set_withNER.csv')"
      ]
    },
    {
      "cell_type": "markdown",
      "metadata": {
        "id": "zj_dGVX15tr1"
      },
      "source": [
        "#Load dataset"
      ]
    },
    {
      "cell_type": "code",
      "execution_count": null,
      "metadata": {
        "id": "LzLukvYn6kGM"
      },
      "outputs": [],
      "source": [
        "training = pd.read_csv('/content/drive/MyDrive/Capstone Project Files CS/Datasets/Processed Datasets/trainCV_set_withNER.csv')\n",
        "testing = pd.read_csv('/content/drive/MyDrive/Capstone Project Files CS/Datasets/Processed Datasets/testCV_set_withNER.csv')"
      ]
    },
    {
      "cell_type": "code",
      "execution_count": null,
      "metadata": {
        "colab": {
          "base_uri": "https://localhost:8080/"
        },
        "id": "bqUcJ14ywP2e",
        "outputId": "e5114af1-9e47-4809-ad6f-13064dbdb868"
      },
      "outputs": [
        {
          "output_type": "stream",
          "name": "stdout",
          "text": [
            "Train: 3870 \n",
            " True     1939\n",
            "False    1931\n",
            "Name: label, dtype: int64 \n",
            "\n",
            "Test: 968 \n",
            " False    488\n",
            "True     480\n",
            "Name: label, dtype: int64 \n",
            "\n"
          ]
        }
      ],
      "source": [
        "print(\"Train:\",len(training), \"\\n\" ,training['label'].value_counts(),\"\\n\")\n",
        "print(\"Test:\",len(testing), \"\\n\", testing['label'].value_counts(),\"\\n\")"
      ]
    },
    {
      "cell_type": "code",
      "execution_count": null,
      "metadata": {
        "id": "xudGuqmcOEJ7"
      },
      "outputs": [],
      "source": [
        "training=training.drop(labels='Unnamed: 0', axis=1)\n",
        "testing=testing.drop(labels='Unnamed: 0', axis=1)"
      ]
    },
    {
      "cell_type": "markdown",
      "metadata": {
        "id": "n4QX9R4S5y8N"
      },
      "source": [
        "#Vectorization"
      ]
    },
    {
      "cell_type": "code",
      "execution_count": null,
      "metadata": {
        "colab": {
          "base_uri": "https://localhost:8080/"
        },
        "id": "x-M4Fj4m6zfL",
        "outputId": "f9767ea3-639c-40ba-8003-6c9570c8fded"
      },
      "outputs": [
        {
          "name": "stderr",
          "output_type": "stream",
          "text": [
            "/usr/local/lib/python3.7/dist-packages/sklearn/feature_extraction/text.py:401: UserWarning: Your stop_words may be inconsistent with your preprocessing. Tokenizing the stop words generated tokens ['آمين', 'آها', 'أب', 'أخ', 'أف', 'أفعل', 'أفعله', 'ؤلاء', 'إل', 'إليك', 'إليكن', 'إم', 'إيه', 'ات', 'اتان', 'ارتد', 'انفك', 'بخ', 'برح', 'بس', 'تان', 'تبد', 'تحو', 'تعل', 'حد', 'حم', 'حي', 'خب', 'ذار', 'ذان', 'سيما', 'شتان', 'صه', 'ظن', 'عد', 'قط', 'كأي', 'مر', 'مكان', 'مكانكن', 'نب', 'هات', 'هاك', 'هب', 'واها', 'وراء'] not in stop_words.\n",
            "  % sorted(inconsistent)\n"
          ]
        },
        {
          "name": "stdout",
          "output_type": "stream",
          "text": [
            "{'حقائق': 30572, 'استخدام': 8215, 'misc': 3269, 'علاج': 36190, 'كورونا': 39327, 'حقائق استخدام': 30576, 'استخدام misc': 8216, 'misc علاج': 3538, 'علاج كورونا': 36212, 'تعزية': 27872, 'يتقدم': 55079, 'فريق': 37187, 'المدينة': 19440, 'بخالص': 24098, 'التعازي': 11830, 'وأصدق': 48922, 'المواساة': 20803, 'عائلة': 35530, 'الممرضه_نجود_الخيبري': 20556, 'انتقلت': 22169}\n",
            "The transformed data matrix dimensions: (3870, 57413)\n"
          ]
        }
      ],
      "source": [
        "#CountVectorizer\n",
        "count_vectorizer = CountVectorizer(stop_words=arabic_stop_words, ngram_range=(1,2))\n",
        "count_vectorizer.fit((training['tweet_text_NER']))\n",
        "vectorized = count_vectorizer.transform(training['tweet_text_NER'])\n",
        "print(dict(list(count_vectorizer.vocabulary_.items())[0:20]))\n",
        "print('The transformed data matrix dimensions:', vectorized.shape)"
      ]
    },
    {
      "cell_type": "code",
      "execution_count": null,
      "metadata": {
        "colab": {
          "base_uri": "https://localhost:8080/"
        },
        "id": "D31jNt5owUJT",
        "outputId": "78da2237-a185-4550-d9d4-c8d940472149"
      },
      "outputs": [
        {
          "name": "stderr",
          "output_type": "stream",
          "text": [
            "/usr/local/lib/python3.7/dist-packages/sklearn/feature_extraction/text.py:401: UserWarning: Your stop_words may be inconsistent with your preprocessing. Tokenizing the stop words generated tokens ['آمين', 'آها', 'أب', 'أخ', 'أف', 'أفعل', 'أفعله', 'ؤلاء', 'إل', 'إليك', 'إليكن', 'إم', 'إيه', 'ات', 'اتان', 'ارتد', 'انفك', 'بخ', 'برح', 'بس', 'تان', 'تبد', 'تحو', 'تعل', 'حد', 'حم', 'حي', 'خب', 'ذار', 'ذان', 'سيما', 'شتان', 'صه', 'ظن', 'عد', 'قط', 'كأي', 'مر', 'مكان', 'مكانكن', 'نب', 'هات', 'هاك', 'هب', 'واها', 'وراء'] not in stop_words.\n",
            "  % sorted(inconsistent)\n"
          ]
        },
        {
          "name": "stdout",
          "output_type": "stream",
          "text": [
            "{'حقيقة': 17187, 'استخدام': 8783, 'misc': 2658, 'علاج': 26538, 'كورونا': 30176, 'حقيقة استخدام': 17195, 'استخدام misc': 8784, 'misc علاج': 2931}\n",
            "The transformed data matrix dimensions: (3870, 40832)\n"
          ]
        }
      ],
      "source": [
        "#CountVectorizer\n",
        "count_vectorizer = CountVectorizer(stop_words=arabic_stop_words, ngram_range=(1,2))\n",
        "count_vectorizer.fit((training['tweet_text_NER_STEM']))\n",
        "vectorized = count_vectorizer.transform(training['tweet_text_NER_STEM'])\n",
        "print(dict(list(count_vectorizer.vocabulary_.items())[0:8]))\n",
        "print('The transformed data matrix dimensions:', vectorized.shape)"
      ]
    },
    {
      "cell_type": "markdown",
      "metadata": {
        "id": "Q762rtJi9uz4"
      },
      "source": [
        "![tfidf.png](data:image/png;base64,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)"
      ]
    },
    {
      "cell_type": "code",
      "execution_count": null,
      "metadata": {
        "colab": {
          "base_uri": "https://localhost:8080/"
        },
        "id": "1ux0CmFbR1L3",
        "outputId": "b2d6222c-0b08-49f8-e4c7-f17cbddf7aa2"
      },
      "outputs": [
        {
          "name": "stdout",
          "output_type": "stream",
          "text": [
            "(2902, 33179)\n"
          ]
        }
      ],
      "source": [
        "#Term Frequency - Inverse Documnet Frequency\n",
        "tfidf_transformer = TfidfTransformer()\n",
        "tfidf_transformer.fit(vectorized)\n",
        "transformed_tfidf = tfidf_transformer.transform(vectorized)\n",
        "print(transformed_tfidf.shape)"
      ]
    },
    {
      "cell_type": "markdown",
      "metadata": {
        "id": "Rq5tdgBvBJkh"
      },
      "source": [
        "#Prediction measure indices"
      ]
    },
    {
      "cell_type": "code",
      "execution_count": null,
      "metadata": {
        "id": "z2bURKKk8soA"
      },
      "outputs": [],
      "source": [
        "def get_metrics(predicted,true):\n",
        "    metrics = dict()\n",
        "    metrics['accuracy'] = round(accuracy_score(predicted, true), 5)\n",
        "    metrics['precision'] = round(precision_score(predicted, true, average = 'weighted'), 5)\n",
        "    metrics['recall'] = round(recall_score(predicted, true, average = 'weighted'), 5)\n",
        "    metrics['f1'] = round(f1_score(predicted, true, average = 'weighted'), 5)\n",
        "    \n",
        "    return metrics"
      ]
    },
    {
      "cell_type": "markdown",
      "metadata": {
        "id": "6Wkfz1L5Bqhm"
      },
      "source": [
        "![prediction table.png](data:image/png;base64,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)"
      ]
    },
    {
      "cell_type": "markdown",
      "metadata": {
        "id": "DZz8jCS2Bq8M"
      },
      "source": [
        "- **Accuracy**\n",
        "\n",
        "![accuracy.png](data:image/png;base64,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)"
      ]
    },
    {
      "cell_type": "markdown",
      "metadata": {
        "id": "r0HKevgEBq_o"
      },
      "source": [
        "- **Precision**\n",
        "\n",
        "![precision.png](data:image/png;base64,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)"
      ]
    },
    {
      "cell_type": "markdown",
      "metadata": {
        "id": "SBxjPneiBrWr"
      },
      "source": [
        "- **Recall**\n",
        "\n",
        "![recall.png](data:image/png;base64,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)"
      ]
    },
    {
      "cell_type": "markdown",
      "metadata": {
        "id": "dXI7K8aqCs3e"
      },
      "source": [
        "- **F1 score**\n",
        "\n",
        "![f1_score.png](data:image/png;base64,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)"
      ]
    },
    {
      "cell_type": "code",
      "execution_count": null,
      "metadata": {
        "id": "nyl41FTr1FSv"
      },
      "outputs": [],
      "source": [
        "models_performance_report={}"
      ]
    },
    {
      "cell_type": "markdown",
      "metadata": {
        "id": "GS6gM588A1kx"
      },
      "source": [
        "#SVM (Support Vector Machine)"
      ]
    },
    {
      "cell_type": "code",
      "execution_count": null,
      "metadata": {
        "colab": {
          "base_uri": "https://localhost:8080/"
        },
        "id": "iUP_frY_e4qg",
        "outputId": "7f89f9f6-d6da-478d-d0f4-f6e68c61d378"
      },
      "outputs": [
        {
          "output_type": "stream",
          "name": "stdout",
          "text": [
            "{}\n"
          ]
        }
      ],
      "source": [
        "SVM_report={}\n",
        "print(SVM_report)"
      ]
    },
    {
      "cell_type": "markdown",
      "metadata": {
        "id": "i10EM7HDe_GE"
      },
      "source": [
        "Metrics Sheet \n",
        "\n",
        "Metrics_Report={SVM_report,LR_Report,NB_Report}\n"
      ]
    },
    {
      "cell_type": "code",
      "execution_count": null,
      "metadata": {
        "id": "wqmOa-9C8vxa"
      },
      "outputs": [],
      "source": [
        "pipeline_SVM = Pipeline([\n",
        "        ('count_vectorizer', CountVectorizer(stop_words=arabic_stop_words, ngram_range=(1,2) )),  \n",
        "        ('tfidf_transformer', TfidfTransformer()),  \n",
        "        ('classifier', SVC(kernel='rbf', gamma=1,C=100))\n",
        "    ])\n",
        "\n",
        "parameters={\n",
        "    'classifier__C': [0.1, 1, 10, 100, 1000],\n",
        "    'classifier__gamma': [1, 0.1, 0.01, 0.001],\n",
        "    'classifier__kernel': ['rbf','linear']}\n",
        "\n",
        "#BEST\n",
        "#{'classifier__C': 100, 'classifier__gamma': 1, 'classifier__kernel': 'rbf'}"
      ]
    },
    {
      "cell_type": "code",
      "execution_count": null,
      "metadata": {
        "colab": {
          "base_uri": "https://localhost:8080/"
        },
        "id": "f3oNJvDH8zjp",
        "outputId": "0b6c6f9b-4f61-4946-8daa-5d8f0b57e2f4"
      },
      "outputs": [
        {
          "data": {
            "text/plain": [
              "dict_keys(['memory', 'steps', 'verbose', 'count_vectorizer', 'tfidf_transformer', 'classifier', 'count_vectorizer__analyzer', 'count_vectorizer__binary', 'count_vectorizer__decode_error', 'count_vectorizer__dtype', 'count_vectorizer__encoding', 'count_vectorizer__input', 'count_vectorizer__lowercase', 'count_vectorizer__max_df', 'count_vectorizer__max_features', 'count_vectorizer__min_df', 'count_vectorizer__ngram_range', 'count_vectorizer__preprocessor', 'count_vectorizer__stop_words', 'count_vectorizer__strip_accents', 'count_vectorizer__token_pattern', 'count_vectorizer__tokenizer', 'count_vectorizer__vocabulary', 'tfidf_transformer__norm', 'tfidf_transformer__smooth_idf', 'tfidf_transformer__sublinear_tf', 'tfidf_transformer__use_idf', 'classifier__C', 'classifier__break_ties', 'classifier__cache_size', 'classifier__class_weight', 'classifier__coef0', 'classifier__decision_function_shape', 'classifier__degree', 'classifier__gamma', 'classifier__kernel', 'classifier__max_iter', 'classifier__probability', 'classifier__random_state', 'classifier__shrinking', 'classifier__tol', 'classifier__verbose'])"
            ]
          },
          "execution_count": 41,
          "metadata": {},
          "output_type": "execute_result"
        }
      ],
      "source": [
        "pipeline_SVM.get_params().keys()"
      ]
    },
    {
      "cell_type": "code",
      "execution_count": null,
      "metadata": {
        "colab": {
          "base_uri": "https://localhost:8080/"
        },
        "id": "OKScU3aPlmFf",
        "outputId": "bdfdfe34-8085-4039-b850-2e979f6b6adc"
      },
      "outputs": [
        {
          "name": "stdout",
          "output_type": "stream",
          "text": [
            "Fitting 5 folds for each of 40 candidates, totalling 200 fits\n"
          ]
        },
        {
          "name": "stderr",
          "output_type": "stream",
          "text": [
            "/usr/local/lib/python3.7/dist-packages/sklearn/feature_extraction/text.py:401: UserWarning: Your stop_words may be inconsistent with your preprocessing. Tokenizing the stop words generated tokens ['آمين', 'آها', 'أب', 'أخ', 'أف', 'أفعل', 'أفعله', 'ؤلاء', 'إل', 'إليك', 'إليكن', 'إم', 'إيه', 'ات', 'اتان', 'ارتد', 'انفك', 'بخ', 'برح', 'بس', 'تان', 'تبد', 'تحو', 'تعل', 'حد', 'حم', 'حي', 'خب', 'ذار', 'ذان', 'سيما', 'شتان', 'صه', 'ظن', 'عد', 'قط', 'كأي', 'مر', 'مكان', 'مكانكن', 'نب', 'هات', 'هاك', 'هب', 'واها', 'وراء'] not in stop_words.\n",
            "  % sorted(inconsistent)\n"
          ]
        },
        {
          "name": "stdout",
          "output_type": "stream",
          "text": [
            "              precision    recall  f1-score   support\n",
            "\n",
            "       False       0.93      0.88      0.90       488\n",
            "        True       0.88      0.93      0.91       480\n",
            "\n",
            "    accuracy                           0.90       968\n",
            "   macro avg       0.91      0.90      0.90       968\n",
            "weighted avg       0.91      0.90      0.90       968\n",
            "\n",
            "{'accuracy': 0.90393, 'precision': 0.90567, 'recall': 0.90393, 'f1': 0.90399}\n",
            "{'classifier__C': 100, 'classifier__gamma': 1, 'classifier__kernel': 'rbf'}\n"
          ]
        }
      ],
      "source": [
        "SVM_GSCV = GridSearchCV(pipeline_SVM, parameters, cv=5, n_jobs=3, scoring=\"accuracy\", verbose=2)\n",
        "\n",
        "SVM_GSCV.fit(training['tweet_text_NER_STEM'], training['label'])\n",
        "prediction_SVM = SVM_GSCV.predict(testing['tweet_text_NER_STEM'])\n",
        "cr=classification_report(testing['label'], prediction_SVM)\n",
        "metrics_SVM = get_metrics(prediction_SVM, testing['label'])\n",
        "print(cr)\n",
        "print(metrics_SVM)\n",
        "print(SVM_GSCV.best_params_)"
      ]
    },
    {
      "cell_type": "markdown",
      "metadata": {
        "id": "9F5Nnom-HAFe"
      },
      "source": [
        "NER STEM "
      ]
    },
    {
      "cell_type": "code",
      "execution_count": null,
      "metadata": {
        "colab": {
          "base_uri": "https://localhost:8080/"
        },
        "id": "rT5v3J5XzZ5U",
        "outputId": "43f9cab3-0c37-40bc-f868-71f43b7b79fd"
      },
      "outputs": [
        {
          "output_type": "stream",
          "name": "stderr",
          "text": [
            "/usr/local/lib/python3.7/dist-packages/sklearn/feature_extraction/text.py:401: UserWarning: Your stop_words may be inconsistent with your preprocessing. Tokenizing the stop words generated tokens ['آمين', 'آها', 'أب', 'أخ', 'أف', 'أفعل', 'أفعله', 'ؤلاء', 'إل', 'إليك', 'إليكن', 'إم', 'إيه', 'ات', 'اتان', 'ارتد', 'انفك', 'بخ', 'برح', 'بس', 'تان', 'تبد', 'تحو', 'تعل', 'حد', 'حم', 'حي', 'خب', 'ذار', 'ذان', 'سيما', 'شتان', 'صه', 'ظن', 'عد', 'قط', 'كأي', 'مر', 'مكان', 'مكانكن', 'نب', 'هات', 'هاك', 'هب', 'واها', 'وراء'] not in stop_words.\n",
            "  % sorted(inconsistent)\n",
            "/usr/local/lib/python3.7/dist-packages/sklearn/feature_extraction/text.py:401: UserWarning: Your stop_words may be inconsistent with your preprocessing. Tokenizing the stop words generated tokens ['آمين', 'آها', 'أب', 'أخ', 'أف', 'أفعل', 'أفعله', 'ؤلاء', 'إل', 'إليك', 'إليكن', 'إم', 'إيه', 'ات', 'اتان', 'ارتد', 'انفك', 'بخ', 'برح', 'بس', 'تان', 'تبد', 'تحو', 'تعل', 'حد', 'حم', 'حي', 'خب', 'ذار', 'ذان', 'سيما', 'شتان', 'صه', 'ظن', 'عد', 'قط', 'كأي', 'مر', 'مكان', 'مكانكن', 'نب', 'هات', 'هاك', 'هب', 'واها', 'وراء'] not in stop_words.\n",
            "  % sorted(inconsistent)\n",
            "/usr/local/lib/python3.7/dist-packages/sklearn/feature_extraction/text.py:401: UserWarning: Your stop_words may be inconsistent with your preprocessing. Tokenizing the stop words generated tokens ['آمين', 'آها', 'أب', 'أخ', 'أف', 'أفعل', 'أفعله', 'ؤلاء', 'إل', 'إليك', 'إليكن', 'إم', 'إيه', 'ات', 'اتان', 'ارتد', 'انفك', 'بخ', 'برح', 'بس', 'تان', 'تبد', 'تحو', 'تعل', 'حد', 'حم', 'حي', 'خب', 'ذار', 'ذان', 'سيما', 'شتان', 'صه', 'ظن', 'عد', 'قط', 'كأي', 'مر', 'مكان', 'مكانكن', 'نب', 'هات', 'هاك', 'هب', 'واها', 'وراء'] not in stop_words.\n",
            "  % sorted(inconsistent)\n",
            "/usr/local/lib/python3.7/dist-packages/sklearn/feature_extraction/text.py:401: UserWarning: Your stop_words may be inconsistent with your preprocessing. Tokenizing the stop words generated tokens ['آمين', 'آها', 'أب', 'أخ', 'أف', 'أفعل', 'أفعله', 'ؤلاء', 'إل', 'إليك', 'إليكن', 'إم', 'إيه', 'ات', 'اتان', 'ارتد', 'انفك', 'بخ', 'برح', 'بس', 'تان', 'تبد', 'تحو', 'تعل', 'حد', 'حم', 'حي', 'خب', 'ذار', 'ذان', 'سيما', 'شتان', 'صه', 'ظن', 'عد', 'قط', 'كأي', 'مر', 'مكان', 'مكانكن', 'نب', 'هات', 'هاك', 'هب', 'واها', 'وراء'] not in stop_words.\n",
            "  % sorted(inconsistent)\n",
            "/usr/local/lib/python3.7/dist-packages/sklearn/feature_extraction/text.py:401: UserWarning: Your stop_words may be inconsistent with your preprocessing. Tokenizing the stop words generated tokens ['آمين', 'آها', 'أب', 'أخ', 'أف', 'أفعل', 'أفعله', 'ؤلاء', 'إل', 'إليك', 'إليكن', 'إم', 'إيه', 'ات', 'اتان', 'ارتد', 'انفك', 'بخ', 'برح', 'بس', 'تان', 'تبد', 'تحو', 'تعل', 'حد', 'حم', 'حي', 'خب', 'ذار', 'ذان', 'سيما', 'شتان', 'صه', 'ظن', 'عد', 'قط', 'كأي', 'مر', 'مكان', 'مكانكن', 'نب', 'هات', 'هاك', 'هب', 'واها', 'وراء'] not in stop_words.\n",
            "  % sorted(inconsistent)\n",
            "/usr/local/lib/python3.7/dist-packages/sklearn/feature_extraction/text.py:401: UserWarning: Your stop_words may be inconsistent with your preprocessing. Tokenizing the stop words generated tokens ['آمين', 'آها', 'أب', 'أخ', 'أف', 'أفعل', 'أفعله', 'ؤلاء', 'إل', 'إليك', 'إليكن', 'إم', 'إيه', 'ات', 'اتان', 'ارتد', 'انفك', 'بخ', 'برح', 'بس', 'تان', 'تبد', 'تحو', 'تعل', 'حد', 'حم', 'حي', 'خب', 'ذار', 'ذان', 'سيما', 'شتان', 'صه', 'ظن', 'عد', 'قط', 'كأي', 'مر', 'مكان', 'مكانكن', 'نب', 'هات', 'هاك', 'هب', 'واها', 'وراء'] not in stop_words.\n",
            "  % sorted(inconsistent)\n",
            "/usr/local/lib/python3.7/dist-packages/sklearn/feature_extraction/text.py:401: UserWarning: Your stop_words may be inconsistent with your preprocessing. Tokenizing the stop words generated tokens ['آمين', 'آها', 'أب', 'أخ', 'أف', 'أفعل', 'أفعله', 'ؤلاء', 'إل', 'إليك', 'إليكن', 'إم', 'إيه', 'ات', 'اتان', 'ارتد', 'انفك', 'بخ', 'برح', 'بس', 'تان', 'تبد', 'تحو', 'تعل', 'حد', 'حم', 'حي', 'خب', 'ذار', 'ذان', 'سيما', 'شتان', 'صه', 'ظن', 'عد', 'قط', 'كأي', 'مر', 'مكان', 'مكانكن', 'نب', 'هات', 'هاك', 'هب', 'واها', 'وراء'] not in stop_words.\n",
            "  % sorted(inconsistent)\n",
            "/usr/local/lib/python3.7/dist-packages/sklearn/feature_extraction/text.py:401: UserWarning: Your stop_words may be inconsistent with your preprocessing. Tokenizing the stop words generated tokens ['آمين', 'آها', 'أب', 'أخ', 'أف', 'أفعل', 'أفعله', 'ؤلاء', 'إل', 'إليك', 'إليكن', 'إم', 'إيه', 'ات', 'اتان', 'ارتد', 'انفك', 'بخ', 'برح', 'بس', 'تان', 'تبد', 'تحو', 'تعل', 'حد', 'حم', 'حي', 'خب', 'ذار', 'ذان', 'سيما', 'شتان', 'صه', 'ظن', 'عد', 'قط', 'كأي', 'مر', 'مكان', 'مكانكن', 'نب', 'هات', 'هاك', 'هب', 'واها', 'وراء'] not in stop_words.\n",
            "  % sorted(inconsistent)\n",
            "/usr/local/lib/python3.7/dist-packages/sklearn/feature_extraction/text.py:401: UserWarning: Your stop_words may be inconsistent with your preprocessing. Tokenizing the stop words generated tokens ['آمين', 'آها', 'أب', 'أخ', 'أف', 'أفعل', 'أفعله', 'ؤلاء', 'إل', 'إليك', 'إليكن', 'إم', 'إيه', 'ات', 'اتان', 'ارتد', 'انفك', 'بخ', 'برح', 'بس', 'تان', 'تبد', 'تحو', 'تعل', 'حد', 'حم', 'حي', 'خب', 'ذار', 'ذان', 'سيما', 'شتان', 'صه', 'ظن', 'عد', 'قط', 'كأي', 'مر', 'مكان', 'مكانكن', 'نب', 'هات', 'هاك', 'هب', 'واها', 'وراء'] not in stop_words.\n",
            "  % sorted(inconsistent)\n",
            "/usr/local/lib/python3.7/dist-packages/sklearn/feature_extraction/text.py:401: UserWarning: Your stop_words may be inconsistent with your preprocessing. Tokenizing the stop words generated tokens ['آمين', 'آها', 'أب', 'أخ', 'أف', 'أفعل', 'أفعله', 'ؤلاء', 'إل', 'إليك', 'إليكن', 'إم', 'إيه', 'ات', 'اتان', 'ارتد', 'انفك', 'بخ', 'برح', 'بس', 'تان', 'تبد', 'تحو', 'تعل', 'حد', 'حم', 'حي', 'خب', 'ذار', 'ذان', 'سيما', 'شتان', 'صه', 'ظن', 'عد', 'قط', 'كأي', 'مر', 'مكان', 'مكانكن', 'نب', 'هات', 'هاك', 'هب', 'واها', 'وراء'] not in stop_words.\n",
            "  % sorted(inconsistent)\n"
          ]
        },
        {
          "output_type": "stream",
          "name": "stdout",
          "text": [
            "              precision    recall  f1-score   support\n",
            "\n",
            "       False       0.93      0.88      0.90       488\n",
            "        True       0.88      0.93      0.91       480\n",
            "\n",
            "    accuracy                           0.90       968\n",
            "   macro avg       0.91      0.90      0.90       968\n",
            "weighted avg       0.91      0.90      0.90       968\n",
            "\n",
            "{'NER_STEM': {'Performance_metrics': {'accuracy': 0.90393, 'precision': 0.90567, 'recall': 0.90393, 'f1': 0.90399}, 'Cross_validaiton_results': {'k-folds-accuracy-results': [0.84755, 0.86305, 0.85788, 0.88889, 0.86822, 0.89147, 0.87855, 0.87855, 0.8553, 0.90181], 'MIN': 0.84755, 'MAX': 0.90181, 'Mean': 0.87313, 'SD': 0.01672}}}\n"
          ]
        }
      ],
      "source": [
        "#SVM_grid_pipeline=GridSearchCV(estimator=pipeline_SVM,param_grid=parameters,cv=10, refit = True, verbose = 1)\n",
        "#SVM_grid_pipeline.fit(training['tweet_text_NER_STEM'], training['label'])\n",
        "#SVM_grid_pipeline.best_params_\n",
        "\n",
        "CV_scores = cross_val_score(pipeline_SVM, training['tweet_text_NER_STEM'], training['label'], cv=10, verbose=0)\n",
        "CV_scores = [round(result, 5) for result in CV_scores]\n",
        "\n",
        "\n",
        "pipeline_SVM.fit(training['tweet_text_NER_STEM'], training['label'])\n",
        "prediction_SVM = pipeline_SVM.predict(testing['tweet_text_NER_STEM'])\n",
        "\n",
        "cr= classification_report(testing['label'], prediction_SVM)\n",
        "\n",
        "\n",
        "metrics_SVM = get_metrics(prediction_SVM, testing['label'])\n",
        "SVM_report[\"NER_STEM\"]={\"Performance_metrics\":metrics_SVM, \n",
        "                           \"Cross_validaiton_results\":{\"k-folds-accuracy-results\":list(CV_scores),\"MIN\":round(min(CV_scores), 5), \n",
        "                                                       \"MAX\":round(max(CV_scores),5), \"Mean\":round(np.mean(CV_scores),5), \"SD\":round(np.std(CV_scores),5)}}\n",
        "print(cr)\n",
        "print(SVM_report)\n",
        "#print(metrics_SVM)\n",
        "with open(\"SVM_NER_STEM.json\", \"w\") as output:\n",
        "    json.dump(SVM_report[\"NER_STEM\"], output)\n"
      ]
    },
    {
      "cell_type": "code",
      "source": [
        "filename = 'SVM_Level3.sav'\n",
        "dir='/content/drive/MyDrive/Capstone Project Files CS/Models/'\n",
        "pickle.dump(pipeline_SVM, open(dir+filename, 'wb'))"
      ],
      "metadata": {
        "id": "uZ2l--frkiKe"
      },
      "execution_count": null,
      "outputs": []
    },
    {
      "cell_type": "markdown",
      "metadata": {
        "id": "Ezux-dRHHQX3"
      },
      "source": [
        "NER"
      ]
    },
    {
      "cell_type": "code",
      "execution_count": null,
      "metadata": {
        "colab": {
          "base_uri": "https://localhost:8080/"
        },
        "id": "YdmeLDHt834O",
        "outputId": "a00bd077-2fd7-4b1c-b3bb-038c815d882b"
      },
      "outputs": [
        {
          "output_type": "stream",
          "name": "stdout",
          "text": [
            "              precision    recall  f1-score   support\n",
            "\n",
            "       False       0.92      0.88      0.90       488\n",
            "        True       0.88      0.93      0.90       480\n",
            "\n",
            "    accuracy                           0.90       968\n",
            "   macro avg       0.90      0.90      0.90       968\n",
            "weighted avg       0.90      0.90      0.90       968\n",
            "\n",
            "{'NER_STEM': {'Performance_metrics': {'accuracy': 0.90393, 'precision': 0.90567, 'recall': 0.90393, 'f1': 0.90399}, 'Cross_validaiton_results': {'k-folds-accuracy-results': [0.84755, 0.86305, 0.85788, 0.88889, 0.86822, 0.89147, 0.87855, 0.87855, 0.8553, 0.90181], 'MIN': 0.84755, 'MAX': 0.90181, 'Mean': 0.87313, 'SD': 0.01672}}, 'NER': {'Performance_metrics': {'accuracy': 0.90186, 'precision': 0.90295, 'recall': 0.90186, 'f1': 0.9019}, 'Cross_validaiton_results': {'k-folds-accuracy-results': [0.84755, 0.86305, 0.85788, 0.88889, 0.86822, 0.89147, 0.87855, 0.87855, 0.8553, 0.90181], 'MIN': 0.84755, 'MAX': 0.90181, 'Mean': 0.87313, 'SD': 0.01672}}}\n"
          ]
        }
      ],
      "source": [
        "#SVM_grid_pipeline=GridSearchCV(estimator=pipeline_SVM,param_grid=parameters,cv=10, refit = True, verbose = 1)\n",
        "#SVM_grid_pipeline.fit(training['tweet_text_NER_STEM'], training['label'])\n",
        "#SVM_grid_pipeline.best_params_\n",
        "\n",
        "#CV_scores = cross_val_score(pipeline_SVM, training['tweet_text_NER'], training['label'], cv=10, verbose=0)\n",
        "#CV_scores = [round(result, 5) for result in CV_scores]\n",
        "\n",
        "\n",
        "pipeline_SVM.fit(training['tweet_text_NER'], training['label'])\n",
        "prediction_SVM = pipeline_SVM.predict(testing['tweet_text_NER'])\n",
        "\n",
        "cr= classification_report(testing['label'], prediction_SVM)\n",
        "\n",
        "\n",
        "metrics_SVM = get_metrics(prediction_SVM, testing['label'])\n",
        "SVM_report[\"NER\"]={\"Performance_metrics\":metrics_SVM, \n",
        "                           \"Cross_validaiton_results\":{\"k-folds-accuracy-results\":list(CV_scores),\"MIN\":round(min(CV_scores), 5), \n",
        "                                                       \"MAX\":round(max(CV_scores),5), \"Mean\":round(np.mean(CV_scores),5), \"SD\":round(np.std(CV_scores),5)}}\n",
        "print(cr)\n",
        "print(SVM_report)\n",
        "#print(metrics_SVM)\n",
        "with open(\"SVM_NER.json\", \"w\") as output:\n",
        "    json.dump(SVM_report[\"NER\"], output)\n"
      ]
    },
    {
      "cell_type": "code",
      "source": [
        "filename = 'SVM_Level2.sav'\n",
        "dir='/content/drive/MyDrive/Capstone Project Files CS/Models/'\n",
        "pickle.dump(pipeline_SVM, open(dir+filename, 'wb'))"
      ],
      "metadata": {
        "id": "eE8Q07DXk94z"
      },
      "execution_count": null,
      "outputs": []
    },
    {
      "cell_type": "markdown",
      "metadata": {
        "id": "oq4A290MHYpd"
      },
      "source": [
        "Premitive"
      ]
    },
    {
      "cell_type": "code",
      "execution_count": null,
      "metadata": {
        "colab": {
          "base_uri": "https://localhost:8080/"
        },
        "id": "KaPjF1v39B_b",
        "outputId": "e9842fbd-1057-4e9b-a895-d9fa1f7c4e62"
      },
      "outputs": [
        {
          "output_type": "stream",
          "name": "stdout",
          "text": [
            "              precision    recall  f1-score   support\n",
            "\n",
            "       False       0.93      0.88      0.91       488\n",
            "        True       0.89      0.94      0.91       480\n",
            "\n",
            "    accuracy                           0.91       968\n",
            "   macro avg       0.91      0.91      0.91       968\n",
            "weighted avg       0.91      0.91      0.91       968\n",
            "\n",
            "{'NER_STEM': {'Performance_metrics': {'accuracy': 0.90393, 'precision': 0.90567, 'recall': 0.90393, 'f1': 0.90399}, 'Cross_validaiton_results': {'k-folds-accuracy-results': [0.84755, 0.86305, 0.85788, 0.88889, 0.86822, 0.89147, 0.87855, 0.87855, 0.8553, 0.90181], 'MIN': 0.84755, 'MAX': 0.90181, 'Mean': 0.87313, 'SD': 0.01672}}, 'NER': {'Performance_metrics': {'accuracy': 0.90186, 'precision': 0.90295, 'recall': 0.90186, 'f1': 0.9019}, 'Cross_validaiton_results': {'k-folds-accuracy-results': [0.84755, 0.86305, 0.85788, 0.88889, 0.86822, 0.89147, 0.87855, 0.87855, 0.8553, 0.90181], 'MIN': 0.84755, 'MAX': 0.90181, 'Mean': 0.87313, 'SD': 0.01672}}, 'PREMITIVE': {'Performance_metrics': {'accuracy': 0.90909, 'precision': 0.91049, 'recall': 0.90909, 'f1': 0.90914}, 'Cross_validaiton_results': {'k-folds-accuracy-results': [0.84755, 0.86305, 0.85788, 0.88889, 0.86822, 0.89147, 0.87855, 0.87855, 0.8553, 0.90181], 'MIN': 0.84755, 'MAX': 0.90181, 'Mean': 0.87313, 'SD': 0.01672}}}\n"
          ]
        }
      ],
      "source": [
        "#SVM_grid_pipeline=GridSearchCV(estimator=pipeline_SVM,param_grid=parameters,cv=10, refit = True, verbose = 1)\n",
        "#SVM_grid_pipeline.fit(training['tweet_text_NER_STEM'], training['label'])\n",
        "#SVM_grid_pipeline.best_params_\n",
        "\n",
        "#CV_scores = cross_val_score(pipeline_SVM, training['tweet_text'], training['label'], cv=10, verbose=0)\n",
        "#CV_scores = [round(result, 5) for result in CV_scores]\n",
        "\n",
        "\n",
        "pipeline_SVM.fit(training['tweet_text'], training['label'])\n",
        "prediction_SVM = pipeline_SVM.predict(testing['tweet_text'])\n",
        "\n",
        "cr= classification_report(testing['label'], prediction_SVM)\n",
        "\n",
        "\n",
        "metrics_SVM = get_metrics(prediction_SVM, testing['label'])\n",
        "SVM_report[\"PREMITIVE\"]={\"Performance_metrics\":metrics_SVM, \n",
        "                           \"Cross_validaiton_results\":{\"k-folds-accuracy-results\":list(CV_scores),\"MIN\":round(min(CV_scores), 5), \n",
        "                                                       \"MAX\":round(max(CV_scores),5), \"Mean\":round(np.mean(CV_scores),5), \"SD\":round(np.std(CV_scores),5)}}\n",
        "print(cr)\n",
        "print(SVM_report)\n",
        "#print(metrics_SVM)\n",
        "with open(\"SVM_premitive.json\", \"w\") as output:\n",
        "    json.dump(SVM_report[\"PREMITIVE\"], output)"
      ]
    },
    {
      "cell_type": "code",
      "source": [
        "filename = 'SVM_Level1.sav'\n",
        "dir='/content/drive/MyDrive/Capstone Project Files CS/Models/'\n",
        "pickle.dump(pipeline_SVM, open(dir+filename, 'wb'))"
      ],
      "metadata": {
        "id": "d9cqP2mBlIzx"
      },
      "execution_count": null,
      "outputs": []
    },
    {
      "cell_type": "code",
      "execution_count": null,
      "metadata": {
        "colab": {
          "base_uri": "https://localhost:8080/"
        },
        "id": "bObfnJp9-bHT",
        "outputId": "fd54028d-a175-4be6-9f23-6cd85fc16db9"
      },
      "outputs": [
        {
          "name": "stdout",
          "output_type": "stream",
          "text": [
            "{'RF': {'NER_STEM': {'Performance_metrics': {'accuracy': 0.88843, 'precision': 0.89502, 'recall': 0.88843, 'f1': 0.88875}, 'Cross_validaiton_results': {'k-folds-accuracy-results': [0.84755, 0.82687, 0.8553, 0.87339, 0.85013, 0.86047, 0.84755, 0.85271, 0.85271, 0.87597], 'MIN': 0.82687, 'MAX': 0.87597, 'Mean': 0.85426, 'SD': 0.01319}}, 'NER': {'Performance_metrics': {'accuracy': 0.87397, 'precision': 0.87495, 'recall': 0.87397, 'f1': 0.87401}, 'Cross_validaiton_results': {'k-folds-accuracy-results': [0.84238, 0.81137, 0.84496, 0.87339, 0.8553, 0.84238, 0.84238, 0.86822, 0.85271, 0.83979], 'MIN': 0.81137, 'MAX': 0.87339, 'Mean': 0.84729, 'SD': 0.01624}}, 'PRIMITIVE': {'Performance_metrics': {'accuracy': 0.88636, 'precision': 0.88702, 'recall': 0.88636, 'f1': 0.88639}, 'Cross_validaiton_results': {'k-folds-accuracy-results': [0.8708, 0.83721, 0.84238, 0.87855, 0.84755, 0.86563, 0.86563, 0.86563, 0.8553, 0.8553], 'MIN': 0.83721, 'MAX': 0.87855, 'Mean': 0.8584, 'SD': 0.01249}}}, 'SVM': {'NER_STEM': {'Performance_metrics': {'accuracy': 0.90393, 'precision': 0.90567, 'recall': 0.90393, 'f1': 0.90399}, 'Cross_validaiton_results': {'k-folds-accuracy-results': [0.84755, 0.86305, 0.85788, 0.88889, 0.86822, 0.89147, 0.87855, 0.87855, 0.8553, 0.90181], 'MIN': 0.84755, 'MAX': 0.90181, 'Mean': 0.87313, 'SD': 0.01672}}, 'NER': {'Performance_metrics': {'accuracy': 0.90186, 'precision': 0.90295, 'recall': 0.90186, 'f1': 0.9019}, 'Cross_validaiton_results': {'k-folds-accuracy-results': [0.8708, 0.86047, 0.86563, 0.8863, 0.8708, 0.88889, 0.8863, 0.88372, 0.85788, 0.87855], 'MIN': 0.85788, 'MAX': 0.88889, 'Mean': 0.87493, 'SD': 0.01079}}, 'PREMITIVE': {'Performance_metrics': {'accuracy': 0.90909, 'precision': 0.91049, 'recall': 0.90909, 'f1': 0.90914}, 'Cross_validaiton_results': {'k-folds-accuracy-results': [0.89664, 0.88372, 0.85788, 0.89922, 0.87597, 0.90181, 0.90181, 0.89147, 0.87597, 0.89664], 'MIN': 0.85788, 'MAX': 0.90181, 'Mean': 0.88811, 'SD': 0.01372}}}}\n"
          ]
        }
      ],
      "source": [
        "models_performance_report['SVM']=SVM_report\n",
        "print(models_performance_report)"
      ]
    },
    {
      "cell_type": "markdown",
      "metadata": {
        "id": "Kok4wRhjDORE"
      },
      "source": [
        "# Logistic Regression"
      ]
    },
    {
      "cell_type": "code",
      "execution_count": null,
      "metadata": {
        "id": "VcBEzm8A913j"
      },
      "outputs": [],
      "source": [
        "pipeline_LR = Pipeline([\n",
        "        ('count_vectorizer', CountVectorizer(stop_words=arabic_stop_words, ngram_range=(1,2))),  \n",
        "        ('tfidf_transformer', TfidfTransformer()),  \n",
        "        ('classifier', LogisticRegression())\n",
        "    ])\n",
        "\n",
        "LR_report={}"
      ]
    },
    {
      "cell_type": "markdown",
      "metadata": {
        "id": "j9juPQ4SHlZl"
      },
      "source": [
        "NER STEM"
      ]
    },
    {
      "cell_type": "code",
      "execution_count": null,
      "metadata": {
        "colab": {
          "base_uri": "https://localhost:8080/"
        },
        "id": "YvHdmBf2Gr7z",
        "outputId": "6ab8acef-ec73-4f0d-b47c-e7f2d54a90a9"
      },
      "outputs": [
        {
          "output_type": "stream",
          "name": "stdout",
          "text": [
            "              precision    recall  f1-score   support\n",
            "\n",
            "       False       0.92      0.86      0.89       488\n",
            "        True       0.86      0.93      0.89       480\n",
            "\n",
            "    accuracy                           0.89       968\n",
            "   macro avg       0.89      0.89      0.89       968\n",
            "weighted avg       0.89      0.89      0.89       968\n",
            "\n",
            "{'NER_STEM': {'Performance_metrics': {'accuracy': 0.89153, 'precision': 0.89408, 'recall': 0.89153, 'f1': 0.89164}, 'Cross_validaiton_results': {'k-folds-accuracy-results': [0.84755, 0.86305, 0.85788, 0.88889, 0.86822, 0.89147, 0.87855, 0.87855, 0.8553, 0.90181], 'MIN': 0.84755, 'MAX': 0.90181, 'Mean': 0.87313, 'SD': 0.01672}}}\n"
          ]
        }
      ],
      "source": [
        "#CV_scores = cross_val_score(pipeline_LR, training['tweet_text_NER_STEM'], training['label'], cv=10, verbose=0)\n",
        "#CV_scores = [round(result, 5) for result in CV_scores]\n",
        "\n",
        "pipeline_LR.fit(training['tweet_text_NER_STEM'], training['label'])\n",
        "prediction_LR = pipeline_LR.predict(testing['tweet_text_NER_STEM'])\n",
        "\n",
        "cr=classification_report(testing['label'], prediction_LR)\n",
        "\n",
        "\n",
        "metrics_LR = get_metrics(prediction_LR, testing['label'])\n",
        "\n",
        "LR_report[\"NER_STEM\"]={\"Performance_metrics\":metrics_LR, \n",
        "                           \"Cross_validaiton_results\":{\"k-folds-accuracy-results\":list(CV_scores),\"MIN\":round(min(CV_scores), 5), \n",
        "                                                       \"MAX\":round(max(CV_scores),5), \"Mean\":round(np.mean(CV_scores),5), \"SD\":round(np.std(CV_scores),5)}}\n",
        "print(cr)\n",
        "print(LR_report)\n",
        "with open(\"LR_NER_STEM.json\", \"w\") as output:\n",
        "    json.dump(LR_report[\"NER_STEM\"], output)\n",
        "\n",
        "filename = 'LR_Level3.sav'\n",
        "dir='/content/drive/MyDrive/Capstone Project Files CS/Models/'\n",
        "pickle.dump(pipeline_SVM, open(dir+filename, 'wb'))\n"
      ]
    },
    {
      "cell_type": "markdown",
      "metadata": {
        "id": "PV0CCiBXH1J5"
      },
      "source": [
        "NER"
      ]
    },
    {
      "cell_type": "code",
      "execution_count": null,
      "metadata": {
        "colab": {
          "base_uri": "https://localhost:8080/"
        },
        "id": "c2wIPYzp9_h6",
        "outputId": "2f56bd1d-1bc7-4e1b-b6ce-1d378659de9f"
      },
      "outputs": [
        {
          "output_type": "stream",
          "name": "stdout",
          "text": [
            "              precision    recall  f1-score   support\n",
            "\n",
            "       False       0.92      0.87      0.89       488\n",
            "        True       0.87      0.92      0.90       480\n",
            "\n",
            "    accuracy                           0.89       968\n",
            "   macro avg       0.90      0.89      0.89       968\n",
            "weighted avg       0.90      0.89      0.89       968\n",
            "\n",
            "{'NER_STEM': {'Performance_metrics': {'accuracy': 0.89153, 'precision': 0.89408, 'recall': 0.89153, 'f1': 0.89164}, 'Cross_validaiton_results': {'k-folds-accuracy-results': [0.84755, 0.86305, 0.85788, 0.88889, 0.86822, 0.89147, 0.87855, 0.87855, 0.8553, 0.90181], 'MIN': 0.84755, 'MAX': 0.90181, 'Mean': 0.87313, 'SD': 0.01672}}, 'NER': {'Performance_metrics': {'accuracy': 0.89463, 'precision': 0.89602, 'recall': 0.89463, 'f1': 0.89468}, 'Cross_validaiton_results': {'k-folds-accuracy-results': [0.84755, 0.86305, 0.85788, 0.88889, 0.86822, 0.89147, 0.87855, 0.87855, 0.8553, 0.90181], 'MIN': 0.84755, 'MAX': 0.90181, 'Mean': 0.87313, 'SD': 0.01672}}}\n"
          ]
        }
      ],
      "source": [
        "#CV_scores = cross_val_score(pipeline_LR, training['tweet_text_NER'], training['label'], cv=10, verbose=0)\n",
        "#CV_scores = [round(result, 5) for result in CV_scores]\n",
        "\n",
        "pipeline_LR.fit(training['tweet_text_NER'], training['label'])\n",
        "prediction_LR = pipeline_LR.predict(testing['tweet_text_NER'])\n",
        "\n",
        "cr=classification_report(testing['label'], prediction_LR)\n",
        "\n",
        "\n",
        "metrics_LR = get_metrics(prediction_LR, testing['label'])\n",
        "\n",
        "LR_report[\"NER\"]={\"Performance_metrics\":metrics_LR, \n",
        "                           \"Cross_validaiton_results\":{\"k-folds-accuracy-results\":list(CV_scores),\"MIN\":round(min(CV_scores), 5), \n",
        "                                                       \"MAX\":round(max(CV_scores),5), \"Mean\":round(np.mean(CV_scores),5), \"SD\":round(np.std(CV_scores),5)}}\n",
        "print(cr)\n",
        "print(LR_report)\n",
        "with open(\"LR_NER.json\", \"w\") as output:\n",
        "    json.dump(LR_report[\"NER\"], output)\n",
        "\n",
        "filename = 'LR_Level2.sav'\n",
        "dir='/content/drive/MyDrive/Capstone Project Files CS/Models/'\n",
        "pickle.dump(pipeline_SVM, open(dir+filename, 'wb'))\n"
      ]
    },
    {
      "cell_type": "markdown",
      "metadata": {
        "id": "HWFDje18IN9X"
      },
      "source": [
        "Premitive"
      ]
    },
    {
      "cell_type": "code",
      "execution_count": null,
      "metadata": {
        "colab": {
          "base_uri": "https://localhost:8080/"
        },
        "id": "CAf_sGJEX71r",
        "outputId": "92ca04fa-f570-4829-d842-bf585801e4b7"
      },
      "outputs": [
        {
          "output_type": "stream",
          "name": "stdout",
          "text": [
            "              precision    recall  f1-score   support\n",
            "\n",
            "       False       0.93      0.88      0.90       488\n",
            "        True       0.88      0.94      0.91       480\n",
            "\n",
            "    accuracy                           0.91       968\n",
            "   macro avg       0.91      0.91      0.91       968\n",
            "weighted avg       0.91      0.91      0.91       968\n",
            "\n",
            "{'NER_STEM': {'Performance_metrics': {'accuracy': 0.89153, 'precision': 0.89408, 'recall': 0.89153, 'f1': 0.89164}, 'Cross_validaiton_results': {'k-folds-accuracy-results': [0.84755, 0.86305, 0.85788, 0.88889, 0.86822, 0.89147, 0.87855, 0.87855, 0.8553, 0.90181], 'MIN': 0.84755, 'MAX': 0.90181, 'Mean': 0.87313, 'SD': 0.01672}}, 'NER': {'Performance_metrics': {'accuracy': 0.89463, 'precision': 0.89602, 'recall': 0.89463, 'f1': 0.89468}, 'Cross_validaiton_results': {'k-folds-accuracy-results': [0.84755, 0.86305, 0.85788, 0.88889, 0.86822, 0.89147, 0.87855, 0.87855, 0.8553, 0.90181], 'MIN': 0.84755, 'MAX': 0.90181, 'Mean': 0.87313, 'SD': 0.01672}}, 'PREMITIVE': {'Performance_metrics': {'accuracy': 0.90599, 'precision': 0.90799, 'recall': 0.90599, 'f1': 0.90606}, 'Cross_validaiton_results': {'k-folds-accuracy-results': [0.84755, 0.86305, 0.85788, 0.88889, 0.86822, 0.89147, 0.87855, 0.87855, 0.8553, 0.90181], 'MIN': 0.84755, 'MAX': 0.90181, 'Mean': 0.87313, 'SD': 0.01672}}}\n"
          ]
        }
      ],
      "source": [
        "#CV_scores = cross_val_score(pipeline_LR, training['tweet_text'], training['label'], cv=10, verbose=0)\n",
        "#CV_scores = [round(result, 5) for result in CV_scores]\n",
        "\n",
        "pipeline_LR.fit(training['tweet_text'], training['label'])\n",
        "prediction_LR = pipeline_LR.predict(testing['tweet_text'])\n",
        "\n",
        "cr=classification_report(testing['label'], prediction_LR)\n",
        "\n",
        "\n",
        "metrics_LR = get_metrics(prediction_LR, testing['label'])\n",
        "\n",
        "LR_report[\"PREMITIVE\"]={\"Performance_metrics\":metrics_LR, \n",
        "                           \"Cross_validaiton_results\":{\"k-folds-accuracy-results\":list(CV_scores),\"MIN\":round(min(CV_scores), 5), \n",
        "                                                       \"MAX\":round(max(CV_scores),5), \"Mean\":round(np.mean(CV_scores),5), \"SD\":round(np.std(CV_scores),5)}}\n",
        "print(cr)\n",
        "print(LR_report)\n",
        "with open(\"LR_PREMITIVE.json\", \"w\") as output:\n",
        "    json.dump(LR_report[\"PREMITIVE\"], output)\n",
        "\n",
        "filename = 'LR_Level1.sav'\n",
        "dir='/content/drive/MyDrive/Capstone Project Files CS/Models/'\n",
        "pickle.dump(pipeline_SVM, open(dir+filename, 'wb'))\n"
      ]
    },
    {
      "cell_type": "code",
      "execution_count": null,
      "metadata": {
        "colab": {
          "base_uri": "https://localhost:8080/"
        },
        "id": "_6xoGTIF-Ylh",
        "outputId": "d31a445f-adf2-4a47-a93c-2b5955110613"
      },
      "outputs": [
        {
          "name": "stdout",
          "output_type": "stream",
          "text": [
            "{'SVM': {'NER_STEM': {'Performance_metrics': {'accuracy': 0.90083, 'precision': 0.90324, 'recall': 0.90083, 'f1': 0.90092}, 'Cross_validaiton_results': {'k-folds-accuracy-results': [0.85013, 0.85788, 0.85271, 0.89922, 0.88114, 0.8863, 0.87855, 0.87597, 0.86822, 0.88889], 'MIN': 0.85013, 'MAX': 0.89922, 'Mean': 0.8739, 'SD': 0.01549}}, 'NER': {'Performance_metrics': {'accuracy': 0.90702, 'precision': 0.90802, 'recall': 0.90702, 'f1': 0.90706}, 'Cross_validaiton_results': {'k-folds-accuracy-results': [0.87339, 0.86822, 0.86563, 0.8863, 0.87597, 0.8863, 0.88889, 0.88889, 0.8708, 0.87855], 'MIN': 0.86563, 'MAX': 0.88889, 'Mean': 0.87829, 'SD': 0.00837}}, 'PREMITIVE': {'Performance_metrics': {'accuracy': 0.91012, 'precision': 0.91187, 'recall': 0.91012, 'f1': 0.91018}, 'Cross_validaiton_results': {'k-folds-accuracy-results': [0.88889, 0.87339, 0.86822, 0.89664, 0.87855, 0.90439, 0.90181, 0.89922, 0.87339, 0.88889], 'MIN': 0.86822, 'MAX': 0.90439, 'Mean': 0.88734, 'SD': 0.01251}}}, 'LR': {'NER_STEM': {'Performance_metrics': {'accuracy': 0.89153, 'precision': 0.89408, 'recall': 0.89153, 'f1': 0.89164}, 'Cross_validaiton_results': {'k-folds-accuracy-results': [0.85013, 0.83721, 0.84238, 0.89147, 0.86822, 0.86563, 0.86822, 0.86822, 0.85013, 0.87597], 'MIN': 0.83721, 'MAX': 0.89147, 'Mean': 0.86176, 'SD': 0.01573}}, 'NER': {'Performance_metrics': {'accuracy': 0.89463, 'precision': 0.89602, 'recall': 0.89463, 'f1': 0.89468}, 'Cross_validaiton_results': {'k-folds-accuracy-results': [0.85788, 0.83979, 0.85013, 0.89406, 0.87339, 0.88114, 0.8708, 0.87339, 0.85013, 0.85271], 'MIN': 0.83979, 'MAX': 0.89406, 'Mean': 0.86434, 'SD': 0.01598}}, 'PREMITIVE': {'Performance_metrics': {'accuracy': 0.90599, 'precision': 0.90799, 'recall': 0.90599, 'f1': 0.90606}, 'Cross_validaiton_results': {'k-folds-accuracy-results': [0.88889, 0.86822, 0.85788, 0.8863, 0.86822, 0.89147, 0.89147, 0.87855, 0.86047, 0.88114], 'MIN': 0.85788, 'MAX': 0.89147, 'Mean': 0.87726, 'SD': 0.01208}}}}\n"
          ]
        }
      ],
      "source": [
        "models_performance_report['LR']=LR_report\n",
        "print(models_performance_report)"
      ]
    },
    {
      "cell_type": "markdown",
      "metadata": {
        "id": "yMq8fErJDSrt"
      },
      "source": [
        "#Naive Bayes"
      ]
    },
    {
      "cell_type": "code",
      "execution_count": null,
      "metadata": {
        "id": "Ax_b1zdp-855"
      },
      "outputs": [],
      "source": [
        "pipeline_NB = Pipeline([\n",
        "        ('count_vectorizer', CountVectorizer(stop_words=arabic_stop_words, ngram_range=(1,2))),  \n",
        "        ('tfidf_transformer', TfidfTransformer()),  \n",
        "        ('classifier', MultinomialNB())\n",
        "    ])\n",
        "\n",
        "NB_report={}"
      ]
    },
    {
      "cell_type": "markdown",
      "metadata": {
        "id": "mzoHmPMkJLHA"
      },
      "source": [
        "NER STEM"
      ]
    },
    {
      "cell_type": "code",
      "execution_count": null,
      "metadata": {
        "colab": {
          "base_uri": "https://localhost:8080/"
        },
        "id": "4fjKS3PQ0Fz9",
        "outputId": "7582b4dd-a554-405e-d071-9db90f1e5874"
      },
      "outputs": [
        {
          "output_type": "stream",
          "name": "stderr",
          "text": [
            "/usr/local/lib/python3.7/dist-packages/sklearn/feature_extraction/text.py:401: UserWarning: Your stop_words may be inconsistent with your preprocessing. Tokenizing the stop words generated tokens ['آمين', 'آها', 'أب', 'أخ', 'أف', 'أفعل', 'أفعله', 'ؤلاء', 'إل', 'إليك', 'إليكن', 'إم', 'إيه', 'ات', 'اتان', 'ارتد', 'انفك', 'بخ', 'برح', 'بس', 'تان', 'تبد', 'تحو', 'تعل', 'حد', 'حم', 'حي', 'خب', 'ذار', 'ذان', 'سيما', 'شتان', 'صه', 'ظن', 'عد', 'قط', 'كأي', 'مر', 'مكان', 'مكانكن', 'نب', 'هات', 'هاك', 'هب', 'واها', 'وراء'] not in stop_words.\n",
            "  % sorted(inconsistent)\n"
          ]
        },
        {
          "output_type": "stream",
          "name": "stdout",
          "text": [
            "              precision    recall  f1-score   support\n",
            "\n",
            "       False       0.94      0.85      0.89       488\n",
            "        True       0.86      0.94      0.90       480\n",
            "\n",
            "    accuracy                           0.90       968\n",
            "   macro avg       0.90      0.90      0.90       968\n",
            "weighted avg       0.90      0.90      0.90       968\n",
            "\n",
            "{'NER_STEM': {'Performance_metrics': {'accuracy': 0.89669, 'precision': 0.90075, 'recall': 0.89669, 'f1': 0.89687}, 'Cross_validaiton_results': {'k-folds-accuracy-results': [0.84755, 0.86305, 0.85788, 0.88889, 0.86822, 0.89147, 0.87855, 0.87855, 0.8553, 0.90181], 'MIN': 0.84755, 'MAX': 0.90181, 'Mean': 0.87313, 'SD': 0.01672}}}\n"
          ]
        }
      ],
      "source": [
        "#CV_scores = cross_val_score(pipeline_NB, training['tweet_text_NER_STEM'], training['label'], cv=10, verbose=0)\n",
        "#CV_scores = [round(result, 5) for result in CV_scores]\n",
        "\n",
        "pipeline_NB.fit(training['tweet_text_NER_STEM'], training['label'])\n",
        "prediction_NB = pipeline_NB.predict(testing['tweet_text_NER_STEM'])\n",
        "\n",
        "cr=classification_report(testing['label'], prediction_NB)\n",
        "metrics_NB = get_metrics(prediction_NB, testing['label'])\n",
        "\n",
        "NB_report[\"NER_STEM\"]={\"Performance_metrics\":metrics_NB, \n",
        "                           \"Cross_validaiton_results\":{\"k-folds-accuracy-results\":list(CV_scores),\"MIN\":round(min(CV_scores), 5), \n",
        "                                                       \"MAX\":round(max(CV_scores),5), \"Mean\":round(np.mean(CV_scores),5), \"SD\":round(np.std(CV_scores),5)}}\n",
        "print(cr)\n",
        "print(NB_report)\n",
        "with open(\"NB_NER_STEM.json\", \"w\") as output:\n",
        "    json.dump(NB_report[\"NER_STEM\"], output)\n",
        "\n",
        "\n",
        "filename = 'NB_Level3.sav'\n",
        "dir='/content/drive/MyDrive/Capstone Project Files CS/Models/'\n",
        "pickle.dump(pipeline_SVM, open(dir+filename, 'wb'))"
      ]
    },
    {
      "cell_type": "markdown",
      "metadata": {
        "id": "k6ZqDGNoJOjO"
      },
      "source": [
        "NER"
      ]
    },
    {
      "cell_type": "code",
      "execution_count": null,
      "metadata": {
        "colab": {
          "base_uri": "https://localhost:8080/"
        },
        "id": "j-OhymK-Iypd",
        "outputId": "4f17ab69-5c4d-4208-9edb-ccadada090ba"
      },
      "outputs": [
        {
          "output_type": "stream",
          "name": "stdout",
          "text": [
            "              precision    recall  f1-score   support\n",
            "\n",
            "       False       0.94      0.86      0.90       488\n",
            "        True       0.87      0.94      0.90       480\n",
            "\n",
            "    accuracy                           0.90       968\n",
            "   macro avg       0.90      0.90      0.90       968\n",
            "weighted avg       0.90      0.90      0.90       968\n",
            "\n",
            "{'NER_STEM': {'Performance_metrics': {'accuracy': 0.89669, 'precision': 0.90075, 'recall': 0.89669, 'f1': 0.89687}, 'Cross_validaiton_results': {'k-folds-accuracy-results': [0.84755, 0.86305, 0.85788, 0.88889, 0.86822, 0.89147, 0.87855, 0.87855, 0.8553, 0.90181], 'MIN': 0.84755, 'MAX': 0.90181, 'Mean': 0.87313, 'SD': 0.01672}}, 'NER': {'Performance_metrics': {'accuracy': 0.90186, 'precision': 0.90472, 'recall': 0.90186, 'f1': 0.90197}, 'Cross_validaiton_results': {'k-folds-accuracy-results': [0.84755, 0.86305, 0.85788, 0.88889, 0.86822, 0.89147, 0.87855, 0.87855, 0.8553, 0.90181], 'MIN': 0.84755, 'MAX': 0.90181, 'Mean': 0.87313, 'SD': 0.01672}}}\n"
          ]
        }
      ],
      "source": [
        "#CV_scores = cross_val_score(pipeline_NB, training['tweet_text_NER'], training['label'], cv=10, verbose=0)\n",
        "#CV_scores = [round(result, 5) for result in CV_scores]\n",
        "\n",
        "pipeline_NB.fit(training['tweet_text_NER'], training['label'])\n",
        "prediction_NB = pipeline_NB.predict(testing['tweet_text_NER'])\n",
        "\n",
        "cr=classification_report(testing['label'], prediction_NB)\n",
        "metrics_NB = get_metrics(prediction_NB, testing['label'])\n",
        "\n",
        "NB_report[\"NER\"]={\"Performance_metrics\":metrics_NB, \n",
        "                           \"Cross_validaiton_results\":{\"k-folds-accuracy-results\":list(CV_scores),\"MIN\":round(min(CV_scores), 5), \n",
        "                                                       \"MAX\":round(max(CV_scores),5), \"Mean\":round(np.mean(CV_scores),5), \"SD\":round(np.std(CV_scores),5)}}\n",
        "print(cr)\n",
        "print(NB_report)\n",
        "with open(\"NB_NER.json\", \"w\") as output:\n",
        "    json.dump(NB_report[\"NER\"], output)\n",
        "\n",
        "\n",
        "filename = 'NB_Level2.sav'\n",
        "dir='/content/drive/MyDrive/Capstone Project Files CS/Models/'\n",
        "pickle.dump(pipeline_SVM, open(dir+filename, 'wb'))"
      ]
    },
    {
      "cell_type": "markdown",
      "metadata": {
        "id": "pHZcTuoXJ2Ac"
      },
      "source": [
        "Premitive"
      ]
    },
    {
      "cell_type": "code",
      "execution_count": null,
      "metadata": {
        "colab": {
          "base_uri": "https://localhost:8080/"
        },
        "id": "Ne8qtPxnYsMa",
        "outputId": "08684750-db34-4801-bdbe-9b486f3d7055"
      },
      "outputs": [
        {
          "output_type": "stream",
          "name": "stdout",
          "text": [
            "              precision    recall  f1-score   support\n",
            "\n",
            "       False       0.94      0.87      0.90       488\n",
            "        True       0.88      0.94      0.91       480\n",
            "\n",
            "    accuracy                           0.90       968\n",
            "   macro avg       0.91      0.91      0.90       968\n",
            "weighted avg       0.91      0.90      0.90       968\n",
            "\n",
            "{'NER_STEM': {'Performance_metrics': {'accuracy': 0.89669, 'precision': 0.90075, 'recall': 0.89669, 'f1': 0.89687}, 'Cross_validaiton_results': {'k-folds-accuracy-results': [0.84755, 0.86305, 0.85788, 0.88889, 0.86822, 0.89147, 0.87855, 0.87855, 0.8553, 0.90181], 'MIN': 0.84755, 'MAX': 0.90181, 'Mean': 0.87313, 'SD': 0.01672}}, 'NER': {'Performance_metrics': {'accuracy': 0.90186, 'precision': 0.90472, 'recall': 0.90186, 'f1': 0.90197}, 'Cross_validaiton_results': {'k-folds-accuracy-results': [0.84755, 0.86305, 0.85788, 0.88889, 0.86822, 0.89147, 0.87855, 0.87855, 0.8553, 0.90181], 'MIN': 0.84755, 'MAX': 0.90181, 'Mean': 0.87313, 'SD': 0.01672}}, 'PREMITIVE': {'Performance_metrics': {'accuracy': 0.90496, 'precision': 0.90767, 'recall': 0.90496, 'f1': 0.90506}, 'Cross_validaiton_results': {'k-folds-accuracy-results': [0.84755, 0.86305, 0.85788, 0.88889, 0.86822, 0.89147, 0.87855, 0.87855, 0.8553, 0.90181], 'MIN': 0.84755, 'MAX': 0.90181, 'Mean': 0.87313, 'SD': 0.01672}}}\n"
          ]
        }
      ],
      "source": [
        "#CV_scores = cross_val_score(pipeline_NB, training['tweet_text'], training['label'], cv=10, verbose=0)\n",
        "#CV_scores = [round(result, 5) for result in CV_scores]\n",
        "\n",
        "pipeline_NB.fit(training['tweet_text'], training['label'])\n",
        "prediction_NB = pipeline_NB.predict(testing['tweet_text'])\n",
        "\n",
        "cr=classification_report(testing['label'], prediction_NB)\n",
        "metrics_NB = get_metrics(prediction_NB, testing['label'])\n",
        "\n",
        "NB_report[\"PREMITIVE\"]={\"Performance_metrics\":metrics_NB, \n",
        "                           \"Cross_validaiton_results\":{\"k-folds-accuracy-results\":list(CV_scores),\"MIN\":round(min(CV_scores), 5), \n",
        "                                                       \"MAX\":round(max(CV_scores),5), \"Mean\":round(np.mean(CV_scores),5), \"SD\":round(np.std(CV_scores),5)}}\n",
        "print(cr)\n",
        "print(NB_report)\n",
        "with open(\"NB_PREMITIVE.json\", \"w\") as output:\n",
        "    json.dump(NB_report[\"PREMITIVE\"], output)\n",
        "\n",
        "\n",
        "filename = 'NB_Level1.sav'\n",
        "dir='/content/drive/MyDrive/Capstone Project Files CS/Models/'\n",
        "pickle.dump(pipeline_SVM, open(dir+filename, 'wb'))"
      ]
    },
    {
      "cell_type": "code",
      "execution_count": null,
      "metadata": {
        "colab": {
          "base_uri": "https://localhost:8080/"
        },
        "id": "Xr8zla1e_izg",
        "outputId": "b60e4442-1bb5-44b1-f2c4-e61fb733d43c"
      },
      "outputs": [
        {
          "name": "stdout",
          "output_type": "stream",
          "text": [
            "{'SVM': {'NER_STEM': {'Performance_metrics': {'accuracy': 0.90083, 'precision': 0.90324, 'recall': 0.90083, 'f1': 0.90092}, 'Cross_validaiton_results': {'k-folds-accuracy-results': [0.85013, 0.85788, 0.85271, 0.89922, 0.88114, 0.8863, 0.87855, 0.87597, 0.86822, 0.88889], 'MIN': 0.85013, 'MAX': 0.89922, 'Mean': 0.8739, 'SD': 0.01549}}, 'NER': {'Performance_metrics': {'accuracy': 0.90702, 'precision': 0.90802, 'recall': 0.90702, 'f1': 0.90706}, 'Cross_validaiton_results': {'k-folds-accuracy-results': [0.87339, 0.86822, 0.86563, 0.8863, 0.87597, 0.8863, 0.88889, 0.88889, 0.8708, 0.87855], 'MIN': 0.86563, 'MAX': 0.88889, 'Mean': 0.87829, 'SD': 0.00837}}, 'PREMITIVE': {'Performance_metrics': {'accuracy': 0.91012, 'precision': 0.91187, 'recall': 0.91012, 'f1': 0.91018}, 'Cross_validaiton_results': {'k-folds-accuracy-results': [0.88889, 0.87339, 0.86822, 0.89664, 0.87855, 0.90439, 0.90181, 0.89922, 0.87339, 0.88889], 'MIN': 0.86822, 'MAX': 0.90439, 'Mean': 0.88734, 'SD': 0.01251}}}, 'LR': {'NER_STEM': {'Performance_metrics': {'accuracy': 0.89153, 'precision': 0.89408, 'recall': 0.89153, 'f1': 0.89164}, 'Cross_validaiton_results': {'k-folds-accuracy-results': [0.85013, 0.83721, 0.84238, 0.89147, 0.86822, 0.86563, 0.86822, 0.86822, 0.85013, 0.87597], 'MIN': 0.83721, 'MAX': 0.89147, 'Mean': 0.86176, 'SD': 0.01573}}, 'NER': {'Performance_metrics': {'accuracy': 0.89463, 'precision': 0.89602, 'recall': 0.89463, 'f1': 0.89468}, 'Cross_validaiton_results': {'k-folds-accuracy-results': [0.85788, 0.83979, 0.85013, 0.89406, 0.87339, 0.88114, 0.8708, 0.87339, 0.85013, 0.85271], 'MIN': 0.83979, 'MAX': 0.89406, 'Mean': 0.86434, 'SD': 0.01598}}, 'PREMITIVE': {'Performance_metrics': {'accuracy': 0.90599, 'precision': 0.90799, 'recall': 0.90599, 'f1': 0.90606}, 'Cross_validaiton_results': {'k-folds-accuracy-results': [0.88889, 0.86822, 0.85788, 0.8863, 0.86822, 0.89147, 0.89147, 0.87855, 0.86047, 0.88114], 'MIN': 0.85788, 'MAX': 0.89147, 'Mean': 0.87726, 'SD': 0.01208}}}, 'NB': {'NER_STEM': {'Performance_metrics': {'accuracy': 0.89669, 'precision': 0.90075, 'recall': 0.89669, 'f1': 0.89687}, 'Cross_validaiton_results': {'k-folds-accuracy-results': [0.8553, 0.86563, 0.84496, 0.8863, 0.84755, 0.87339, 0.86822, 0.86822, 0.85788, 0.87855], 'MIN': 0.84496, 'MAX': 0.8863, 'Mean': 0.8646, 'SD': 0.01256}}, 'NER': {'Performance_metrics': {'accuracy': 0.90186, 'precision': 0.90472, 'recall': 0.90186, 'f1': 0.90197}, 'Cross_validaiton_results': {'k-folds-accuracy-results': [0.87855, 0.8553, 0.84755, 0.89147, 0.85788, 0.88372, 0.88114, 0.8863, 0.85271, 0.87855], 'MIN': 0.84755, 'MAX': 0.89147, 'Mean': 0.87132, 'SD': 0.01528}}, 'PREMITIVE': {'Performance_metrics': {'accuracy': 0.90496, 'precision': 0.90767, 'recall': 0.90496, 'f1': 0.90506}, 'Cross_validaiton_results': {'k-folds-accuracy-results': [0.8863, 0.87855, 0.8708, 0.89406, 0.86047, 0.89147, 0.89664, 0.88889, 0.87339, 0.88372], 'MIN': 0.86047, 'MAX': 0.89664, 'Mean': 0.88243, 'SD': 0.01092}}}}\n"
          ]
        }
      ],
      "source": [
        "models_performance_report['NB']=NB_report\n",
        "print(models_performance_report)\n",
        "with open(\"models_performance_report.json\", \"w\") as output:\n",
        "    json.dump(models_performance_report, output)"
      ]
    },
    {
      "cell_type": "markdown",
      "metadata": {
        "id": "ijvDwvTSDXa4"
      },
      "source": [
        "# Random Forest"
      ]
    },
    {
      "cell_type": "code",
      "execution_count": null,
      "metadata": {
        "id": "uPiegD2ve2Uj"
      },
      "outputs": [],
      "source": [
        "RF_report={}"
      ]
    },
    {
      "cell_type": "code",
      "execution_count": null,
      "metadata": {
        "id": "HkRgfnQzAIby"
      },
      "outputs": [],
      "source": [
        "pipeline_RF = Pipeline([\n",
        "        ('count_vectorizer', CountVectorizer(stop_words=arabic_stop_words, ngram_range=(1,2))),  \n",
        "        ('tfidf_transformer', TfidfTransformer()),  \n",
        "        ('classifier', RandomForestClassifier(random_state = 42,n_estimators=1250, max_depth=None))\n",
        "    ])\n",
        "\n",
        "#best\n",
        "  #{'classifier__max_depth': None, 'classifier__n_estimators': 1250}\n",
        "max_depth=[5, 8, 10, 12,16,None]\n",
        "n_estimators = [100, 500,750, 1000,1250]\n",
        "hyperparameters = {\"classifier__max_depth\":max_depth, \"classifier__n_estimators\":n_estimators}\n",
        "##n_estimators, number of initial trees, \n",
        "#1000\n"
      ]
    },
    {
      "cell_type": "markdown",
      "metadata": {
        "id": "dWx07XteKXZ1"
      },
      "source": [
        "NER STEM"
      ]
    },
    {
      "cell_type": "code",
      "execution_count": null,
      "metadata": {
        "colab": {
          "base_uri": "https://localhost:8080/"
        },
        "id": "TmPXZr1FjSEK",
        "outputId": "258cc674-ec29-4604-e9fe-448823e871c8"
      },
      "outputs": [
        {
          "name": "stdout",
          "output_type": "stream",
          "text": [
            "Fitting 5 folds for each of 30 candidates, totalling 150 fits\n"
          ]
        },
        {
          "name": "stderr",
          "output_type": "stream",
          "text": [
            "/usr/local/lib/python3.7/dist-packages/sklearn/feature_extraction/text.py:401: UserWarning: Your stop_words may be inconsistent with your preprocessing. Tokenizing the stop words generated tokens ['آمين', 'آها', 'أب', 'أخ', 'أف', 'أفعل', 'أفعله', 'ؤلاء', 'إل', 'إليك', 'إليكن', 'إم', 'إيه', 'ات', 'اتان', 'ارتد', 'انفك', 'بخ', 'برح', 'بس', 'تان', 'تبد', 'تحو', 'تعل', 'حد', 'حم', 'حي', 'خب', 'ذار', 'ذان', 'سيما', 'شتان', 'صه', 'ظن', 'عد', 'قط', 'كأي', 'مر', 'مكان', 'مكانكن', 'نب', 'هات', 'هاك', 'هب', 'واها', 'وراء'] not in stop_words.\n",
            "  % sorted(inconsistent)\n"
          ]
        },
        {
          "name": "stdout",
          "output_type": "stream",
          "text": [
            "              precision    recall  f1-score   support\n",
            "\n",
            "       False       0.94      0.83      0.88       488\n",
            "        True       0.85      0.95      0.89       480\n",
            "\n",
            "    accuracy                           0.89       968\n",
            "   macro avg       0.89      0.89      0.89       968\n",
            "weighted avg       0.89      0.89      0.89       968\n",
            "\n",
            "{'accuracy': 0.88843, 'precision': 0.89502, 'recall': 0.88843, 'f1': 0.88875}\n",
            "{'classifier__max_depth': None, 'classifier__n_estimators': 1250}\n"
          ]
        }
      ],
      "source": [
        "RF_GSCV = GridSearchCV(pipeline_RF, hyperparameters, cv=5, n_jobs=3, scoring=\"accuracy\", verbose=2)\n",
        "\n",
        "RF_GSCV.fit(training['tweet_text_NER_STEM'], training['label'])\n",
        "prediction_RF = RF_GSCV.predict(testing['tweet_text_NER_STEM'])\n",
        "cr=classification_report(testing['label'], prediction_RF)\n",
        "metrics_RF = get_metrics(prediction_RF, testing['label'])\n",
        "print(cr)\n",
        "print(metrics_RF)\n",
        "print(RF_GSCV.best_params_)"
      ]
    },
    {
      "cell_type": "code",
      "execution_count": null,
      "metadata": {
        "colab": {
          "base_uri": "https://localhost:8080/"
        },
        "id": "KQ-snEi-0Ykg",
        "outputId": "51b8b04d-75c8-42a3-eb4e-094312f351d3"
      },
      "outputs": [
        {
          "output_type": "stream",
          "name": "stderr",
          "text": [
            "/usr/local/lib/python3.7/dist-packages/sklearn/feature_extraction/text.py:401: UserWarning: Your stop_words may be inconsistent with your preprocessing. Tokenizing the stop words generated tokens ['آمين', 'آها', 'أب', 'أخ', 'أف', 'أفعل', 'أفعله', 'ؤلاء', 'إل', 'إليك', 'إليكن', 'إم', 'إيه', 'ات', 'اتان', 'ارتد', 'انفك', 'بخ', 'برح', 'بس', 'تان', 'تبد', 'تحو', 'تعل', 'حد', 'حم', 'حي', 'خب', 'ذار', 'ذان', 'سيما', 'شتان', 'صه', 'ظن', 'عد', 'قط', 'كأي', 'مر', 'مكان', 'مكانكن', 'نب', 'هات', 'هاك', 'هب', 'واها', 'وراء'] not in stop_words.\n",
            "  % sorted(inconsistent)\n"
          ]
        },
        {
          "output_type": "stream",
          "name": "stdout",
          "text": [
            "              precision    recall  f1-score   support\n",
            "\n",
            "       False       0.94      0.83      0.88       488\n",
            "        True       0.85      0.95      0.89       480\n",
            "\n",
            "    accuracy                           0.89       968\n",
            "   macro avg       0.89      0.89      0.89       968\n",
            "weighted avg       0.89      0.89      0.89       968\n",
            "\n",
            "{'NER_STEM': {'Performance_metrics': {'accuracy': 0.88843, 'precision': 0.89502, 'recall': 0.88843, 'f1': 0.88875}, 'Cross_validaiton_results': {'k-folds-accuracy-results': [0.84755, 0.86305, 0.85788, 0.88889, 0.86822, 0.89147, 0.87855, 0.87855, 0.8553, 0.90181], 'MIN': 0.84755, 'MAX': 0.90181, 'Mean': 0.87313, 'SD': 0.01672}}}\n"
          ]
        }
      ],
      "source": [
        "#CV_scores = cross_val_score(pipeline_RF, training['tweet_text_NER_STEM'], training['label'], cv=10, verbose=0)\n",
        "#CV_scores = [round(result, 5) for result in CV_scores]\n",
        "\n",
        "pipeline_RF.fit(training['tweet_text_NER_STEM'], training['label'])\n",
        "prediction_RF = pipeline_RF.predict(testing['tweet_text_NER_STEM'])\n",
        "\n",
        "cr=classification_report(testing['label'], prediction_RF)\n",
        "metrics_RF = get_metrics(prediction_RF, testing['label'])\n",
        "\n",
        "RF_report[\"NER_STEM\"]={\"Performance_metrics\":metrics_RF, \n",
        "                           \"Cross_validaiton_results\":{\"k-folds-accuracy-results\":list(CV_scores),\"MIN\":round(min(CV_scores), 5), \n",
        "                                                       \"MAX\":round(max(CV_scores),5), \"Mean\":round(np.mean(CV_scores),5), \"SD\":round(np.std(CV_scores),5)}}\n",
        "print(cr)\n",
        "print(RF_report)\n",
        "with open(\"RF_NER_STEM.json\", \"w\") as output:\n",
        "    json.dump(RF_report[\"NER_STEM\"], output)\n",
        "\n",
        "filename = 'RF_Level3.sav'\n",
        "dir='/content/drive/MyDrive/Capstone Project Files CS/Models/'\n",
        "pickle.dump(pipeline_SVM, open(dir+filename, 'wb'))\n"
      ]
    },
    {
      "cell_type": "markdown",
      "metadata": {
        "id": "2TL2v1B9Kzxg"
      },
      "source": [
        "NER"
      ]
    },
    {
      "cell_type": "code",
      "execution_count": null,
      "metadata": {
        "colab": {
          "base_uri": "https://localhost:8080/"
        },
        "id": "Di2VE72IZkop",
        "outputId": "0c3f4756-34b6-4d2c-dd14-f6dc6ad33fea"
      },
      "outputs": [
        {
          "output_type": "stream",
          "name": "stdout",
          "text": [
            "              precision    recall  f1-score   support\n",
            "\n",
            "       False       0.89      0.85      0.87       488\n",
            "        True       0.86      0.90      0.88       480\n",
            "\n",
            "    accuracy                           0.87       968\n",
            "   macro avg       0.87      0.87      0.87       968\n",
            "weighted avg       0.87      0.87      0.87       968\n",
            "\n",
            "{'NER_STEM': {'Performance_metrics': {'accuracy': 0.88843, 'precision': 0.89502, 'recall': 0.88843, 'f1': 0.88875}, 'Cross_validaiton_results': {'k-folds-accuracy-results': [0.84755, 0.86305, 0.85788, 0.88889, 0.86822, 0.89147, 0.87855, 0.87855, 0.8553, 0.90181], 'MIN': 0.84755, 'MAX': 0.90181, 'Mean': 0.87313, 'SD': 0.01672}}, 'NER': {'Performance_metrics': {'accuracy': 0.87397, 'precision': 0.87495, 'recall': 0.87397, 'f1': 0.87401}, 'Cross_validaiton_results': {'k-folds-accuracy-results': [0.84755, 0.86305, 0.85788, 0.88889, 0.86822, 0.89147, 0.87855, 0.87855, 0.8553, 0.90181], 'MIN': 0.84755, 'MAX': 0.90181, 'Mean': 0.87313, 'SD': 0.01672}}}\n"
          ]
        }
      ],
      "source": [
        "#CV_scores = cross_val_score(pipeline_RF, training['tweet_text_NER'], training['label'], cv=10, verbose=0)\n",
        "#CV_scores = [round(result, 5) for result in CV_scores]\n",
        "\n",
        "pipeline_RF.fit(training['tweet_text_NER'], training['label'])\n",
        "prediction_RF = pipeline_RF.predict(testing['tweet_text_NER'])\n",
        "\n",
        "cr=classification_report(testing['label'], prediction_RF)\n",
        "metrics_RF = get_metrics(prediction_RF, testing['label'])\n",
        "\n",
        "RF_report[\"NER\"]={\"Performance_metrics\":metrics_RF, \n",
        "                           \"Cross_validaiton_results\":{\"k-folds-accuracy-results\":list(CV_scores),\"MIN\":round(min(CV_scores), 5), \n",
        "                                                       \"MAX\":round(max(CV_scores),5), \"Mean\":round(np.mean(CV_scores),5), \"SD\":round(np.std(CV_scores),5)}}\n",
        "print(cr)\n",
        "print(RF_report)\n",
        "with open(\"RF_NER.json\", \"w\") as output:\n",
        "    json.dump(RF_report[\"NER\"], output)\n",
        "\n",
        "\n",
        "filename = 'RF_Level2.sav'\n",
        "dir='/content/drive/MyDrive/Capstone Project Files CS/Models/'\n",
        "pickle.dump(pipeline_SVM, open(dir+filename, 'wb'))"
      ]
    },
    {
      "cell_type": "markdown",
      "metadata": {
        "id": "h8uhLjR4LelJ"
      },
      "source": [
        "Premitive"
      ]
    },
    {
      "cell_type": "code",
      "execution_count": null,
      "metadata": {
        "colab": {
          "base_uri": "https://localhost:8080/"
        },
        "id": "jYFjmpg2AQOC",
        "outputId": "7f42a9cd-cb31-4fd9-ea47-b6c300a73a44"
      },
      "outputs": [
        {
          "output_type": "stream",
          "name": "stdout",
          "text": [
            "              precision    recall  f1-score   support\n",
            "\n",
            "       False       0.90      0.87      0.89       488\n",
            "        True       0.87      0.90      0.89       480\n",
            "\n",
            "    accuracy                           0.89       968\n",
            "   macro avg       0.89      0.89      0.89       968\n",
            "weighted avg       0.89      0.89      0.89       968\n",
            "\n",
            "{'NER_STEM': {'Performance_metrics': {'accuracy': 0.88843, 'precision': 0.89502, 'recall': 0.88843, 'f1': 0.88875}, 'Cross_validaiton_results': {'k-folds-accuracy-results': [0.84755, 0.86305, 0.85788, 0.88889, 0.86822, 0.89147, 0.87855, 0.87855, 0.8553, 0.90181], 'MIN': 0.84755, 'MAX': 0.90181, 'Mean': 0.87313, 'SD': 0.01672}}, 'NER': {'Performance_metrics': {'accuracy': 0.87397, 'precision': 0.87495, 'recall': 0.87397, 'f1': 0.87401}, 'Cross_validaiton_results': {'k-folds-accuracy-results': [0.84755, 0.86305, 0.85788, 0.88889, 0.86822, 0.89147, 0.87855, 0.87855, 0.8553, 0.90181], 'MIN': 0.84755, 'MAX': 0.90181, 'Mean': 0.87313, 'SD': 0.01672}}, 'PRIMITIVE': {'Performance_metrics': {'accuracy': 0.88636, 'precision': 0.88702, 'recall': 0.88636, 'f1': 0.88639}, 'Cross_validaiton_results': {'k-folds-accuracy-results': [0.84755, 0.86305, 0.85788, 0.88889, 0.86822, 0.89147, 0.87855, 0.87855, 0.8553, 0.90181], 'MIN': 0.84755, 'MAX': 0.90181, 'Mean': 0.87313, 'SD': 0.01672}}}\n"
          ]
        }
      ],
      "source": [
        "#CV_scores = cross_val_score(pipeline_RF, training['tweet_text'], training['label'], cv=10, verbose=0)\n",
        "#CV_scores = [round(result, 5) for result in CV_scores]\n",
        "\n",
        "pipeline_RF.fit(training['tweet_text'], training['label'])\n",
        "prediction_RF = pipeline_RF.predict(testing['tweet_text'])\n",
        "\n",
        "cr=classification_report(testing['label'], prediction_RF)\n",
        "metrics_RF = get_metrics(prediction_RF, testing['label'])\n",
        "\n",
        "RF_report[\"PRIMITIVE\"]={\"Performance_metrics\":metrics_RF, \n",
        "                           \"Cross_validaiton_results\":{\"k-folds-accuracy-results\":list(CV_scores),\"MIN\":round(min(CV_scores), 5), \n",
        "                                                       \"MAX\":round(max(CV_scores),5), \"Mean\":round(np.mean(CV_scores),5), \"SD\":round(np.std(CV_scores),5)}}\n",
        "print(cr)\n",
        "print(RF_report)\n",
        "with open(\"RF_PRIMITIVE.json\", \"w\") as output:\n",
        "    json.dump(RF_report[\"PRIMITIVE\"], output)\n",
        "\n",
        "filename = 'RF_Level1.sav'\n",
        "pickle.dump(pipeline_RF, open(filename, 'wb'))\n",
        "\n",
        "\n"
      ]
    },
    {
      "cell_type": "code",
      "execution_count": null,
      "metadata": {
        "id": "uigbaJXYMxio"
      },
      "outputs": [],
      "source": []
    },
    {
      "cell_type": "code",
      "execution_count": null,
      "metadata": {
        "colab": {
          "base_uri": "https://localhost:8080/"
        },
        "id": "sTozqzloAryD",
        "outputId": "7cfc9f95-5e85-4ea1-d46a-194081e3f325"
      },
      "outputs": [
        {
          "name": "stdout",
          "output_type": "stream",
          "text": [
            "{'RF': {'NER_STEM': {'Performance_metrics': {'accuracy': 0.88843, 'precision': 0.89502, 'recall': 0.88843, 'f1': 0.88875}, 'Cross_validaiton_results': {'k-folds-accuracy-results': [0.84755, 0.82687, 0.8553, 0.87339, 0.85013, 0.86047, 0.84755, 0.85271, 0.85271, 0.87597], 'MIN': 0.82687, 'MAX': 0.87597, 'Mean': 0.85426, 'SD': 0.01319}}, 'NER': {'Performance_metrics': {'accuracy': 0.87397, 'precision': 0.87495, 'recall': 0.87397, 'f1': 0.87401}, 'Cross_validaiton_results': {'k-folds-accuracy-results': [0.84238, 0.81137, 0.84496, 0.87339, 0.8553, 0.84238, 0.84238, 0.86822, 0.85271, 0.83979], 'MIN': 0.81137, 'MAX': 0.87339, 'Mean': 0.84729, 'SD': 0.01624}}, 'PRIMITIVE': {'Performance_metrics': {'accuracy': 0.88636, 'precision': 0.88702, 'recall': 0.88636, 'f1': 0.88639}, 'Cross_validaiton_results': {'k-folds-accuracy-results': [0.8708, 0.83721, 0.84238, 0.87855, 0.84755, 0.86563, 0.86563, 0.86563, 0.8553, 0.8553], 'MIN': 0.83721, 'MAX': 0.87855, 'Mean': 0.8584, 'SD': 0.01249}}}}\n"
          ]
        }
      ],
      "source": [
        "models_performance_report['RF']=RF_report\n",
        "print(models_performance_report)\n",
        "with open(\"models_performance_report.json\", \"w\") as output:\n",
        "    json.dump(models_performance_report, output)"
      ]
    },
    {
      "cell_type": "markdown",
      "metadata": {
        "id": "8ur3uZhbDfEs"
      },
      "source": [
        "#K-Means (IGNORE)"
      ]
    },
    {
      "cell_type": "code",
      "execution_count": null,
      "metadata": {
        "id": "mwLwdCtYAu_B"
      },
      "outputs": [],
      "source": [
        "pipeline_KM = Pipeline([\n",
        "        ('count_vectorizer', CountVectorizer(stop_words=arabic_stop_words, ngram_range=(1,2))),  \n",
        "        ('tfidf_transformer', TfidfTransformer()),  \n",
        "        ('classifier', KMeans(n_clusters=2, init = 'random', n_init = 10, max_iter = 300, tol = 1e-04, random_state = 0))\n",
        "    ])\n",
        "\n",
        "##"
      ]
    },
    {
      "cell_type": "code",
      "execution_count": null,
      "metadata": {
        "colab": {
          "base_uri": "https://localhost:8080/"
        },
        "id": "W7VClF6lBCZE",
        "outputId": "a4fa1dbe-08b2-4080-bb67-9e7e08fac2a4"
      },
      "outputs": [
        {
          "name": "stderr",
          "output_type": "stream",
          "text": [
            "/usr/local/lib/python3.7/dist-packages/sklearn/feature_extraction/text.py:401: UserWarning: Your stop_words may be inconsistent with your preprocessing. Tokenizing the stop words generated tokens ['آمين', 'آها', 'أب', 'أخ', 'أف', 'أفعل', 'أفعله', 'ؤلاء', 'إل', 'إليك', 'إليكن', 'إم', 'إيه', 'ات', 'اتان', 'ارتد', 'انفك', 'بخ', 'برح', 'بس', 'تان', 'تبد', 'تحو', 'تعل', 'حد', 'حم', 'حي', 'خب', 'ذار', 'ذان', 'سيما', 'شتان', 'صه', 'ظن', 'عد', 'قط', 'كأي', 'مر', 'مكان', 'مكانكن', 'نب', 'هات', 'هاك', 'هب', 'واها', 'وراء'] not in stop_words.\n",
            "  % sorted(inconsistent)\n"
          ]
        },
        {
          "name": "stdout",
          "output_type": "stream",
          "text": [
            "              precision    recall  f1-score   support\n",
            "\n",
            "       False       0.50      0.94      0.65       483\n",
            "        True       0.52      0.07      0.12       485\n",
            "\n",
            "    accuracy                           0.50       968\n",
            "   macro avg       0.51      0.50      0.39       968\n",
            "weighted avg       0.51      0.50      0.39       968\n",
            "\n"
          ]
        }
      ],
      "source": [
        "pipeline_KM.fit(training['tweet_text_NER'], training['label'])\n",
        "prediction_KM = pipeline_KM.predict(validation['tweet_text_NER'])\n",
        "\n",
        "print(classification_report(validation['label'], prediction_KM))"
      ]
    },
    {
      "cell_type": "code",
      "execution_count": null,
      "metadata": {
        "colab": {
          "base_uri": "https://localhost:8080/"
        },
        "id": "p00trq2Lahv_",
        "outputId": "e05f5eff-cd88-43ab-8c41-9e8310c55c1b"
      },
      "outputs": [
        {
          "name": "stdout",
          "output_type": "stream",
          "text": [
            "              precision    recall  f1-score   support\n",
            "\n",
            "       False       0.48      0.94      0.64       483\n",
            "        True       0.00      0.00      0.00       485\n",
            "\n",
            "    accuracy                           0.47       968\n",
            "   macro avg       0.24      0.47      0.32       968\n",
            "weighted avg       0.24      0.47      0.32       968\n",
            "\n"
          ]
        }
      ],
      "source": [
        "pipeline_KM.fit(training['tweet_text'], training['label'])\n",
        "prediction_KM = pipeline_KM.predict(validation['tweet_text'])\n",
        "\n",
        "print(classification_report(validation['label'], prediction_KM))"
      ]
    },
    {
      "cell_type": "code",
      "execution_count": null,
      "metadata": {
        "id": "FMW-oHQdBOL7"
      },
      "outputs": [],
      "source": [
        "metrics_KM = get_metrics(prediction_KM, testing['label'])\n",
        "print(metrics_KM)\n",
        "with open(\"KM_results.json\", \"w\") as output:\n",
        "    json.dump(metrics_KM, output)"
      ]
    },
    {
      "cell_type": "markdown",
      "metadata": {
        "id": "InxmKUwpDiLZ"
      },
      "source": [
        "#Decision Tree"
      ]
    },
    {
      "cell_type": "code",
      "execution_count": null,
      "metadata": {
        "id": "HdtO_KaCBYAz"
      },
      "outputs": [],
      "source": [
        "pipeline_DT = Pipeline([\n",
        "        ('count_vectorizer', CountVectorizer(stop_words=arabic_stop_words, ngram_range=(1,2))),  \n",
        "        ('tfidf_transformer', TfidfTransformer()),  \n",
        "        ('classifier', DecisionTreeClassifier(random_state=42))\n",
        "    ])\n",
        "\n",
        "DT_report={}"
      ]
    },
    {
      "cell_type": "markdown",
      "metadata": {
        "id": "w2rrRG7mNLj-"
      },
      "source": [
        "NER STEM"
      ]
    },
    {
      "cell_type": "code",
      "execution_count": null,
      "metadata": {
        "colab": {
          "base_uri": "https://localhost:8080/"
        },
        "id": "fPOBO_D71J0z",
        "outputId": "d1bcd004-0d0a-4475-e870-52c24caf7453"
      },
      "outputs": [
        {
          "output_type": "stream",
          "name": "stderr",
          "text": [
            "/usr/local/lib/python3.7/dist-packages/sklearn/feature_extraction/text.py:401: UserWarning: Your stop_words may be inconsistent with your preprocessing. Tokenizing the stop words generated tokens ['آمين', 'آها', 'أب', 'أخ', 'أف', 'أفعل', 'أفعله', 'ؤلاء', 'إل', 'إليك', 'إليكن', 'إم', 'إيه', 'ات', 'اتان', 'ارتد', 'انفك', 'بخ', 'برح', 'بس', 'تان', 'تبد', 'تحو', 'تعل', 'حد', 'حم', 'حي', 'خب', 'ذار', 'ذان', 'سيما', 'شتان', 'صه', 'ظن', 'عد', 'قط', 'كأي', 'مر', 'مكان', 'مكانكن', 'نب', 'هات', 'هاك', 'هب', 'واها', 'وراء'] not in stop_words.\n",
            "  % sorted(inconsistent)\n"
          ]
        },
        {
          "output_type": "stream",
          "name": "stdout",
          "text": [
            "              precision    recall  f1-score   support\n",
            "\n",
            "       False       0.81      0.80      0.81       488\n",
            "        True       0.80      0.81      0.81       480\n",
            "\n",
            "    accuracy                           0.81       968\n",
            "   macro avg       0.81      0.81      0.81       968\n",
            "weighted avg       0.81      0.81      0.81       968\n",
            "\n",
            "{'NER_STEM': {'Performance_metrics': {'accuracy': 0.80682, 'precision': 0.80696, 'recall': 0.80682, 'f1': 0.80682}, 'Cross_validaiton_results': {'k-folds-accuracy-results': [0.84755, 0.86305, 0.85788, 0.88889, 0.86822, 0.89147, 0.87855, 0.87855, 0.8553, 0.90181], 'MIN': 0.84755, 'MAX': 0.90181, 'Mean': 0.87313, 'SD': 0.01672}}}\n"
          ]
        }
      ],
      "source": [
        "\n",
        "#CV_scores = cross_val_score(pipeline_DT, training['tweet_text_NER_STEM'], training['label'], cv=10, verbose=0)\n",
        "#CV_scores = [round(result, 5) for result in CV_scores]\n",
        "\n",
        "pipeline_DT.fit(training['tweet_text_NER_STEM'], training['label'])\n",
        "prediction_DT = pipeline_DT.predict(testing['tweet_text_NER_STEM'])\n",
        "\n",
        "cr=classification_report(testing['label'], prediction_DT)\n",
        "metrics_DT = get_metrics(prediction_DT, testing['label'])\n",
        "\n",
        "DT_report[\"NER_STEM\"]={\"Performance_metrics\":metrics_DT, \n",
        "                           \"Cross_validaiton_results\":{\"k-folds-accuracy-results\":list(CV_scores),\"MIN\":round(min(CV_scores), 5), \n",
        "                                                       \"MAX\":round(max(CV_scores),5), \"Mean\":round(np.mean(CV_scores),5), \"SD\":round(np.std(CV_scores),5)}}\n",
        "print(cr)\n",
        "print(DT_report)\n",
        "with open(\"DT_NER_STEM.json\", \"w\") as output:\n",
        "    json.dump(DT_report[\"NER_STEM\"], output)\n",
        "\n",
        "\n",
        "filename = 'DT_Level3.sav'\n",
        "dir='/content/drive/MyDrive/Capstone Project Files CS/Models/'\n",
        "pickle.dump(pipeline_SVM, open(dir+filename, 'wb'))"
      ]
    },
    {
      "cell_type": "markdown",
      "metadata": {
        "id": "beSkY4jCNfj6"
      },
      "source": [
        "NER"
      ]
    },
    {
      "cell_type": "code",
      "execution_count": null,
      "metadata": {
        "colab": {
          "base_uri": "https://localhost:8080/"
        },
        "id": "4q9-Bd-KBimM",
        "outputId": "2cd56286-0c4f-4fe4-84ed-890d449c2d3c"
      },
      "outputs": [
        {
          "output_type": "stream",
          "name": "stdout",
          "text": [
            "              precision    recall  f1-score   support\n",
            "\n",
            "       False       0.78      0.80      0.79       488\n",
            "        True       0.79      0.78      0.78       480\n",
            "\n",
            "    accuracy                           0.79       968\n",
            "   macro avg       0.79      0.79      0.79       968\n",
            "weighted avg       0.79      0.79      0.79       968\n",
            "\n",
            "{'NER_STEM': {'Performance_metrics': {'accuracy': 0.80682, 'precision': 0.80696, 'recall': 0.80682, 'f1': 0.80682}, 'Cross_validaiton_results': {'k-folds-accuracy-results': [0.84755, 0.86305, 0.85788, 0.88889, 0.86822, 0.89147, 0.87855, 0.87855, 0.8553, 0.90181], 'MIN': 0.84755, 'MAX': 0.90181, 'Mean': 0.87313, 'SD': 0.01672}}, 'NER': {'Performance_metrics': {'accuracy': 0.78616, 'precision': 0.78629, 'recall': 0.78616, 'f1': 0.78618}, 'Cross_validaiton_results': {'k-folds-accuracy-results': [0.84755, 0.86305, 0.85788, 0.88889, 0.86822, 0.89147, 0.87855, 0.87855, 0.8553, 0.90181], 'MIN': 0.84755, 'MAX': 0.90181, 'Mean': 0.87313, 'SD': 0.01672}}}\n"
          ]
        }
      ],
      "source": [
        "\n",
        "#CV_scores = cross_val_score(pipeline_DT, training['tweet_text_NER'], training['label'], cv=10, verbose=0)\n",
        "#CV_scores = [round(result, 5) for result in CV_scores]\n",
        "\n",
        "pipeline_DT.fit(training['tweet_text_NER'], training['label'])\n",
        "prediction_DT = pipeline_DT.predict(testing['tweet_text_NER'])\n",
        "\n",
        "cr=classification_report(testing['label'], prediction_DT)\n",
        "metrics_DT = get_metrics(prediction_DT, testing['label'])\n",
        "\n",
        "DT_report[\"NER\"]={\"Performance_metrics\":metrics_DT, \n",
        "                           \"Cross_validaiton_results\":{\"k-folds-accuracy-results\":list(CV_scores),\"MIN\":round(min(CV_scores), 5), \n",
        "                                                       \"MAX\":round(max(CV_scores),5), \"Mean\":round(np.mean(CV_scores),5), \"SD\":round(np.std(CV_scores),5)}}\n",
        "print(cr)\n",
        "print(DT_report)\n",
        "with open(\"DT_NER.json\", \"w\") as output:\n",
        "    json.dump(DT_report[\"NER\"], output)\n",
        "\n",
        "filename = 'DT_Level2.sav'\n",
        "dir='/content/drive/MyDrive/Capstone Project Files CS/Models/'\n",
        "pickle.dump(pipeline_SVM, open(dir+filename, 'wb'))\n"
      ]
    },
    {
      "cell_type": "markdown",
      "metadata": {
        "id": "WGIyI8i7OMfr"
      },
      "source": [
        "Premitive"
      ]
    },
    {
      "cell_type": "code",
      "execution_count": null,
      "metadata": {
        "colab": {
          "base_uri": "https://localhost:8080/"
        },
        "id": "PHhahpGAOPIT",
        "outputId": "8c300452-53fc-4843-e643-6cd206fbdec7"
      },
      "outputs": [
        {
          "output_type": "stream",
          "name": "stdout",
          "text": [
            "              precision    recall  f1-score   support\n",
            "\n",
            "       False       0.82      0.83      0.82       488\n",
            "        True       0.82      0.81      0.82       480\n",
            "\n",
            "    accuracy                           0.82       968\n",
            "   macro avg       0.82      0.82      0.82       968\n",
            "weighted avg       0.82      0.82      0.82       968\n",
            "\n",
            "{'NER_STEM': {'Performance_metrics': {'accuracy': 0.80682, 'precision': 0.80696, 'recall': 0.80682, 'f1': 0.80682}, 'Cross_validaiton_results': {'k-folds-accuracy-results': [0.84755, 0.86305, 0.85788, 0.88889, 0.86822, 0.89147, 0.87855, 0.87855, 0.8553, 0.90181], 'MIN': 0.84755, 'MAX': 0.90181, 'Mean': 0.87313, 'SD': 0.01672}}, 'NER': {'Performance_metrics': {'accuracy': 0.78616, 'precision': 0.78629, 'recall': 0.78616, 'f1': 0.78618}, 'Cross_validaiton_results': {'k-folds-accuracy-results': [0.84755, 0.86305, 0.85788, 0.88889, 0.86822, 0.89147, 0.87855, 0.87855, 0.8553, 0.90181], 'MIN': 0.84755, 'MAX': 0.90181, 'Mean': 0.87313, 'SD': 0.01672}}, 'PREMITIVE': {'Performance_metrics': {'accuracy': 0.82025, 'precision': 0.82034, 'recall': 0.82025, 'f1': 0.82026}, 'Cross_validaiton_results': {'k-folds-accuracy-results': [0.84755, 0.86305, 0.85788, 0.88889, 0.86822, 0.89147, 0.87855, 0.87855, 0.8553, 0.90181], 'MIN': 0.84755, 'MAX': 0.90181, 'Mean': 0.87313, 'SD': 0.01672}}}\n"
          ]
        }
      ],
      "source": [
        "\n",
        "#CV_scores = cross_val_score(pipeline_DT, training['tweet_text'], training['label'], cv=10, verbose=0)\n",
        "#CV_scores = [round(result, 5) for result in CV_scores]\n",
        "\n",
        "pipeline_DT.fit(training['tweet_text'], training['label'])\n",
        "prediction_DT = pipeline_DT.predict(testing['tweet_text'])\n",
        "\n",
        "cr=classification_report(testing['label'], prediction_DT)\n",
        "metrics_DT = get_metrics(prediction_DT, testing['label'])\n",
        "\n",
        "DT_report[\"PREMITIVE\"]={\"Performance_metrics\":metrics_DT, \n",
        "                           \"Cross_validaiton_results\":{\"k-folds-accuracy-results\":list(CV_scores),\"MIN\":round(min(CV_scores), 5), \n",
        "                                                       \"MAX\":round(max(CV_scores),5), \"Mean\":round(np.mean(CV_scores),5), \"SD\":round(np.std(CV_scores),5)}}\n",
        "print(cr)\n",
        "print(DT_report)\n",
        "with open(\"DT_PREMITIVE.json\", \"w\") as output:\n",
        "    json.dump(DT_report[\"PREMITIVE\"], output)\n",
        "\n",
        "\n",
        "\n",
        "filename = 'DT_Level1.sav'\n",
        "dir='/content/drive/MyDrive/Capstone Project Files CS/Models/'\n",
        "pickle.dump(pipeline_SVM, open(dir+filename, 'wb'))\n"
      ]
    },
    {
      "cell_type": "code",
      "execution_count": null,
      "metadata": {
        "colab": {
          "base_uri": "https://localhost:8080/"
        },
        "id": "fmSa_h4yBsOj",
        "outputId": "ec0f0f40-06e6-4420-99c9-fd6bee429666"
      },
      "outputs": [
        {
          "name": "stdout",
          "output_type": "stream",
          "text": [
            "{'SVM': {'NER_STEM': {'Performance_metrics': {'accuracy': 0.90083, 'precision': 0.90324, 'recall': 0.90083, 'f1': 0.90092}, 'Cross_validaiton_results': {'k-folds-accuracy-results': [0.85013, 0.85788, 0.85271, 0.89922, 0.88114, 0.8863, 0.87855, 0.87597, 0.86822, 0.88889], 'MIN': 0.85013, 'MAX': 0.89922, 'Mean': 0.8739, 'SD': 0.01549}}, 'NER': {'Performance_metrics': {'accuracy': 0.90702, 'precision': 0.90802, 'recall': 0.90702, 'f1': 0.90706}, 'Cross_validaiton_results': {'k-folds-accuracy-results': [0.87339, 0.86822, 0.86563, 0.8863, 0.87597, 0.8863, 0.88889, 0.88889, 0.8708, 0.87855], 'MIN': 0.86563, 'MAX': 0.88889, 'Mean': 0.87829, 'SD': 0.00837}}, 'PREMITIVE': {'Performance_metrics': {'accuracy': 0.91012, 'precision': 0.91187, 'recall': 0.91012, 'f1': 0.91018}, 'Cross_validaiton_results': {'k-folds-accuracy-results': [0.88889, 0.87339, 0.86822, 0.89664, 0.87855, 0.90439, 0.90181, 0.89922, 0.87339, 0.88889], 'MIN': 0.86822, 'MAX': 0.90439, 'Mean': 0.88734, 'SD': 0.01251}}}, 'LR': {'NER_STEM': {'Performance_metrics': {'accuracy': 0.89153, 'precision': 0.89408, 'recall': 0.89153, 'f1': 0.89164}, 'Cross_validaiton_results': {'k-folds-accuracy-results': [0.85013, 0.83721, 0.84238, 0.89147, 0.86822, 0.86563, 0.86822, 0.86822, 0.85013, 0.87597], 'MIN': 0.83721, 'MAX': 0.89147, 'Mean': 0.86176, 'SD': 0.01573}}, 'NER': {'Performance_metrics': {'accuracy': 0.89463, 'precision': 0.89602, 'recall': 0.89463, 'f1': 0.89468}, 'Cross_validaiton_results': {'k-folds-accuracy-results': [0.85788, 0.83979, 0.85013, 0.89406, 0.87339, 0.88114, 0.8708, 0.87339, 0.85013, 0.85271], 'MIN': 0.83979, 'MAX': 0.89406, 'Mean': 0.86434, 'SD': 0.01598}}, 'PREMITIVE': {'Performance_metrics': {'accuracy': 0.90599, 'precision': 0.90799, 'recall': 0.90599, 'f1': 0.90606}, 'Cross_validaiton_results': {'k-folds-accuracy-results': [0.88889, 0.86822, 0.85788, 0.8863, 0.86822, 0.89147, 0.89147, 0.87855, 0.86047, 0.88114], 'MIN': 0.85788, 'MAX': 0.89147, 'Mean': 0.87726, 'SD': 0.01208}}}, 'NB': {'NER_STEM': {'Performance_metrics': {'accuracy': 0.89669, 'precision': 0.90075, 'recall': 0.89669, 'f1': 0.89687}, 'Cross_validaiton_results': {'k-folds-accuracy-results': [0.8553, 0.86563, 0.84496, 0.8863, 0.84755, 0.87339, 0.86822, 0.86822, 0.85788, 0.87855], 'MIN': 0.84496, 'MAX': 0.8863, 'Mean': 0.8646, 'SD': 0.01256}}, 'NER': {'Performance_metrics': {'accuracy': 0.90186, 'precision': 0.90472, 'recall': 0.90186, 'f1': 0.90197}, 'Cross_validaiton_results': {'k-folds-accuracy-results': [0.87855, 0.8553, 0.84755, 0.89147, 0.85788, 0.88372, 0.88114, 0.8863, 0.85271, 0.87855], 'MIN': 0.84755, 'MAX': 0.89147, 'Mean': 0.87132, 'SD': 0.01528}}, 'PREMITIVE': {'Performance_metrics': {'accuracy': 0.90496, 'precision': 0.90767, 'recall': 0.90496, 'f1': 0.90506}, 'Cross_validaiton_results': {'k-folds-accuracy-results': [0.8863, 0.87855, 0.8708, 0.89406, 0.86047, 0.89147, 0.89664, 0.88889, 0.87339, 0.88372], 'MIN': 0.86047, 'MAX': 0.89664, 'Mean': 0.88243, 'SD': 0.01092}}}, 'DT': {'NER_STEM': {'Performance_metrics': {'accuracy': 0.80682, 'precision': 0.80696, 'recall': 0.80682, 'f1': 0.80682}, 'Cross_validaiton_results': {'k-folds-accuracy-results': [0.81654, 0.74677, 0.77778, 0.81395, 0.79587, 0.80362, 0.77778, 0.80362, 0.80103, 0.79587], 'MIN': 0.74677, 'MAX': 0.81654, 'Mean': 0.79328, 'SD': 0.01975}}, 'NER': {'Performance_metrics': {'accuracy': 0.78616, 'precision': 0.78629, 'recall': 0.78616, 'f1': 0.78618}, 'Cross_validaiton_results': {'k-folds-accuracy-results': [0.77519, 0.75969, 0.78553, 0.79587, 0.78036, 0.76744, 0.79587, 0.79328, 0.76486, 0.79328], 'MIN': 0.75969, 'MAX': 0.79587, 'Mean': 0.78114, 'SD': 0.01303}}, 'PREMITIVE': {'Performance_metrics': {'accuracy': 0.82025, 'precision': 0.82034, 'recall': 0.82025, 'f1': 0.82026}, 'Cross_validaiton_results': {'k-folds-accuracy-results': [0.8062, 0.79328, 0.79845, 0.84755, 0.82171, 0.83204, 0.78811, 0.81912, 0.7907, 0.80879], 'MIN': 0.78811, 'MAX': 0.84755, 'Mean': 0.8106, 'SD': 0.01842}}}}\n"
          ]
        }
      ],
      "source": [
        "models_performance_report['DT']=DT_report\n",
        "print(models_performance_report)\n",
        "with open(\"models_performance_report.json\", \"w\") as output:\n",
        "    json.dump(models_performance_report, output)"
      ]
    },
    {
      "cell_type": "markdown",
      "metadata": {
        "id": "Rr8U22-nDmbQ"
      },
      "source": [
        "#SGD(Stochastic Gradient Descent)"
      ]
    },
    {
      "cell_type": "code",
      "execution_count": null,
      "metadata": {
        "id": "GDATYswCpBm-"
      },
      "outputs": [],
      "source": [
        "SGD_report={}"
      ]
    },
    {
      "cell_type": "code",
      "execution_count": null,
      "metadata": {
        "colab": {
          "base_uri": "https://localhost:8080/",
          "height": 35
        },
        "id": "7dxI_MZeB4Cx",
        "outputId": "155b1cfb-4a66-4596-a436-0afc307f295e"
      },
      "outputs": [
        {
          "output_type": "execute_result",
          "data": {
            "text/plain": [
              "'\\nmax_iter = [10, 50, 100,250,500,1000]\\nhyperparameters = {\"classifier__max_depth\":[10, 50, 100,250,500,1000], \"classifier__n_estimators\":n_estimators}'"
            ],
            "application/vnd.google.colaboratory.intrinsic+json": {
              "type": "string"
            }
          },
          "metadata": {},
          "execution_count": 41
        }
      ],
      "source": [
        "pipeline_SGD = Pipeline([\n",
        "        ('count_vectorizer', CountVectorizer(stop_words=arabic_stop_words, ngram_range=(1,2))),  \n",
        "        ('tfidf_transformer', TfidfTransformer()),  \n",
        "        ('classifier', SGDClassifier())\n",
        "    ])\n",
        "\n",
        "\n",
        "params = {\n",
        "   \n",
        "    \"classifier__loss\" : [\"hinge\", \"log\"],\n",
        "    \"classifier__alpha\" : [0.0001, 0.001, 0.01, 0.1, 1],\n",
        "    \"classifier__penalty\" : [\"l2\", \"l1\", \"none\"],\n",
        "}\n",
        "'''\n",
        "max_iter = [10, 50, 100,250,500,1000]\n",
        "hyperparameters = {\"classifier__max_depth\":[10, 50, 100,250,500,1000], \"classifier__n_estimators\":n_estimators}'''"
      ]
    },
    {
      "cell_type": "markdown",
      "metadata": {
        "id": "QzeNRjqyOkhU"
      },
      "source": [
        "NER STEM"
      ]
    },
    {
      "cell_type": "code",
      "execution_count": null,
      "metadata": {
        "colab": {
          "base_uri": "https://localhost:8080/"
        },
        "id": "s6Ij8KC7y6zR",
        "outputId": "add64b0c-60f7-49a1-9411-fed4d830729a"
      },
      "outputs": [
        {
          "name": "stdout",
          "output_type": "stream",
          "text": [
            "Fitting 5 folds for each of 30 candidates, totalling 150 fits\n"
          ]
        },
        {
          "name": "stderr",
          "output_type": "stream",
          "text": [
            "/usr/local/lib/python3.7/dist-packages/sklearn/feature_extraction/text.py:401: UserWarning: Your stop_words may be inconsistent with your preprocessing. Tokenizing the stop words generated tokens ['آمين', 'آها', 'أب', 'أخ', 'أف', 'أفعل', 'أفعله', 'ؤلاء', 'إل', 'إليك', 'إليكن', 'إم', 'إيه', 'ات', 'اتان', 'ارتد', 'انفك', 'بخ', 'برح', 'بس', 'تان', 'تبد', 'تحو', 'تعل', 'حد', 'حم', 'حي', 'خب', 'ذار', 'ذان', 'سيما', 'شتان', 'صه', 'ظن', 'عد', 'قط', 'كأي', 'مر', 'مكان', 'مكانكن', 'نب', 'هات', 'هاك', 'هب', 'واها', 'وراء'] not in stop_words.\n",
            "  % sorted(inconsistent)\n"
          ]
        },
        {
          "name": "stdout",
          "output_type": "stream",
          "text": [
            "              precision    recall  f1-score   support\n",
            "\n",
            "       False       0.86      0.85      0.85       488\n",
            "        True       0.85      0.86      0.85       480\n",
            "\n",
            "    accuracy                           0.85       968\n",
            "   macro avg       0.85      0.85      0.85       968\n",
            "weighted avg       0.85      0.85      0.85       968\n",
            "\n",
            "{'accuracy': 0.89566, 'precision': 0.89717, 'recall': 0.89566, 'f1': 0.89572}\n",
            "{'classifier__alpha': 0.0001, 'classifier__loss': 'log', 'classifier__penalty': 'none'}\n"
          ]
        }
      ],
      "source": [
        "SGD_GSCV = GridSearchCV(pipeline_SGD, params, cv=5, n_jobs=3, scoring=\"accuracy\",verbose=2)\n",
        "\n",
        "SGD_GSCV.fit(training['tweet_text_NER_STEM'].astype(str), training['label'])\n",
        "prediction_SGD = SGD_GSCV.predict(testing['tweet_text_NER_STEM'])\n",
        "SGD=classification_report(testing['label'], prediction_SGD)\n",
        "metrics_SGD = get_metrics(prediction_SGD, testing['label'])\n",
        "print(cr)\n",
        "print(metrics_SGD)\n",
        "print(SGD_GSCV.best_params_)"
      ]
    },
    {
      "cell_type": "code",
      "execution_count": null,
      "metadata": {
        "colab": {
          "base_uri": "https://localhost:8080/"
        },
        "id": "_uhLPMXd4EHN",
        "outputId": "4d986e61-0576-4f48-b1ac-be0365c9e75e"
      },
      "outputs": [
        {
          "output_type": "stream",
          "name": "stderr",
          "text": [
            "/usr/local/lib/python3.7/dist-packages/sklearn/feature_extraction/text.py:401: UserWarning: Your stop_words may be inconsistent with your preprocessing. Tokenizing the stop words generated tokens ['آمين', 'آها', 'أب', 'أخ', 'أف', 'أفعل', 'أفعله', 'ؤلاء', 'إل', 'إليك', 'إليكن', 'إم', 'إيه', 'ات', 'اتان', 'ارتد', 'انفك', 'بخ', 'برح', 'بس', 'تان', 'تبد', 'تحو', 'تعل', 'حد', 'حم', 'حي', 'خب', 'ذار', 'ذان', 'سيما', 'شتان', 'صه', 'ظن', 'عد', 'قط', 'كأي', 'مر', 'مكان', 'مكانكن', 'نب', 'هات', 'هاك', 'هب', 'واها', 'وراء'] not in stop_words.\n",
            "  % sorted(inconsistent)\n"
          ]
        },
        {
          "output_type": "stream",
          "name": "stdout",
          "text": [
            "              precision    recall  f1-score   support\n",
            "\n",
            "       False       0.92      0.87      0.89       488\n",
            "        True       0.87      0.92      0.90       480\n",
            "\n",
            "    accuracy                           0.89       968\n",
            "   macro avg       0.90      0.89      0.89       968\n",
            "weighted avg       0.90      0.89      0.89       968\n",
            "\n",
            "{'NER_STEM': {'Performance_metrics': {'accuracy': 0.89463, 'precision': 0.89602, 'recall': 0.89463, 'f1': 0.89468}, 'Cross_validaiton_results': {'k-folds-accuracy-results': [0.84755, 0.86305, 0.85788, 0.88889, 0.86822, 0.89147, 0.87855, 0.87855, 0.8553, 0.90181], 'MIN': 0.84755, 'MAX': 0.90181, 'Mean': 0.87313, 'SD': 0.01672}}}\n"
          ]
        }
      ],
      "source": [
        "#CV_scores = cross_val_score(pipeline_SGD, training['tweet_text_NER_STEM'], training['label'], cv=10, verbose=1, n_jobs=3)\n",
        "#CV_scores = [round(result, 5) for result in CV_scores]\n",
        "\n",
        "pipeline_SGD.fit(training['tweet_text_NER_STEM'], training['label'])\n",
        "prediction_SGD = pipeline_SGD.predict(testing['tweet_text_NER_STEM'])\n",
        "\n",
        "cr=classification_report(testing['label'], prediction_SGD)\n",
        "metrics_SGD = get_metrics(prediction_SGD, testing['label'])\n",
        "\n",
        "SGD_report[\"NER_STEM\"]={\"Performance_metrics\":metrics_SGD, \n",
        "                           \"Cross_validaiton_results\":{\"k-folds-accuracy-results\":list(CV_scores),\"MIN\":round(min(CV_scores), 5), \n",
        "                                                       \"MAX\":round(max(CV_scores),5), \"Mean\":round(np.mean(CV_scores),5), \"SD\":round(np.std(CV_scores),5)}}\n",
        "print(cr)\n",
        "print(SGD_report)\n",
        "with open(\"SGD_NER_STEM.json\", \"w\") as output:\n",
        "    json.dump(SGD_report[\"NER_STEM\"], output)\n",
        "\n",
        "\n",
        "filename = 'SGD_Level3.sav'\n",
        "dir='/content/drive/MyDrive/Capstone Project Files CS/Models/'\n",
        "pickle.dump(pipeline_SVM, open(dir+filename, 'wb'))\n"
      ]
    },
    {
      "cell_type": "markdown",
      "metadata": {
        "id": "YU2OI2HKP6YP"
      },
      "source": [
        "NER"
      ]
    },
    {
      "cell_type": "code",
      "execution_count": null,
      "metadata": {
        "colab": {
          "base_uri": "https://localhost:8080/"
        },
        "id": "ACPWoq8mCMT6",
        "outputId": "9b20f153-3e07-4a28-dd0b-3d3cd6675c87"
      },
      "outputs": [
        {
          "output_type": "stream",
          "name": "stdout",
          "text": [
            "              precision    recall  f1-score   support\n",
            "\n",
            "       False       0.91      0.89      0.90       488\n",
            "        True       0.89      0.91      0.90       480\n",
            "\n",
            "    accuracy                           0.90       968\n",
            "   macro avg       0.90      0.90      0.90       968\n",
            "weighted avg       0.90      0.90      0.90       968\n",
            "\n",
            "{'NER_STEM': {'Performance_metrics': {'accuracy': 0.89463, 'precision': 0.89602, 'recall': 0.89463, 'f1': 0.89468}, 'Cross_validaiton_results': {'k-folds-accuracy-results': [0.84755, 0.86305, 0.85788, 0.88889, 0.86822, 0.89147, 0.87855, 0.87855, 0.8553, 0.90181], 'MIN': 0.84755, 'MAX': 0.90181, 'Mean': 0.87313, 'SD': 0.01672}}, 'NER': {'Performance_metrics': {'accuracy': 0.89876, 'precision': 0.89915, 'recall': 0.89876, 'f1': 0.89877}, 'Cross_validaiton_results': {'k-folds-accuracy-results': [0.84755, 0.86305, 0.85788, 0.88889, 0.86822, 0.89147, 0.87855, 0.87855, 0.8553, 0.90181], 'MIN': 0.84755, 'MAX': 0.90181, 'Mean': 0.87313, 'SD': 0.01672}}}\n"
          ]
        }
      ],
      "source": [
        "#CV_scores = cross_val_score(pipeline_SGD, training['tweet_text_NER'], training['label'], cv=10, verbose=1, n_jobs=3)\n",
        "#CV_scores = [round(result, 5) for result in CV_scores]\n",
        "\n",
        "pipeline_SGD.fit(training['tweet_text_NER'], training['label'])\n",
        "prediction_SGD = pipeline_SGD.predict(testing['tweet_text_NER'])\n",
        "\n",
        "cr=classification_report(testing['label'], prediction_SGD)\n",
        "metrics_SGD = get_metrics(prediction_SGD, testing['label'])\n",
        "\n",
        "SGD_report[\"NER\"]={\"Performance_metrics\":metrics_SGD, \n",
        "                           \"Cross_validaiton_results\":{\"k-folds-accuracy-results\":list(CV_scores),\"MIN\":round(min(CV_scores), 5), \n",
        "                                                       \"MAX\":round(max(CV_scores),5), \"Mean\":round(np.mean(CV_scores),5), \"SD\":round(np.std(CV_scores),5)}}\n",
        "print(cr)\n",
        "print(SGD_report)\n",
        "with open(\"SGD_NER.json\", \"w\") as output:\n",
        "    json.dump(SGD_report[\"NER\"], output)\n",
        "\n",
        "\n",
        "\n",
        "filename = 'SGD_Level2.sav'\n",
        "dir='/content/drive/MyDrive/Capstone Project Files CS/Models/'\n",
        "pickle.dump(pipeline_SVM, open(dir+filename, 'wb'))\n",
        "\n"
      ]
    },
    {
      "cell_type": "markdown",
      "metadata": {
        "id": "mWy5K87gREjk"
      },
      "source": [
        "Premitive"
      ]
    },
    {
      "cell_type": "code",
      "execution_count": null,
      "metadata": {
        "colab": {
          "base_uri": "https://localhost:8080/"
        },
        "id": "HdCvRubzRHjZ",
        "outputId": "de36d125-6ad8-42a4-a0da-a8ba7ceeb956"
      },
      "outputs": [
        {
          "output_type": "stream",
          "name": "stdout",
          "text": [
            "              precision    recall  f1-score   support\n",
            "\n",
            "       False       0.91      0.89      0.90       488\n",
            "        True       0.89      0.91      0.90       480\n",
            "\n",
            "    accuracy                           0.90       968\n",
            "   macro avg       0.90      0.90      0.90       968\n",
            "weighted avg       0.90      0.90      0.90       968\n",
            "\n",
            "{'NER_STEM': {'Performance_metrics': {'accuracy': 0.89463, 'precision': 0.89602, 'recall': 0.89463, 'f1': 0.89468}, 'Cross_validaiton_results': {'k-folds-accuracy-results': [0.84755, 0.86305, 0.85788, 0.88889, 0.86822, 0.89147, 0.87855, 0.87855, 0.8553, 0.90181], 'MIN': 0.84755, 'MAX': 0.90181, 'Mean': 0.87313, 'SD': 0.01672}}, 'NER': {'Performance_metrics': {'accuracy': 0.89876, 'precision': 0.89915, 'recall': 0.89876, 'f1': 0.89877}, 'Cross_validaiton_results': {'k-folds-accuracy-results': [0.84755, 0.86305, 0.85788, 0.88889, 0.86822, 0.89147, 0.87855, 0.87855, 0.8553, 0.90181], 'MIN': 0.84755, 'MAX': 0.90181, 'Mean': 0.87313, 'SD': 0.01672}}, 'PRIMITIVE': {'Performance_metrics': {'accuracy': 0.89979, 'precision': 0.89989, 'recall': 0.89979, 'f1': 0.89979}, 'Cross_validaiton_results': {'k-folds-accuracy-results': [0.84755, 0.86305, 0.85788, 0.88889, 0.86822, 0.89147, 0.87855, 0.87855, 0.8553, 0.90181], 'MIN': 0.84755, 'MAX': 0.90181, 'Mean': 0.87313, 'SD': 0.01672}}}\n"
          ]
        }
      ],
      "source": [
        "#CV_scores = cross_val_score(pipeline_SGD, training['tweet_text'], training['label'], cv=10, verbose=1, n_jobs=3)\n",
        "#CV_scores = [round(result, 5) for result in CV_scores]\n",
        "\n",
        "pipeline_SGD.fit(training['tweet_text'], training['label'])\n",
        "prediction_SGD = pipeline_SGD.predict(testing['tweet_text'])\n",
        "\n",
        "cr=classification_report(testing['label'], prediction_SGD)\n",
        "metrics_SGD = get_metrics(prediction_SGD, testing['label'])\n",
        "\n",
        "SGD_report[\"PRIMITIVE\"]={\"Performance_metrics\":metrics_SGD, \n",
        "                           \"Cross_validaiton_results\":{\"k-folds-accuracy-results\":list(CV_scores),\"MIN\":round(min(CV_scores), 5), \n",
        "                                                       \"MAX\":round(max(CV_scores),5), \"Mean\":round(np.mean(CV_scores),5), \"SD\":round(np.std(CV_scores),5)}}\n",
        "print(cr)\n",
        "print(SGD_report)\n",
        "with open(\"SGD_PRIMITIVE.json\", \"w\") as output:\n",
        "    json.dump(SGD_report[\"PRIMITIVE\"], output)\n",
        "\n",
        "\n",
        "filename = 'SGD_Level1.sav'\n",
        "dir='/content/drive/MyDrive/Capstone Project Files CS/Models/'\n",
        "pickle.dump(pipeline_SVM, open(dir+filename, 'wb'))"
      ]
    },
    {
      "cell_type": "code",
      "execution_count": null,
      "metadata": {
        "colab": {
          "base_uri": "https://localhost:8080/"
        },
        "id": "ZHiJ_tlzCRl6",
        "outputId": "0a43db5d-8c23-4d88-d32b-5824ae1b3a30"
      },
      "outputs": [
        {
          "name": "stdout",
          "output_type": "stream",
          "text": [
            "{'SGD': {'NER_STEM': {'Performance_metrics': {'accuracy': 0.89566, 'precision': 0.89657, 'recall': 0.89566, 'f1': 0.89569}, 'Cross_validaiton_results': {'k-folds-accuracy-results': [0.85013, 0.84496, 0.85788, 0.88889, 0.86305, 0.8863, 0.87855, 0.86563, 0.87339, 0.88889], 'MIN': 0.84496, 'MAX': 0.88889, 'Mean': 0.86977, 'SD': 0.01516}}, 'NER': {'Performance_metrics': {'accuracy': 0.90186, 'precision': 0.90231, 'recall': 0.90186, 'f1': 0.90187}, 'Cross_validaiton_results': {'k-folds-accuracy-results': [0.86822, 0.8708, 0.85788, 0.88114, 0.86822, 0.8863, 0.88372, 0.88114, 0.87339, 0.86822], 'MIN': 0.85788, 'MAX': 0.8863, 'Mean': 0.8739, 'SD': 0.00848}}, 'PRIMITIVE': {'Performance_metrics': {'accuracy': 0.89979, 'precision': 0.90003, 'recall': 0.89979, 'f1': 0.8998}, 'Cross_validaiton_results': {'k-folds-accuracy-results': [0.89147, 0.8863, 0.86563, 0.89664, 0.87339, 0.89664, 0.89664, 0.88114, 0.88372, 0.89406], 'MIN': 0.86563, 'MAX': 0.89664, 'Mean': 0.88656, 'SD': 0.01017}}}}\n"
          ]
        }
      ],
      "source": [
        "models_performance_report['SGD']=SGD_report\n",
        "print(models_performance_report)\n",
        "with open(\"models_performance_report.json\", \"w\") as output:\n",
        "    json.dump(models_performance_report, output)"
      ]
    },
    {
      "cell_type": "markdown",
      "metadata": {
        "id": "w-ArydBjDxou"
      },
      "source": [
        "#KNN(K-Nearest Neighbors)"
      ]
    },
    {
      "cell_type": "code",
      "execution_count": null,
      "metadata": {
        "id": "O7MD632zOknz"
      },
      "outputs": [],
      "source": [
        "KNN_report={}"
      ]
    },
    {
      "cell_type": "code",
      "execution_count": null,
      "metadata": {
        "id": "B9GGg4aPD3oQ"
      },
      "outputs": [],
      "source": [
        "pipeline_KNN = Pipeline([\n",
        "        ('count_vectorizer', CountVectorizer(stop_words=arabic_stop_words, ngram_range=(1,2))),  \n",
        "        ('tfidf_transformer', TfidfTransformer()),  \n",
        "        ('classifier', KNeighborsClassifier(n_neighbors = 20, leaf_size=30))\n",
        "    ])\n",
        "\n",
        "##best n = 20, leaf =30\n",
        "\n",
        "leaf_size = [30,35,40,45,50]\n",
        "n_neighbors = [20,25,30,25,30,35,40]\n",
        "hyperparameters = {\"classifier__leaf_size\":leaf_size, \"classifier__n_neighbors\":n_neighbors}\n",
        "#try 10\n",
        "#25\n"
      ]
    },
    {
      "cell_type": "markdown",
      "metadata": {
        "id": "Op-kzXnKSbWb"
      },
      "source": [
        "NER STEM"
      ]
    },
    {
      "cell_type": "code",
      "execution_count": null,
      "metadata": {
        "id": "rLN06OswL5c1"
      },
      "outputs": [],
      "source": [
        "\n",
        "KNN_GSCV = GridSearchCV(pipeline_KNN, hyperparameters, cv=10, n_jobs=3)\n",
        "KNN_GSCV.best_params_\n",
        "KNN_GSCV.fit(training['tweet_text_NER_STEM'], training['label'])\n",
        "\n",
        "cr=classification_report(testing['label'], KNN_GSCV)\n",
        "metrics_KNN = get_metrics(prediction_DT, testing['label'])\n",
        "print(cr)\n",
        "print(metrics_KNN)"
      ]
    },
    {
      "cell_type": "code",
      "execution_count": null,
      "metadata": {
        "colab": {
          "base_uri": "https://localhost:8080/"
        },
        "id": "EmGDq3on1dgV",
        "outputId": "b6b55387-7620-4df4-e583-339e37d35a0b"
      },
      "outputs": [
        {
          "output_type": "stream",
          "name": "stderr",
          "text": [
            "/usr/local/lib/python3.7/dist-packages/sklearn/feature_extraction/text.py:401: UserWarning: Your stop_words may be inconsistent with your preprocessing. Tokenizing the stop words generated tokens ['آمين', 'آها', 'أب', 'أخ', 'أف', 'أفعل', 'أفعله', 'ؤلاء', 'إل', 'إليك', 'إليكن', 'إم', 'إيه', 'ات', 'اتان', 'ارتد', 'انفك', 'بخ', 'برح', 'بس', 'تان', 'تبد', 'تحو', 'تعل', 'حد', 'حم', 'حي', 'خب', 'ذار', 'ذان', 'سيما', 'شتان', 'صه', 'ظن', 'عد', 'قط', 'كأي', 'مر', 'مكان', 'مكانكن', 'نب', 'هات', 'هاك', 'هب', 'واها', 'وراء'] not in stop_words.\n",
            "  % sorted(inconsistent)\n"
          ]
        },
        {
          "output_type": "stream",
          "name": "stdout",
          "text": [
            "              precision    recall  f1-score   support\n",
            "\n",
            "       False       0.91      0.84      0.87       488\n",
            "        True       0.85      0.91      0.88       480\n",
            "\n",
            "    accuracy                           0.88       968\n",
            "   macro avg       0.88      0.88      0.88       968\n",
            "weighted avg       0.88      0.88      0.88       968\n",
            "\n",
            "{'NER_STEM': {'Performance_metrics': {'accuracy': 0.87707, 'precision': 0.87961, 'recall': 0.87707, 'f1': 0.87719}, 'Cross_validaiton_results': {'k-folds-accuracy-results': [0.84755, 0.86305, 0.85788, 0.88889, 0.86822, 0.89147, 0.87855, 0.87855, 0.8553, 0.90181], 'MIN': 0.84755, 'MAX': 0.90181, 'Mean': 0.87313, 'SD': 0.01672}}}\n"
          ]
        }
      ],
      "source": [
        "\n",
        "#CV_scores = cross_val_score(pipeline_KNN, training['tweet_text_NER_STEM'], training['label'], cv=10, verbose=0)\n",
        "#CV_scores = [round(result, 5) for result in CV_scores]\n",
        "\n",
        "pipeline_KNN.fit(training['tweet_text_NER_STEM'], training['label'])\n",
        "prediction_KNN = pipeline_KNN.predict(testing['tweet_text_NER_STEM'])\n",
        "\n",
        "cr=classification_report(testing['label'], prediction_KNN)\n",
        "metrics_KNN = get_metrics(prediction_KNN, testing['label'])\n",
        "\n",
        "KNN_report[\"NER_STEM\"]={\"Performance_metrics\":metrics_KNN, \n",
        "                           \"Cross_validaiton_results\":{\"k-folds-accuracy-results\":list(CV_scores),\"MIN\":round(min(CV_scores), 5), \n",
        "                                                       \"MAX\":round(max(CV_scores),5), \"Mean\":round(np.mean(CV_scores),5), \"SD\":round(np.std(CV_scores),5)}}\n",
        "print(cr)\n",
        "print(KNN_report)\n",
        "with open(\"KNN_NER_STEM.json\", \"w\") as output:\n",
        "    json.dump(KNN_report[\"NER_STEM\"], output)\n",
        "\n",
        "\n",
        "filename = 'KNN_Level3.sav'\n",
        "dir='/content/drive/MyDrive/Capstone Project Files CS/Models/'\n",
        "pickle.dump(pipeline_SVM, open(dir+filename, 'wb'))\n",
        "\n"
      ]
    },
    {
      "cell_type": "code",
      "execution_count": null,
      "metadata": {
        "colab": {
          "base_uri": "https://localhost:8080/"
        },
        "id": "MVaLJ3WXN6e1",
        "outputId": "a13240a7-5a78-4b96-a09d-2f4064595bcd"
      },
      "outputs": [
        {
          "data": {
            "text/plain": [
              "{'classifier__leaf_size': 30, 'classifier__n_neighbors': 20}"
            ]
          },
          "execution_count": 78,
          "metadata": {},
          "output_type": "execute_result"
        }
      ],
      "source": [
        "KNN_GSCV.best_params_"
      ]
    },
    {
      "cell_type": "markdown",
      "metadata": {
        "id": "luzqg2j4Y1t0"
      },
      "source": [
        "NER"
      ]
    },
    {
      "cell_type": "code",
      "execution_count": null,
      "metadata": {
        "colab": {
          "base_uri": "https://localhost:8080/"
        },
        "id": "-9xRqY8vbpgz",
        "outputId": "b051d64f-ea7f-4e2e-db73-f353fb12d5b5"
      },
      "outputs": [
        {
          "output_type": "stream",
          "name": "stdout",
          "text": [
            "              precision    recall  f1-score   support\n",
            "\n",
            "       False       0.91      0.84      0.87       488\n",
            "        True       0.85      0.91      0.88       480\n",
            "\n",
            "    accuracy                           0.88       968\n",
            "   macro avg       0.88      0.88      0.88       968\n",
            "weighted avg       0.88      0.88      0.88       968\n",
            "\n",
            "{'NER_STEM': {'Performance_metrics': {'accuracy': 0.87707, 'precision': 0.87961, 'recall': 0.87707, 'f1': 0.87719}, 'Cross_validaiton_results': {'k-folds-accuracy-results': [0.84755, 0.86305, 0.85788, 0.88889, 0.86822, 0.89147, 0.87855, 0.87855, 0.8553, 0.90181], 'MIN': 0.84755, 'MAX': 0.90181, 'Mean': 0.87313, 'SD': 0.01672}}, 'NER': {'Performance_metrics': {'accuracy': 0.87707, 'precision': 0.87961, 'recall': 0.87707, 'f1': 0.87719}, 'Cross_validaiton_results': {'k-folds-accuracy-results': [0.84755, 0.86305, 0.85788, 0.88889, 0.86822, 0.89147, 0.87855, 0.87855, 0.8553, 0.90181], 'MIN': 0.84755, 'MAX': 0.90181, 'Mean': 0.87313, 'SD': 0.01672}}}\n"
          ]
        }
      ],
      "source": [
        "\n",
        "#CV_scores = cross_val_score(pipeline_KNN, training['tweet_text_NER'], training['label'], cv=10, verbose=0)\n",
        "#CV_scores = [round(result, 5) for result in CV_scores]\n",
        "\n",
        "pipeline_KNN.fit(training['tweet_text_NER'], training['label'])\n",
        "prediction_KNN = pipeline_KNN.predict(testing['tweet_text_NER'])\n",
        "\n",
        "cr=classification_report(testing['label'], prediction_KNN)\n",
        "metrics_KNN = get_metrics(prediction_KNN, testing['label'])\n",
        "\n",
        "KNN_report[\"NER\"]={\"Performance_metrics\":metrics_KNN, \n",
        "                           \"Cross_validaiton_results\":{\"k-folds-accuracy-results\":list(CV_scores),\"MIN\":round(min(CV_scores), 5), \n",
        "                                                       \"MAX\":round(max(CV_scores),5), \"Mean\":round(np.mean(CV_scores),5), \"SD\":round(np.std(CV_scores),5)}}\n",
        "print(cr)\n",
        "print(KNN_report)\n",
        "with open(\"KNN_NER.json\", \"w\") as output:\n",
        "    json.dump(KNN_report[\"NER\"], output)\n",
        "\n",
        "\n",
        "filename = 'KNN_Level2.sav'\n",
        "dir='/content/drive/MyDrive/Capstone Project Files CS/Models/'\n",
        "pickle.dump(pipeline_SVM, open(dir+filename, 'wb'))\n"
      ]
    },
    {
      "cell_type": "markdown",
      "metadata": {
        "id": "kT4zCMn0Zalp"
      },
      "source": [
        "Premitive"
      ]
    },
    {
      "cell_type": "code",
      "execution_count": null,
      "metadata": {
        "colab": {
          "base_uri": "https://localhost:8080/"
        },
        "id": "Ad_6H4IDZdv3",
        "outputId": "4d1317bc-5d0b-44a5-c8cc-b9e336d78cd0"
      },
      "outputs": [
        {
          "output_type": "stream",
          "name": "stdout",
          "text": [
            "              precision    recall  f1-score   support\n",
            "\n",
            "       False       0.91      0.84      0.87       488\n",
            "        True       0.85      0.92      0.88       480\n",
            "\n",
            "    accuracy                           0.88       968\n",
            "   macro avg       0.88      0.88      0.88       968\n",
            "weighted avg       0.88      0.88      0.88       968\n",
            "\n",
            "{'NER_STEM': {'Performance_metrics': {'accuracy': 0.87707, 'precision': 0.87961, 'recall': 0.87707, 'f1': 0.87719}, 'Cross_validaiton_results': {'k-folds-accuracy-results': [0.84755, 0.86305, 0.85788, 0.88889, 0.86822, 0.89147, 0.87855, 0.87855, 0.8553, 0.90181], 'MIN': 0.84755, 'MAX': 0.90181, 'Mean': 0.87313, 'SD': 0.01672}}, 'NER': {'Performance_metrics': {'accuracy': 0.87707, 'precision': 0.87961, 'recall': 0.87707, 'f1': 0.87719}, 'Cross_validaiton_results': {'k-folds-accuracy-results': [0.84755, 0.86305, 0.85788, 0.88889, 0.86822, 0.89147, 0.87855, 0.87855, 0.8553, 0.90181], 'MIN': 0.84755, 'MAX': 0.90181, 'Mean': 0.87313, 'SD': 0.01672}}, 'PRIMITIVE': {'Performance_metrics': {'accuracy': 0.8781, 'precision': 0.88143, 'recall': 0.8781, 'f1': 0.87827}, 'Cross_validaiton_results': {'k-folds-accuracy-results': [0.84238, 0.83204, 0.82946, 0.86305, 0.8553, 0.86305, 0.83979, 0.8553, 0.86305, 0.85013], 'MIN': 0.82946, 'MAX': 0.86305, 'Mean': 0.84935, 'SD': 0.01212}}}\n"
          ]
        }
      ],
      "source": [
        "\n",
        "#CV_scores = cross_val_score(pipeline_KNN, training['tweet_text'], training['label'], cv=10, verbose=0)\n",
        "#CV_scores = [round(result, 5) for result in CV_scores]\n",
        "\n",
        "pipeline_KNN.fit(training['tweet_text'], training['label'])\n",
        "prediction_KNN = pipeline_KNN.predict(testing['tweet_text'])\n",
        "\n",
        "cr=classification_report(testing['label'], prediction_KNN)\n",
        "metrics_KNN = get_metrics(prediction_KNN, testing['label'])\n",
        "\n",
        "KNN_report[\"PRIMITIVE\"]={\"Performance_metrics\":metrics_KNN, \n",
        "                           \"Cross_validaiton_results\":{\"k-folds-accuracy-results\":list(CV_scores),\"MIN\":round(min(CV_scores), 5), \n",
        "                                                       \"MAX\":round(max(CV_scores),5), \"Mean\":round(np.mean(CV_scores),5), \"SD\":round(np.std(CV_scores),5)}}\n",
        "print(cr)\n",
        "print(KNN_report)\n",
        "with open(\"KNN_PRIMITIVE.json\", \"w\") as output:\n",
        "    json.dump(KNN_report[\"PRIMITIVE\"], output)\n",
        "\n",
        "\n",
        "filename = 'KNN_Level1.sav'\n",
        "dir='/content/drive/MyDrive/Capstone Project Files CS/Models/'\n",
        "pickle.dump(pipeline_SVM, open(dir+filename, 'wb'))\n"
      ]
    },
    {
      "cell_type": "code",
      "execution_count": null,
      "metadata": {
        "colab": {
          "base_uri": "https://localhost:8080/"
        },
        "id": "-ume5Kv9EQIj",
        "outputId": "9a675d0d-5c33-4856-acb2-843550048c0e"
      },
      "outputs": [
        {
          "name": "stdout",
          "output_type": "stream",
          "text": [
            "{'SVM': {'NER_STEM': {'Performance_metrics': {'accuracy': 0.90083, 'precision': 0.90324, 'recall': 0.90083, 'f1': 0.90092}, 'Cross_validaiton_results': {'k-folds-accuracy-results': [0.85013, 0.85788, 0.85271, 0.89922, 0.88114, 0.8863, 0.87855, 0.87597, 0.86822, 0.88889], 'MIN': 0.85013, 'MAX': 0.89922, 'Mean': 0.8739, 'SD': 0.01549}}, 'NER': {'Performance_metrics': {'accuracy': 0.90702, 'precision': 0.90802, 'recall': 0.90702, 'f1': 0.90706}, 'Cross_validaiton_results': {'k-folds-accuracy-results': [0.87339, 0.86822, 0.86563, 0.8863, 0.87597, 0.8863, 0.88889, 0.88889, 0.8708, 0.87855], 'MIN': 0.86563, 'MAX': 0.88889, 'Mean': 0.87829, 'SD': 0.00837}}, 'PREMITIVE': {'Performance_metrics': {'accuracy': 0.91012, 'precision': 0.91187, 'recall': 0.91012, 'f1': 0.91018}, 'Cross_validaiton_results': {'k-folds-accuracy-results': [0.88889, 0.87339, 0.86822, 0.89664, 0.87855, 0.90439, 0.90181, 0.89922, 0.87339, 0.88889], 'MIN': 0.86822, 'MAX': 0.90439, 'Mean': 0.88734, 'SD': 0.01251}}}, 'LR': {'NER_STEM': {'Performance_metrics': {'accuracy': 0.89153, 'precision': 0.89408, 'recall': 0.89153, 'f1': 0.89164}, 'Cross_validaiton_results': {'k-folds-accuracy-results': [0.85013, 0.83721, 0.84238, 0.89147, 0.86822, 0.86563, 0.86822, 0.86822, 0.85013, 0.87597], 'MIN': 0.83721, 'MAX': 0.89147, 'Mean': 0.86176, 'SD': 0.01573}}, 'NER': {'Performance_metrics': {'accuracy': 0.89463, 'precision': 0.89602, 'recall': 0.89463, 'f1': 0.89468}, 'Cross_validaiton_results': {'k-folds-accuracy-results': [0.85788, 0.83979, 0.85013, 0.89406, 0.87339, 0.88114, 0.8708, 0.87339, 0.85013, 0.85271], 'MIN': 0.83979, 'MAX': 0.89406, 'Mean': 0.86434, 'SD': 0.01598}}, 'PREMITIVE': {'Performance_metrics': {'accuracy': 0.90599, 'precision': 0.90799, 'recall': 0.90599, 'f1': 0.90606}, 'Cross_validaiton_results': {'k-folds-accuracy-results': [0.88889, 0.86822, 0.85788, 0.8863, 0.86822, 0.89147, 0.89147, 0.87855, 0.86047, 0.88114], 'MIN': 0.85788, 'MAX': 0.89147, 'Mean': 0.87726, 'SD': 0.01208}}}, 'NB': {'NER_STEM': {'Performance_metrics': {'accuracy': 0.89669, 'precision': 0.90075, 'recall': 0.89669, 'f1': 0.89687}, 'Cross_validaiton_results': {'k-folds-accuracy-results': [0.8553, 0.86563, 0.84496, 0.8863, 0.84755, 0.87339, 0.86822, 0.86822, 0.85788, 0.87855], 'MIN': 0.84496, 'MAX': 0.8863, 'Mean': 0.8646, 'SD': 0.01256}}, 'NER': {'Performance_metrics': {'accuracy': 0.90186, 'precision': 0.90472, 'recall': 0.90186, 'f1': 0.90197}, 'Cross_validaiton_results': {'k-folds-accuracy-results': [0.87855, 0.8553, 0.84755, 0.89147, 0.85788, 0.88372, 0.88114, 0.8863, 0.85271, 0.87855], 'MIN': 0.84755, 'MAX': 0.89147, 'Mean': 0.87132, 'SD': 0.01528}}, 'PREMITIVE': {'Performance_metrics': {'accuracy': 0.90496, 'precision': 0.90767, 'recall': 0.90496, 'f1': 0.90506}, 'Cross_validaiton_results': {'k-folds-accuracy-results': [0.8863, 0.87855, 0.8708, 0.89406, 0.86047, 0.89147, 0.89664, 0.88889, 0.87339, 0.88372], 'MIN': 0.86047, 'MAX': 0.89664, 'Mean': 0.88243, 'SD': 0.01092}}}, 'DT': {'NER_STEM': {'Performance_metrics': {'accuracy': 0.80682, 'precision': 0.80696, 'recall': 0.80682, 'f1': 0.80682}, 'Cross_validaiton_results': {'k-folds-accuracy-results': [0.81654, 0.74677, 0.77778, 0.81395, 0.79587, 0.80362, 0.77778, 0.80362, 0.80103, 0.79587], 'MIN': 0.74677, 'MAX': 0.81654, 'Mean': 0.79328, 'SD': 0.01975}}, 'NER': {'Performance_metrics': {'accuracy': 0.78616, 'precision': 0.78629, 'recall': 0.78616, 'f1': 0.78618}, 'Cross_validaiton_results': {'k-folds-accuracy-results': [0.77519, 0.75969, 0.78553, 0.79587, 0.78036, 0.76744, 0.79587, 0.79328, 0.76486, 0.79328], 'MIN': 0.75969, 'MAX': 0.79587, 'Mean': 0.78114, 'SD': 0.01303}}, 'PREMITIVE': {'Performance_metrics': {'accuracy': 0.82025, 'precision': 0.82034, 'recall': 0.82025, 'f1': 0.82026}, 'Cross_validaiton_results': {'k-folds-accuracy-results': [0.8062, 0.79328, 0.79845, 0.84755, 0.82171, 0.83204, 0.78811, 0.81912, 0.7907, 0.80879], 'MIN': 0.78811, 'MAX': 0.84755, 'Mean': 0.8106, 'SD': 0.01842}}}, 'KNN': {'NER_STEM': {'Performance_metrics': {'accuracy': 0.87707, 'precision': 0.87961, 'recall': 0.87707, 'f1': 0.87719}, 'Cross_validaiton_results': {'k-folds-accuracy-results': [0.83979, 0.82429, 0.84238, 0.85013, 0.81395, 0.83463, 0.81912, 0.86822, 0.82687, 0.85013], 'MIN': 0.81395, 'MAX': 0.86822, 'Mean': 0.83695, 'SD': 0.01574}}, 'NER': {'Performance_metrics': {'accuracy': 0.87707, 'precision': 0.87961, 'recall': 0.87707, 'f1': 0.87719}, 'Cross_validaiton_results': {'k-folds-accuracy-results': [0.83979, 0.78295, 0.83463, 0.86305, 0.83979, 0.84238, 0.83204, 0.83979, 0.84496, 0.84755], 'MIN': 0.78295, 'MAX': 0.86305, 'Mean': 0.83669, 'SD': 0.01964}}, 'PRIMITIVE': {'Performance_metrics': {'accuracy': 0.8781, 'precision': 0.88143, 'recall': 0.8781, 'f1': 0.87827}, 'Cross_validaiton_results': {'k-folds-accuracy-results': [0.84238, 0.83204, 0.82946, 0.86305, 0.8553, 0.86305, 0.83979, 0.8553, 0.86305, 0.85013], 'MIN': 0.82946, 'MAX': 0.86305, 'Mean': 0.84935, 'SD': 0.01212}}}}\n"
          ]
        }
      ],
      "source": [
        "models_performance_report['KNN']=KNN_report\n",
        "print(models_performance_report)\n",
        "with open(\"models_performance_report.json\", \"w\") as output:\n",
        "    json.dump(models_performance_report, output)"
      ]
    },
    {
      "cell_type": "markdown",
      "metadata": {
        "id": "Bjrgv6yRLXx7"
      },
      "source": [
        "# XGBoost"
      ]
    },
    {
      "cell_type": "code",
      "execution_count": null,
      "metadata": {
        "id": "eqBo-2HhLbE8"
      },
      "outputs": [],
      "source": [
        "XGB_report= {}"
      ]
    },
    {
      "cell_type": "code",
      "execution_count": null,
      "metadata": {
        "id": "ZFiQesvyLecK"
      },
      "outputs": [],
      "source": [
        "pipeline_XGB = Pipeline([\n",
        "        ('count_vectorizer', CountVectorizer(stop_words=arabic_stop_words, ngram_range=(1,2))),  \n",
        "        ('tfidf_transformer', TfidfTransformer()),  \n",
        "        ('classifier', XGBClassifier())\n",
        "    ])\n",
        "\n",
        "##best n = 20, leaf =30\n",
        "\n",
        "params = {\n",
        "        'min_child_weight': [1, 5, 10],\n",
        "        'gamma': [0.5, 1, 1.5, 2, 5],\n",
        "        'subsample': [0.6, 0.8, 1.0],\n",
        "        'colsample_bytree': [0.6, 0.8, 1.0],\n",
        "        'max_depth': [3, 4, 5]\n",
        "        }"
      ]
    },
    {
      "cell_type": "markdown",
      "metadata": {
        "id": "Ece6MUGbQZCa"
      },
      "source": [
        "NER STEM"
      ]
    },
    {
      "cell_type": "code",
      "execution_count": null,
      "metadata": {
        "colab": {
          "base_uri": "https://localhost:8080/",
          "height": 235
        },
        "id": "__eFfV1YQbSw",
        "outputId": "dcc494f9-2f99-4e32-f5c6-3edff0a48ec6"
      },
      "outputs": [
        {
          "output_type": "error",
          "ename": "NameError",
          "evalue": "ignored",
          "traceback": [
            "\u001b[0;31m---------------------------------------------------------------------------\u001b[0m",
            "\u001b[0;31mNameError\u001b[0m                                 Traceback (most recent call last)",
            "\u001b[0;32m<ipython-input-51-bc964856dd06>\u001b[0m in \u001b[0;36m<module>\u001b[0;34m()\u001b[0m\n\u001b[1;32m      1\u001b[0m \u001b[0;34m\u001b[0m\u001b[0m\n\u001b[0;32m----> 2\u001b[0;31m \u001b[0mXGB_GSCV\u001b[0m \u001b[0;34m=\u001b[0m \u001b[0mGridSearchCV\u001b[0m\u001b[0;34m(\u001b[0m\u001b[0mpipeline_XGB\u001b[0m\u001b[0;34m,\u001b[0m \u001b[0mparams\u001b[0m\u001b[0;34m,\u001b[0m \u001b[0mn_jobs\u001b[0m\u001b[0;34m=\u001b[0m\u001b[0;36m3\u001b[0m\u001b[0;34m,\u001b[0m \u001b[0mverbose\u001b[0m\u001b[0;34m=\u001b[0m\u001b[0;36m2\u001b[0m\u001b[0;34m)\u001b[0m\u001b[0;34m\u001b[0m\u001b[0;34m\u001b[0m\u001b[0m\n\u001b[0m\u001b[1;32m      3\u001b[0m \u001b[0;34m\u001b[0m\u001b[0m\n\u001b[1;32m      4\u001b[0m \u001b[0mXGB_GSCV\u001b[0m\u001b[0;34m.\u001b[0m\u001b[0mfit\u001b[0m\u001b[0;34m(\u001b[0m\u001b[0mtraining\u001b[0m\u001b[0;34m[\u001b[0m\u001b[0;34m'tweet_text_NER_STEM'\u001b[0m\u001b[0;34m]\u001b[0m\u001b[0;34m,\u001b[0m \u001b[0mtraining\u001b[0m\u001b[0;34m[\u001b[0m\u001b[0;34m'label'\u001b[0m\u001b[0;34m]\u001b[0m\u001b[0;34m)\u001b[0m\u001b[0;34m\u001b[0m\u001b[0;34m\u001b[0m\u001b[0m\n\u001b[1;32m      5\u001b[0m \u001b[0mprediction_XGB\u001b[0m \u001b[0;34m=\u001b[0m \u001b[0mXGB_GSCV\u001b[0m\u001b[0;34m.\u001b[0m\u001b[0mpredict\u001b[0m\u001b[0;34m(\u001b[0m\u001b[0mtesting\u001b[0m\u001b[0;34m[\u001b[0m\u001b[0;34m'tweet_text_NER_STEM'\u001b[0m\u001b[0;34m]\u001b[0m\u001b[0;34m)\u001b[0m\u001b[0;34m\u001b[0m\u001b[0;34m\u001b[0m\u001b[0m\n",
            "\u001b[0;31mNameError\u001b[0m: name 'pipeline_XGB' is not defined"
          ]
        }
      ],
      "source": [
        "\n",
        "XGB_GSCV = GridSearchCV(pipeline_XGB, params, n_jobs=3, verbose=2)\n",
        "\n",
        "XGB_GSCV.fit(training['tweet_text_NER_STEM'], training['label'])\n",
        "prediction_XGB = XGB_GSCV.predict(testing['tweet_text_NER_STEM'])\n",
        "cr=classification_report(testing['label'], prediction_XGB)\n",
        "metrics_XGB = get_metrics(prediction_XGB, testing['label'])\n",
        "\n",
        "print(cr)\n",
        "print(metrics_XGB)\n",
        "print(XGB_GSCV.best_params_)\n",
        "\n",
        "\n",
        "filename = 'KNN_Level3.sav'\n",
        "dir='/content/drive/MyDrive/Capstone Project Files CS/Models/'\n",
        "pickle.dump(pipeline_SVM, open(dir+filename, 'wb'))"
      ]
    },
    {
      "cell_type": "code",
      "execution_count": null,
      "metadata": {
        "colab": {
          "base_uri": "https://localhost:8080/"
        },
        "id": "xahcTG5-W9VH",
        "outputId": "2a8f1e50-c8bd-48ac-e577-9e3df8ecd9df"
      },
      "outputs": [
        {
          "output_type": "stream",
          "name": "stderr",
          "text": [
            "/usr/local/lib/python3.7/dist-packages/sklearn/feature_extraction/text.py:401: UserWarning: Your stop_words may be inconsistent with your preprocessing. Tokenizing the stop words generated tokens ['آمين', 'آها', 'أب', 'أخ', 'أف', 'أفعل', 'أفعله', 'ؤلاء', 'إل', 'إليك', 'إليكن', 'إم', 'إيه', 'ات', 'اتان', 'ارتد', 'انفك', 'بخ', 'برح', 'بس', 'تان', 'تبد', 'تحو', 'تعل', 'حد', 'حم', 'حي', 'خب', 'ذار', 'ذان', 'سيما', 'شتان', 'صه', 'ظن', 'عد', 'قط', 'كأي', 'مر', 'مكان', 'مكانكن', 'نب', 'هات', 'هاك', 'هب', 'واها', 'وراء'] not in stop_words.\n",
            "  % sorted(inconsistent)\n"
          ]
        },
        {
          "output_type": "stream",
          "name": "stdout",
          "text": [
            "              precision    recall  f1-score   support\n",
            "\n",
            "       False       0.84      0.83      0.83       488\n",
            "        True       0.83      0.84      0.83       480\n",
            "\n",
            "    accuracy                           0.83       968\n",
            "   macro avg       0.83      0.83      0.83       968\n",
            "weighted avg       0.83      0.83      0.83       968\n",
            "\n",
            "{'NER_STEM': {'Performance_metrics': {'accuracy': 0.83368, 'precision': 0.83376, 'recall': 0.83368, 'f1': 0.83368}, 'Cross_validaiton_results': {'k-folds-accuracy-results': [0.84238, 0.83204, 0.82946, 0.86305, 0.8553, 0.86305, 0.83979, 0.8553, 0.86305, 0.85013], 'MIN': 0.82946, 'MAX': 0.86305, 'Mean': 0.84935, 'SD': 0.01212}}}\n"
          ]
        }
      ],
      "source": [
        "\n",
        "#CV_scores = cross_val_score(pipeline_XGB, training['tweet_text_NER_STEM'], training['label'], cv=10, verbose=0)\n",
        "#CV_scores = [round(result, 5) for result in CV_scores]\n",
        "\n",
        "pipeline_XGB.fit(training['tweet_text_NER_STEM'], training['label'])\n",
        "prediction_XGB = pipeline_XGB.predict(testing['tweet_text_NER_STEM'])\n",
        "\n",
        "cr=classification_report(testing['label'], prediction_XGB)\n",
        "metrics_XGB = get_metrics(prediction_XGB, testing['label'])\n",
        "\n",
        "XGB_report[\"NER_STEM\"]={\"Performance_metrics\":metrics_XGB, \n",
        "                           \"Cross_validaiton_results\":{\"k-folds-accuracy-results\":list(CV_scores),\"MIN\":round(min(CV_scores), 5), \n",
        "                                                       \"MAX\":round(max(CV_scores),5), \"Mean\":round(np.mean(CV_scores),5), \"SD\":round(np.std(CV_scores),5)}}\n",
        "print(cr)\n",
        "print(XGB_report)\n",
        "with open(\"XGB_NER_STEM.json\", \"w\") as output:\n",
        "    json.dump(XGB_report[\"NER_STEM\"], output)\n",
        "\n",
        "\n",
        "filename = 'XGB_Level3.sav'\n",
        "dir='/content/drive/MyDrive/Capstone Project Files CS/Models/'\n",
        "pickle.dump(pipeline_SVM, open(dir+filename, 'wb'))\n"
      ]
    },
    {
      "cell_type": "markdown",
      "metadata": {
        "id": "EPiwvknUYeg1"
      },
      "source": [
        "NER"
      ]
    },
    {
      "cell_type": "code",
      "execution_count": null,
      "metadata": {
        "colab": {
          "base_uri": "https://localhost:8080/"
        },
        "id": "8XrEt0xcYtIl",
        "outputId": "f19b8cd4-eaea-4ecb-d3ff-4030d5301224"
      },
      "outputs": [
        {
          "output_type": "stream",
          "name": "stdout",
          "text": [
            "              precision    recall  f1-score   support\n",
            "\n",
            "       False       0.79      0.78      0.79       488\n",
            "        True       0.78      0.79      0.79       480\n",
            "\n",
            "    accuracy                           0.79       968\n",
            "   macro avg       0.79      0.79      0.79       968\n",
            "weighted avg       0.79      0.79      0.79       968\n",
            "\n",
            "{'NER_STEM': {'Performance_metrics': {'accuracy': 0.83368, 'precision': 0.83376, 'recall': 0.83368, 'f1': 0.83368}, 'Cross_validaiton_results': {'k-folds-accuracy-results': [0.84238, 0.83204, 0.82946, 0.86305, 0.8553, 0.86305, 0.83979, 0.8553, 0.86305, 0.85013], 'MIN': 0.82946, 'MAX': 0.86305, 'Mean': 0.84935, 'SD': 0.01212}}, 'NER': {'Performance_metrics': {'accuracy': 0.78719, 'precision': 0.7873, 'recall': 0.78719, 'f1': 0.78719}, 'Cross_validaiton_results': {'k-folds-accuracy-results': [0.84238, 0.83204, 0.82946, 0.86305, 0.8553, 0.86305, 0.83979, 0.8553, 0.86305, 0.85013], 'MIN': 0.82946, 'MAX': 0.86305, 'Mean': 0.84935, 'SD': 0.01212}}}\n"
          ]
        }
      ],
      "source": [
        "\n",
        "#CV_scores = cross_val_score(pipeline_XGB, training['tweet_text_NER'], training['label'], cv=10, verbose=0)\n",
        "#CV_scores = [round(result, 5) for result in CV_scores]\n",
        "\n",
        "pipeline_XGB.fit(training['tweet_text_NER'], training['label'])\n",
        "prediction_XGB = pipeline_XGB.predict(testing['tweet_text_NER'])\n",
        "\n",
        "cr=classification_report(testing['label'], prediction_XGB)\n",
        "metrics_XGB = get_metrics(prediction_XGB, testing['label'])\n",
        "\n",
        "XGB_report[\"NER\"]={\"Performance_metrics\":metrics_XGB, \n",
        "                           \"Cross_validaiton_results\":{\"k-folds-accuracy-results\":list(CV_scores),\"MIN\":round(min(CV_scores), 5), \n",
        "                                                       \"MAX\":round(max(CV_scores),5), \"Mean\":round(np.mean(CV_scores),5), \"SD\":round(np.std(CV_scores),5)}}\n",
        "print(cr)\n",
        "print(XGB_report)\n",
        "with open(\"XGB_NER.json\", \"w\") as output:\n",
        "    json.dump(XGB_report[\"NER\"], output)\n",
        "\n",
        "filename = 'XGB_Level2.sav'\n",
        "dir='/content/drive/MyDrive/Capstone Project Files CS/Models/'\n",
        "pickle.dump(pipeline_SVM, open(dir+filename, 'wb'))\n"
      ]
    },
    {
      "cell_type": "markdown",
      "metadata": {
        "id": "cb2Hws4bYgmI"
      },
      "source": [
        "PRIMITIVE"
      ]
    },
    {
      "cell_type": "code",
      "execution_count": null,
      "metadata": {
        "colab": {
          "base_uri": "https://localhost:8080/"
        },
        "id": "bBjspLIvY6EG",
        "outputId": "e3ab75a0-a094-41c1-981e-6922e456261c"
      },
      "outputs": [
        {
          "output_type": "stream",
          "name": "stdout",
          "text": [
            "              precision    recall  f1-score   support\n",
            "\n",
            "       False       0.81      0.85      0.83       488\n",
            "        True       0.84      0.79      0.81       480\n",
            "\n",
            "    accuracy                           0.82       968\n",
            "   macro avg       0.82      0.82      0.82       968\n",
            "weighted avg       0.82      0.82      0.82       968\n",
            "\n",
            "{'NER_STEM': {'Performance_metrics': {'accuracy': 0.83368, 'precision': 0.83376, 'recall': 0.83368, 'f1': 0.83368}, 'Cross_validaiton_results': {'k-folds-accuracy-results': [0.84238, 0.83204, 0.82946, 0.86305, 0.8553, 0.86305, 0.83979, 0.8553, 0.86305, 0.85013], 'MIN': 0.82946, 'MAX': 0.86305, 'Mean': 0.84935, 'SD': 0.01212}}, 'NER': {'Performance_metrics': {'accuracy': 0.78719, 'precision': 0.7873, 'recall': 0.78719, 'f1': 0.78719}, 'Cross_validaiton_results': {'k-folds-accuracy-results': [0.84238, 0.83204, 0.82946, 0.86305, 0.8553, 0.86305, 0.83979, 0.8553, 0.86305, 0.85013], 'MIN': 0.82946, 'MAX': 0.86305, 'Mean': 0.84935, 'SD': 0.01212}}, 'PRIMITIVE': {'Performance_metrics': {'accuracy': 0.81921, 'precision': 0.82063, 'recall': 0.81921, 'f1': 0.81937}, 'Cross_validaiton_results': {'k-folds-accuracy-results': [0.84238, 0.83204, 0.82946, 0.86305, 0.8553, 0.86305, 0.83979, 0.8553, 0.86305, 0.85013], 'MIN': 0.82946, 'MAX': 0.86305, 'Mean': 0.84935, 'SD': 0.01212}}}\n"
          ]
        }
      ],
      "source": [
        "\n",
        "#CV_scores = cross_val_score(pipeline_XGB, training['tweet_text'], training['label'], cv=10, verbose=0)\n",
        "#CV_scores = [round(result, 5) for result in CV_scores]\n",
        "\n",
        "pipeline_XGB.fit(training['tweet_text'], training['label'])\n",
        "prediction_XGB = pipeline_XGB.predict(testing['tweet_text'])\n",
        "\n",
        "cr=classification_report(testing['label'], prediction_XGB)\n",
        "metrics_XGB = get_metrics(prediction_XGB, testing['label'])\n",
        "\n",
        "XGB_report[\"PRIMITIVE\"]={\"Performance_metrics\":metrics_XGB, \n",
        "                           \"Cross_validaiton_results\":{\"k-folds-accuracy-results\":list(CV_scores),\"MIN\":round(min(CV_scores), 5), \n",
        "                                                       \"MAX\":round(max(CV_scores),5), \"Mean\":round(np.mean(CV_scores),5), \"SD\":round(np.std(CV_scores),5)}}\n",
        "print(cr)\n",
        "print(XGB_report)\n",
        "with open(\"XGB_PRIMITIVE.json\", \"w\") as output:\n",
        "    json.dump(XGB_report[\"PRIMITIVE\"], output)\n",
        "\n",
        "\n",
        "filename = 'XGB_Level1.sav'\n",
        "dir='/content/drive/MyDrive/Capstone Project Files CS/Models/'\n",
        "pickle.dump(pipeline_SVM, open(dir+filename, 'wb'))"
      ]
    },
    {
      "cell_type": "code",
      "execution_count": null,
      "metadata": {
        "colab": {
          "base_uri": "https://localhost:8080/"
        },
        "id": "MlS0Dqk5ZJwM",
        "outputId": "4b84f730-7e7b-4080-e230-d623b743b799"
      },
      "outputs": [
        {
          "name": "stdout",
          "output_type": "stream",
          "text": [
            "{'SGD': {'NER_STEM': {'Performance_metrics': {'accuracy': 0.89566, 'precision': 0.89657, 'recall': 0.89566, 'f1': 0.89569}, 'Cross_validaiton_results': {'k-folds-accuracy-results': [0.85013, 0.84496, 0.85788, 0.88889, 0.86305, 0.8863, 0.87855, 0.86563, 0.87339, 0.88889], 'MIN': 0.84496, 'MAX': 0.88889, 'Mean': 0.86977, 'SD': 0.01516}}, 'NER': {'Performance_metrics': {'accuracy': 0.90186, 'precision': 0.90231, 'recall': 0.90186, 'f1': 0.90187}, 'Cross_validaiton_results': {'k-folds-accuracy-results': [0.86822, 0.8708, 0.85788, 0.88114, 0.86822, 0.8863, 0.88372, 0.88114, 0.87339, 0.86822], 'MIN': 0.85788, 'MAX': 0.8863, 'Mean': 0.8739, 'SD': 0.00848}}, 'PRIMITIVE': {'Performance_metrics': {'accuracy': 0.89979, 'precision': 0.90003, 'recall': 0.89979, 'f1': 0.8998}, 'Cross_validaiton_results': {'k-folds-accuracy-results': [0.89147, 0.8863, 0.86563, 0.89664, 0.87339, 0.89664, 0.89664, 0.88114, 0.88372, 0.89406], 'MIN': 0.86563, 'MAX': 0.89664, 'Mean': 0.88656, 'SD': 0.01017}}}, 'XGB': {'NER_STEM': {'Performance_metrics': {'accuracy': 0.85227, 'precision': 0.85376, 'recall': 0.85227, 'f1': 0.85235}, 'Cross_validaiton_results': {'k-folds-accuracy-results': [0.80103, 0.79845, 0.81137, 0.83979, 0.82946, 0.82171, 0.83463, 0.83721, 0.83204, 0.84496], 'MIN': 0.79845, 'MAX': 0.84496, 'Mean': 0.82506, 'SD': 0.01551}}, 'NER': {'Performance_metrics': {'accuracy': 0.81715, 'precision': 0.81802, 'recall': 0.81715, 'f1': 0.8172}, 'Cross_validaiton_results': {'k-folds-accuracy-results': [0.79587, 0.75452, 0.79328, 0.82946, 0.82171, 0.80362, 0.82171, 0.81395, 0.81137, 0.82946], 'MIN': 0.75452, 'MAX': 0.82946, 'Mean': 0.8075, 'SD': 0.02141}}, 'PRIMITIVE': {'Performance_metrics': {'accuracy': 0.85331, 'precision': 0.85333, 'recall': 0.85331, 'f1': 0.8533}, 'Cross_validaiton_results': {'k-folds-accuracy-results': [0.83979, 0.80362, 0.80362, 0.82946, 0.82687, 0.82687, 0.80879, 0.82687, 0.80103, 0.81912], 'MIN': 0.80103, 'MAX': 0.83979, 'Mean': 0.8186, 'SD': 0.01275}}}}\n"
          ]
        }
      ],
      "source": [
        "models_performance_report['XGB']=XGB_report\n",
        "print(models_performance_report)\n",
        "with open(\"models_performance_report.json\", \"w\") as output:\n",
        "    json.dump(models_performance_report, output)"
      ]
    },
    {
      "cell_type": "markdown",
      "metadata": {
        "id": "Ixm9KBzHTExW"
      },
      "source": []
    },
    {
      "cell_type": "markdown",
      "metadata": {
        "id": "d7YOud57ECGV"
      },
      "source": [
        "#Result Check JSON File and excel sheet"
      ]
    }
  ],
  "metadata": {
    "colab": {
      "provenance": []
    },
    "kernelspec": {
      "display_name": "Python 3",
      "name": "python3"
    },
    "language_info": {
      "name": "python"
    }
  },
  "nbformat": 4,
  "nbformat_minor": 0
}